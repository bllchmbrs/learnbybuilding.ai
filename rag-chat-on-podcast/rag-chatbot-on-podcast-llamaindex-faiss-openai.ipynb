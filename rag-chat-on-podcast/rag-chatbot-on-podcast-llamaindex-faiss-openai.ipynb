{
 "cells": [
  {
   "cell_type": "markdown",
   "id": "69315e6f-0b1a-4f81-845a-3604ad5c3e40",
   "metadata": {},
   "source": [
    "# Building a RAG Chatbot with LlamaIndex, FAISS, and OpenAI\n",
    "\n",
    "## What you'll learn in this post\n",
    "\n",
    "This post is going to teach you how to build a retrieval augmented generation (RAG) based chatbot on top of a podcast episode. We're going to use several tools to do that:\n",
    "\n",
    "- [LlamaIndex](https://www.llamaindex.ai/) - for orchestrating our data + LLMs\n",
    "- [Faiss](https://faiss.ai/) - for similarity search\n",
    "- [OpenAI](https://openai.com/) - as the LLM provider\n",
    "- [Unstructured.IO](https://unstructured.io/) - for unstructured data processing\n",
    "\n",
    "The end result is a pipeline that will allow us to chat with different [latent.space podcasts](https://www.latent.space/podcast).\n",
    "\n",
    "## Introducing the idea\n",
    "\n",
    "There's **so much** great information buried in podcasts. \n",
    "\n",
    "The problem is that the 'linear' nature of podcasts makes it difficult to extract insights and get information quickly. \n",
    "\n",
    "This post is going to teach you how to build a chatbot to do just that.\n",
    "\n",
    "Now... there are a number of different paid / free tools to be able to do this. I've built one called [sniplet](https://sniplet.xyz/). \n",
    "\n",
    "These kinds of applications make for a GREAT project for learning that's because they're going to show us how to wire together...\n",
    "\n",
    "- Simple data pipelines on unstructured data\n",
    "- building chat and query models\n",
    "- leveraging semantic search\n",
    "\n",
    "The goal of this tutorial is to help you better understand how to build these kinds of tools. They are not magic. We're just entering this wave of AI enabled applications that we, as developers, need to know how to build these things! \n",
    "\n",
    "Let's get right to it!\n",
    "\n",
    "### and what is RAG?\n",
    "\n",
    "In a previous post, we [built a RAG application from scratch](https://learnbybuilding.ai/tutorials/rag-from-scratch). That tutorial used 0 libraries to walk through the key concepts of RAG.\n",
    "\n",
    "For a formal definition, you should refer to the website and the paper but for our purposes.\n",
    "\n",
    "The gist of the technique is to add your own data (via some retrieval tool) into the prompt that you pass into a large language model. With that, you get a result.\n",
    "\n",
    "That gives you several benefits:\n",
    "\n",
    "1. You can include facts in the prompt to help the LLM avoid hallucinations\n",
    "2. You can (manually) refer to sources of truth when responding to a user query, helping to double check any potential issues.\n",
    "3. You can leverage data that the LLM might not have been trained on.\n",
    "\n",
    "\n",
    "For the visual learners, here's a simple diagram of a RAG query. We pull data from a database, combine that with the user query and other information into a prompt and pass that into the LLM.\n",
    "\n",
    "![The basics of a RAG query](images/anatomy-of-a-rag-query.png)\n",
    "\n",
    "## The podcast we'll be working with\n",
    "\n",
    "We've got [a podcast \"RAG Is A Hack\"](https://www.latent.space/p/llamaindex) with Jerry Liu ([twitter](https://twitter.com/jerryjliu0), [linkedin](https://www.linkedin.com/in/jerry-liu-64390071/)) on [the Latent Space podcast](https://www.latent.space/).\n",
    "\n",
    "**What better way to explore RAG than by building a RAG-based chatbot on a podcast about RAG about a tool that provides tools for building RAG applications?**\n",
    "\n",
    "What's nice about this podcast is that transcripts are INCLUDED. That means that it's easy to access the written text of the podcast. In future episodes, we'll explore getting transcripts for podcasts that don't publish transcripts but doing so is beyond the scope of this particular tutorial.\n",
    "\n",
    "## Conceptually, what are the steps to build our application?\n",
    "\n",
    "The steps are straightforward:\n",
    "\n",
    "1. Fetch the atom feed\n",
    "2. Parse that feed into something useful\n",
    "3. Look up a particular episode\n",
    "4. Get the (provided) transcript for that particular episode\n",
    "5. Index that particular transcript into a Vector Index for querying\n",
    "6. Perform Query based RAG on that input\n",
    "\n",
    "![Building a RAG application step by step](images/building-a-rag-app-step-by-step.png)\n",
    "\n",
    "## Step 1, 2, and 3: Fetching & parsing the atom feed and episode\n",
    "\n",
    "We'll start off by grabbing the ATOM feed link of the podcast."
   ]
  },
  {
   "cell_type": "code",
   "execution_count": 2,
   "id": "beaa9603-131b-4830-93bb-b0eaf7c9dc51",
   "metadata": {},
   "outputs": [],
   "source": [
    "podcast_atom_link = \"https://api.substack.com/feed/podcast/1084089.rss\" # latent space podcast"
   ]
  },
  {
   "cell_type": "markdown",
   "id": "7f21260b-3cb9-4de4-91ac-e5582b093448",
   "metadata": {},
   "source": [
    "we'll use the [feedparser](https://feedparser.readthedocs.io/en/latest/) library to parse the atom XML to something usable & structured."
   ]
  },
  {
   "cell_type": "code",
   "execution_count": 3,
   "id": "1ce91d02-ca63-497f-adef-5263f1ba1a19",
   "metadata": {},
   "outputs": [],
   "source": [
    "import feedparser"
   ]
  },
  {
   "cell_type": "code",
   "execution_count": 4,
   "id": "41403cf0-98de-40f0-9fd1-bead6f57f194",
   "metadata": {},
   "outputs": [],
   "source": [
    "parsed = feedparser.parse(podcast_atom_link)\n",
    "episode = [ep for ep in parsed.entries if ep['title'] == \"RAG Is A Hack - with Jerry Liu from LlamaIndex\"][0]"
   ]
  },
  {
   "cell_type": "code",
   "execution_count": 5,
   "id": "8c741e18-b9e9-45bd-9a61-8d28b481b743",
   "metadata": {},
   "outputs": [
    {
     "name": "stdout",
     "output_type": "stream",
     "text": [
      "<p><em>Want to help define </em><em>the AI Engineer stack</em><em>? >800 folks have weighed in on th\n"
     ]
    }
   ],
   "source": [
    "episode_summary = episode['summary']\n",
    "print(episode_summary[:100])"
   ]
  },
  {
   "cell_type": "markdown",
   "id": "2b2c8938-d276-4745-b51e-2b97df27416d",
   "metadata": {},
   "source": [
    "**Security Interlude**: Now to make sure I don't leak my OpenAI API key, I'm using a `.env` file. You can do the same!"
   ]
  },
  {
   "cell_type": "code",
   "execution_count": 6,
   "id": "9cfefc61-aa18-4439-a0d3-0ad59cc61d90",
   "metadata": {},
   "outputs": [
    {
     "data": {
      "text/plain": [
       "True"
      ]
     },
     "execution_count": 6,
     "metadata": {},
     "output_type": "execute_result"
    }
   ],
   "source": [
    "from dotenv import load_dotenv\n",
    "load_dotenv()"
   ]
  },
  {
   "cell_type": "markdown",
   "id": "59cf1590-fae0-42df-8dcc-f8303a6c0edd",
   "metadata": {},
   "source": [
    "## Step 4: Parse the summary into HTML and get the transcript\n",
    "\n",
    "Every Latent Space podcast includes an HTML based summary and in that summary is the transcript.\n",
    "\n",
    "To get at that summary, we're going to have to parse that HTML. To do that, I'm going to use a library called `unstructured`. You can read more about it on [the unstructured website](https://unstructured.io/) but, in short, it provides a number of tools for parsing different kinds of data from PDFs to html. Basically ETL for LLMs.\n",
    "\n",
    "For this, you might have to [install another couple of dependencies](https://unstructured-io.github.io/unstructured/installation/full_installation.html#xml-html-dependencies).\n",
    "\n",
    "```\n",
    "brew install libxml2\n",
    "brew install libxslt\n",
    "```\n",
    "\n",
    "Now that that's installed, it's time to parse some HTML. We're going to do that with the [partition_html](https://unstructured-io.github.io/unstructured/bricks/partition.html#partition-html) function."
   ]
  },
  {
   "cell_type": "code",
   "execution_count": 7,
   "id": "4e5cf559-5e42-40a5-a546-01a0d02f0f7e",
   "metadata": {},
   "outputs": [],
   "source": [
    "from unstructured.partition.html import partition_html\n",
    "parsed_summary = partition_html(text=''.join(episode_summary)) "
   ]
  },
  {
   "cell_type": "markdown",
   "id": "10aa8a2e-db6c-41a3-8d28-3439817b03c1",
   "metadata": {},
   "source": [
    "Easy, simple, done.\n",
    "\n",
    "Let's look at the text and find where the transcript begins.\n",
    "\n",
    "Most podcasts don't have a free transcript available (which is in part by I built [sniplet](https://sniplet.xyz/)) but the latent.space podcast (generously) does.\n",
    "\n",
    "I took a look at some episodes and the pattern is to begin the transcript with (🥁drumroll please🥁) `Transcript`."
   ]
  },
  {
   "cell_type": "code",
   "execution_count": 8,
   "id": "94187ec1-201b-4d86-9e68-b409d3091331",
   "metadata": {},
   "outputs": [
    {
     "name": "stdout",
     "output_type": "stream",
     "text": [
      "First line of the transcript: 75\n"
     ]
    }
   ],
   "source": [
    "start_of_transcript = [x.text for x in parsed_summary].index(\"Transcript\") + 1\n",
    "print(f\"First line of the transcript: {start_of_transcript}\")"
   ]
  },
  {
   "cell_type": "markdown",
   "id": "58620a9e-4fcc-4293-9c4c-e22a51cfdb65",
   "metadata": {},
   "source": [
    "## Introducing LlamaIndex\n",
    "\n",
    "### What is [LlamaIndex](https://www.llamaindex.ai/)?\n",
    "\n",
    "![llamaindex](images/llama-index-screenshot.png)\n",
    "\n",
    "> LlamaIndex is a data framework for LLM applications to ingest, structure, and access private or domain-specific data.\n",
    "\n",
    "[LlamaIndex](https://www.llamaindex.ai/) provides a number of nice tools when it comes to working with LLMs on your data.\n",
    "\n",
    "- Data connectors (for connecting to your various data sources)\n",
    "- Indexing capabilities (we'll see one of those a bit later)\n",
    "- and more!\n",
    "\n",
    "The library provides a ton of vlaue to developers but this tutorial is going to start with the basics. \n",
    "\n",
    "The first abstraction we're going to use is one you'll find in every RAG oriented library. A document abstraction.\n",
    "\n",
    "[LlamaIndex](https://www.llamaindex.ai/) provides a document interface that allows us to convert our text into a [Document](https://docs.llamaindex.ai/en/stable/core_modules/data_modules/documents_and_nodes/root.html#concept) object. We'll add all the lines from the podcast into that object type to be able to query it."
   ]
  },
  {
   "cell_type": "code",
   "execution_count": 9,
   "id": "5a221adf-b2f7-4507-b610-3cb32b4afd96",
   "metadata": {},
   "outputs": [],
   "source": [
    "from llama_index import Document"
   ]
  },
  {
   "cell_type": "code",
   "execution_count": 10,
   "id": "86061849-4184-4b8c-b897-df1f9c0edaed",
   "metadata": {},
   "outputs": [],
   "source": [
    "documents = [Document(text=t.text) for t in parsed_summary[start_of_transcript:]]"
   ]
  },
  {
   "cell_type": "markdown",
   "id": "d5936ae4-fe98-46a9-a589-167c75d4a63d",
   "metadata": {},
   "source": [
    "## Step 5: Build a `VectorStoreIndex` over that data\n",
    "\n",
    "Now we're going to be taking things to the next level and getting to the heart of the RAG system.\n",
    "\n",
    "This is going to involve a couple of substeps:\n",
    "\n",
    "1. Choose / Leverage a vector store\n",
    "2. Embed our data\n",
    "3. Query the resulting index to ask questions of the podcast\n",
    "\n",
    "We're going to operate very simply and use [Facebook AI Similarity Search](https://ai.meta.com/tools/faiss/) referred to as Faiss. Now Faiss can run on a bunch of different hardware, but for our purposes we are going to install the CPU version. Checkout [the github](https://github.com/facebookresearch/faiss) for [installation instructions](https://github.com/facebookresearch/faiss/blob/main/INSTALL.md).\n",
    "\n",
    "Faiss allows for you to search our text data effectively.\n",
    "> FAISS (Facebook AI Similarity Search) is a library that allows developers to quickly search for embeddings of multimedia documents that are similar to each other. It solves limitations of traditional query search engines that are optimized for hash-based searches, and provides more scalable similarity search functions.\n",
    "\n",
    "The [Faiss wiki](https://github.com/facebookresearch/faiss/wiki) has a great primer on similarity search.\n",
    "\n",
    "### Hold up, what the &*#@$ are embeddings and hash-based searches?\n",
    "\n",
    "Alright, let's take a pause to explain the basics. As you (hopefully) read in our [Building a RAG Application from Scratch](https://learnbybuilding.ai/posts/rag-from-scratch) post, we're going to want to do more than just search based on keywords in the transcripts. What we want to do, and what makes generative AI so exciting in some sense, is the fact that we can search by **semantics**.\n",
    "\n",
    "#### Hold up, what are semantics?\n",
    "\n",
    "Semantics are the *meaning* of a word, as opposed to just the collection of characters that we see on a screen on paper.\n",
    "\n",
    "A simple example:\n",
    "- \"It's cold outside\"\n",
    "- \"He was cold to me\"\n",
    "\n",
    "`Cold` in both of these sentences is the same word. But semantically it's different. In the first it describes temperature, in the second it describes a feeling. There are different definitions and semantics for \"cold\". Common keyword (hash-based) search wouldn't understand that but semantic search does.\n",
    "\n",
    "#### Back to the topic: embeddings\n",
    "\n",
    "Now that we've understood semantics, we can get to embeddings. Embeddings are, in simplest terms, an easy way to convert words into numbers. The numbers that we convert text into represent a vector. The distiance between two vectors represents their similarity (small distance) or difference (large distance).\n",
    "\n",
    "We're going to use [an embedding provided by OpenAI](https://platform.openai.com/docs/guides/embeddings) for this tutorial but there is a MASSIVE world of embeddings and this is an active area of research that has legs.\n",
    "\n",
    "As an aside, we could just as well use a product like [Pinecone](https://www.pinecone.io/) or [Weaviate](https://weaviate.io/) but for now. Recommendations for each one is outside of the scope of this tutorial.\n",
    "\n",
    "With some background covered, we can continue. Let's create our faiss index."
   ]
  },
  {
   "cell_type": "code",
   "execution_count": 11,
   "id": "85431cd3-d900-4a26-8365-46094261dff2",
   "metadata": {},
   "outputs": [],
   "source": [
    "import faiss\n",
    "d = 1536 # dimensions of text-ada-embedding-002, the embedding model that we're going to use\n",
    "faiss_index = faiss.IndexFlatL2(d)"
   ]
  },
  {
   "cell_type": "markdown",
   "id": "593f94ee-4379-41c7-85ec-7e650ad9c667",
   "metadata": {},
   "source": [
    "### Specifying the embedding model and query model\n",
    "\n",
    "Now we're going to use two different LLMs. We're going to use the OpenAIEmbedding as well as an OpenAI model."
   ]
  },
  {
   "cell_type": "code",
   "execution_count": 12,
   "id": "13d6196e-d04e-4066-9a4d-7189c5bdce1d",
   "metadata": {},
   "outputs": [],
   "source": [
    "from llama_index.llms import OpenAI\n",
    "from llama_index.embeddings import OpenAIEmbedding\n",
    "\n",
    "embed_model = OpenAIEmbedding()\n",
    "llm = OpenAI(model=\"gpt-4\")"
   ]
  },
  {
   "cell_type": "markdown",
   "id": "485a33bb-f4eb-46b0-a2e9-4c117edadf31",
   "metadata": {},
   "source": [
    "Now that we've done that, we need to tell the application to use them. In LlamaIndex, you do that with a [ServiceContext](https://docs.llamaindex.ai/en/stable/core_modules/supporting_modules/service_context.html)."
   ]
  },
  {
   "cell_type": "code",
   "execution_count": 13,
   "id": "10884e1e-1b96-4d83-aebd-0e42ec1eb425",
   "metadata": {},
   "outputs": [],
   "source": [
    "from llama_index import ServiceContext, set_global_service_context\n",
    "service_context = ServiceContext.from_defaults(llm=llm, embed_model=embed_model)\n",
    "set_global_service_context(service_context)"
   ]
  },
  {
   "cell_type": "markdown",
   "id": "41d2f10c-8fd9-4688-92be-6a512e90c05e",
   "metadata": {},
   "source": [
    "### Embedding and querying the data\n",
    "\n",
    "Now that we've created our index, we now need to be able to put data into that index."
   ]
  },
  {
   "cell_type": "markdown",
   "id": "8b8f3c2d-d3c3-439f-8304-d75d785cbf78",
   "metadata": {},
   "source": [
    "#### But what about costs?\n",
    "\n",
    "So far, we've spent 0 dollars. But embedding costs money (unless you're using an open source model on your local machine) as well as an LLM. Since we're using OpenAI. we can calculate our costs ahead of time (or at least an estimate), using the code below. This won't be exact but [tiktoken](https://github.com/openai/tiktoken) will tell us how much it costs to embed or pass all the tokens into the model or the embedding."
   ]
  },
  {
   "cell_type": "code",
   "execution_count": 14,
   "id": "13f1463f-abd9-4f54-a827-e7fb36b52275",
   "metadata": {},
   "outputs": [
    {
     "data": {
      "text/plain": [
       "0.0021967"
      ]
     },
     "execution_count": 14,
     "metadata": {},
     "output_type": "execute_result"
    }
   ],
   "source": [
    "import tiktoken\n",
    "e = tiktoken.encoding_for_model(\"gpt-4\")\n",
    "total_tokens = sum([len(e.encode(x.text)) for x in parsed_summary[start_of_transcript:]])\n",
    "total_tokens * 0.03 / 1000 # total cost to put into a prompt of GPT, ~60 cents\n",
    "total_tokens * 0.0001 / 1000 # total cost to embed, .002 cents"
   ]
  },
  {
   "cell_type": "code",
   "execution_count": 15,
   "id": "7856622d-dcb8-4316-96f4-3f2195c5593f",
   "metadata": {},
   "outputs": [],
   "source": [
    "from llama_index import StorageContext"
   ]
  },
  {
   "cell_type": "markdown",
   "id": "ed28afae-952d-4b33-a55c-cdc7ecae9c6b",
   "metadata": {},
   "source": [
    "#### Performing the embedding\n",
    "\n",
    "Now we can instantiate the [VectorStoreIndex](https://docs.llamaindex.ai/en/stable/core_modules/data_modules/index/vector_store_guide.html).\n",
    "\n",
    "Now we'll go ahead and instantiate the vector store and index. Note that just as we defined a `ServiceContext`, we're now going to show a [StorageContext](https://docs.llamaindex.ai/en/stable/api_reference/storage.html) which specifies where to store documents, indexes, vectors and more.\n",
    "\n",
    "You'll see that we specify `show_progress=True` to watch the embedding take place. This should only take a 10 seconds or so."
   ]
  },
  {
   "cell_type": "code",
   "execution_count": 16,
   "id": "a7107d48-48be-4029-8375-94f32248d244",
   "metadata": {},
   "outputs": [
    {
     "name": "stderr",
     "output_type": "stream",
     "text": [
      "/Users/williamchambers/miniconda3/envs/lbb/lib/python3.11/site-packages/tqdm/auto.py:21: TqdmWarning: IProgress not found. Please update jupyter and ipywidgets. See https://ipywidgets.readthedocs.io/en/stable/user_install.html\n",
      "  from .autonotebook import tqdm as notebook_tqdm\n",
      "Parsing documents into nodes: 100%|█| \n",
      "Generating embeddings: 100%|█| 300/300\n"
     ]
    }
   ],
   "source": [
    "from llama_index import VectorStoreIndex, StorageContext\n",
    "from llama_index.vector_stores.faiss import FaissVectorStore\n",
    "\n",
    "vector_store = FaissVectorStore(faiss_index=faiss_index)\n",
    "storage_context = StorageContext.from_defaults(vector_store=vector_store)\n",
    "\n",
    "index = VectorStoreIndex.from_documents(documents, storage_context=storage_context, show_progress=True)"
   ]
  },
  {
   "cell_type": "markdown",
   "id": "ecc02a1a-62ba-4a0d-92ae-461266c88034",
   "metadata": {},
   "source": [
    "Now we're ready to query the index!\n",
    "\n",
    "## Step 6: Querying Data\n",
    "\n",
    "Now we can get to querying! Let's take a look at what Jerry thinks about RAG!"
   ]
  },
  {
   "cell_type": "code",
   "execution_count": 17,
   "id": "476e571c-d0a6-4126-946b-1aa7e49b2583",
   "metadata": {},
   "outputs": [],
   "source": [
    "query = \"What does Jerry think about RAG?\"\n",
    "response = index.as_query_engine(similarity_top_k=3).query(query)"
   ]
  },
  {
   "cell_type": "code",
   "execution_count": 18,
   "id": "713ab748-5835-4876-bab2-7c98815cfb8a",
   "metadata": {},
   "outputs": [
    {
     "data": {
      "text/plain": [
       "\"Jerry believes that RAG increases transparency and visibility into documents. He also thinks that in the long term, fine tuning might memorize some high-level concepts of knowledge, and RAG will supplement aspects that it doesn't know. He suggests that improvements to RAG could involve aspects like chunking and metadata.\""
      ]
     },
     "execution_count": 18,
     "metadata": {},
     "output_type": "execute_result"
    }
   ],
   "source": [
    "response.response"
   ]
  },
  {
   "cell_type": "markdown",
   "id": "26cb6e86-6546-4a89-b3c9-c2c043f4d12f",
   "metadata": {},
   "source": [
    "The response makes a lot of sense, but where things get interesting are the references. \n",
    "\n",
    "Remember above when we talked about semantics search? Well what's happening under the hood is that the Faiss library is computing the similarities between our `query` and the hundreds of lines of text from the transcript. It finds the \"chunks\" that are most similar to our query. The \"chunking\" is a huge area of opportunity for optimization (and we'll spend a lot of time on this in later posts) but for now, we're just working with the defaults.\n",
    "\n",
    "Right now, we're each item of output by the `unstructured` library as an individual document. This isn't exactly correct, but it's sufficient for us to get a gentle introduction. We'll get to that as a follow up a bit later.\n",
    "\n",
    "Here are the \"documents\" and the similarity scores:"
   ]
  },
  {
   "cell_type": "code",
   "execution_count": 19,
   "id": "09bce231-5ba1-4664-b592-c2df5e3af353",
   "metadata": {},
   "outputs": [
    {
     "name": "stdout",
     "output_type": "stream",
     "text": [
      "0.24235212802886963 👉 Jerry: So, so I think what RAG does is it increases like transparency, visibility into the actual documents, right. [00:26:19]\n",
      "0.250153124332428 👉 Jerry: I mean, I think in the longterm, like if like, this is kind of how fine tuning, like RAG evolves. Like I do think there'll be some aspect where fine tuning will probably memorize some high level concepts of knowledge, but then like RAG will just be there to supplement like aspects of that, that aren't work that don't, that, that it doesn't know.\n",
      "0.28081560134887695 👉 Jerry: To improve rag, like everything that we talked about, like chunking, like metadata, like. [00:57:24]\n"
     ]
    }
   ],
   "source": [
    "for node in response.source_nodes:\n",
    "    print(f\"{node.get_score()} 👉 {node.text}\")"
   ]
  },
  {
   "cell_type": "markdown",
   "id": "dc01b4eb-b934-4dee-ab63-d97b57b2c457",
   "metadata": {},
   "source": [
    "Couple of things to note here:\n",
    "1. This is a pretty good summary of his perspective.\n",
    "2. The referenced 'documents' are quite short. Just a sentence or two.\n",
    "\n",
    "What about just including more results and see if we get a better answer?"
   ]
  },
  {
   "cell_type": "code",
   "execution_count": 20,
   "id": "ea6dc71c-c28a-4ccd-b57a-b0f556b9ba37",
   "metadata": {},
   "outputs": [],
   "source": [
    "query = \"What does Jerry think about RAG?\"\n",
    "response = index.as_query_engine(similarity_top_k=10).query(query)"
   ]
  },
  {
   "cell_type": "code",
   "execution_count": 21,
   "id": "e86be132-89c6-440d-90b0-28c5487bafe9",
   "metadata": {},
   "outputs": [
    {
     "name": "stdout",
     "output_type": "stream",
     "text": [
      "Jerry believes that RAG increases transparency and visibility into documents. He sees it as a tool that can supplement high-level concepts of knowledge that fine-tuning might not cover. He also mentions that RAG is currently the default way to augment knowledge. Jerry appreciates the algorithmic aspect of RAG, viewing it as a good hack that involves figuring out algorithms to retrieve the right information and stuff it into the prompt of a language model. He also sees RAG as advantageous because it allows for access control with an external storage system, something that large language models can't do. Furthermore, Jerry thinks that RAG is easier to onboard and use, making it a more accessible choice for most people compared to fine-tuning.\n"
     ]
    }
   ],
   "source": [
    "print(response.response)"
   ]
  },
  {
   "cell_type": "markdown",
   "id": "0baec9a1-9e87-4ef8-b169-ebbda65102ce",
   "metadata": {},
   "source": [
    "This answer is a bit more more nuanced because we're including more context to the model about what Jerry said throughout the podcast.\n",
    "\n",
    "We can see now that we're going to have more sources as well."
   ]
  },
  {
   "cell_type": "code",
   "execution_count": 34,
   "id": "bfa32526-ef18-4f04-8390-c5b2a062d577",
   "metadata": {},
   "outputs": [
    {
     "name": "stdout",
     "output_type": "stream",
     "text": [
      "10\n"
     ]
    }
   ],
   "source": [
    "print(len(response.source_nodes))"
   ]
  },
  {
   "cell_type": "markdown",
   "id": "8a979648-e623-4171-906f-fd52fa148726",
   "metadata": {},
   "source": [
    "This gets at something that we can tune quite a bit to evaluate how our RAG pipeline is performing.\n",
    "\n",
    "We can do things like...\n",
    "1. specify a similarity threshold (e.g., everything below 0.3)\n",
    "2. We could make chunks a bit larger\n",
    "3. We could include surrounding chunks\n",
    "\n",
    "The sky is really the limit here. What's awesome about LlamaIndex is that it can take on a lot of this heavy lifting for us."
   ]
  },
  {
   "cell_type": "markdown",
   "id": "edc08cae-12f9-477b-9155-67dca6e79ee7",
   "metadata": {},
   "source": [
    "## Querying the data with chat and memory\n",
    "\n",
    "Now we've built this query interface, but that won't include is the *history* of our conversation. We can't ask follow up questions and get more information.\n",
    "\n",
    "For that, we need to include a different [chat_mode](https://docs.llamaindex.ai/en/stable/module_guides/deploying/chat_engines/usage_pattern.html#available-chat-modes) which specifies the behavior of the chat application. Here are the currently available chat modes (as of the time of this writing):\n",
    "\n",
    "- `best` - Turn the query engine into a tool, for use with a ReAct data agent or an OpenAI data agent, depending on what your LLM supports. OpenAI data agents require gpt-3.5-turbo or gpt-4 as they use the function calling API from OpenAI.\n",
    "- `context` - Retrieve nodes from the index using every user message. The retrieved text is inserted into the system prompt, so that the chat engine can either respond naturally or use the context from the query engine.\n",
    "- `condense_question` - Look at the chat history and re-write the user message to be a query for the index. Return the response after reading the response from the query engine.\n",
    "- `simple` - A simple chat with the LLM directly, no query engine involved.\n",
    "- `react` - Same as best, but forces a ReAct data agent.\n",
    "- `openai` - Same as best, but forces an OpenAI data agent.\n",
    "\n",
    "We'll go into different chat agents in a different post. Let's get back to querying."
   ]
  },
  {
   "cell_type": "code",
   "execution_count": 30,
   "id": "8852d660-d0de-4a1b-a2b1-1b8493ee46d6",
   "metadata": {},
   "outputs": [],
   "source": [
    "query = \"What does Jerry think about RAG?\"\n",
    "chat_eng = index.as_chat_engine(similarity_top_k=10, chat_mode='context')\n",
    "response = chat_eng.chat(query)"
   ]
  },
  {
   "cell_type": "code",
   "execution_count": 31,
   "id": "fae450e5-da0f-4adb-9f16-e364dd42a163",
   "metadata": {},
   "outputs": [
    {
     "name": "stdout",
     "output_type": "stream",
     "text": [
      "Jerry believes that RAG (Retrieval-Augmented Generation) is a useful tool for increasing transparency and visibility into documents. He sees it as a way to supplement the knowledge that a fine-tuned model might not have. He also mentions that RAG is currently the default way to augment knowledge. Jerry appreciates the simplicity of RAG, describing it as a good hack that involves stuffing information into the prompt of a language model. He also sees RAG as advantageous for access control, something that can't be done with large language models. He believes that RAG is easier to use and onboard, making it a more practical choice for most people compared to fine-tuning. However, he also acknowledges that fine-tuning could potentially take over some aspects of what RAG does in the future.\n"
     ]
    }
   ],
   "source": [
    "print(response.response)"
   ]
  },
  {
   "cell_type": "code",
   "execution_count": 33,
   "id": "55746215-36a5-4013-8d3c-b4d0b8198af5",
   "metadata": {},
   "outputs": [
    {
     "name": "stdout",
     "output_type": "stream",
     "text": [
      "10\n"
     ]
    }
   ],
   "source": [
    "print(len(response.source_nodes))"
   ]
  },
  {
   "cell_type": "markdown",
   "id": "9fa82660-f8a3-4ab2-96e3-4117a596c448",
   "metadata": {},
   "source": [
    "### what makes chat different than query?\n",
    "\n",
    "With chat, we can ask follow up questions because the tool will store memory over time on our behalf. Storing memory is simpl;e, it just means saving previous questions and answers."
   ]
  },
  {
   "cell_type": "code",
   "execution_count": 27,
   "id": "074dd990-11e7-4adf-ab7b-3a4b58b022e8",
   "metadata": {},
   "outputs": [
    {
     "data": {
      "text/plain": [
       "[ChatMessage(role=<MessageRole.USER: 'user'>, content='What does Jerry think about RAG?', additional_kwargs={}),\n",
       " ChatMessage(role=<MessageRole.ASSISTANT: 'assistant'>, content=\"Jerry believes that RAG (Retrieval-Augmented Generation) is a valuable tool for increasing transparency and visibility into documents. He sees it as a way to supplement the knowledge that a fine-tuned model may not have. He also mentions that RAG can be improved through methods like chunking and metadata. \\n\\nJerry views RAG as the default way to augment knowledge and appreciates the ability to control access with RAG, which is not possible with large language models. He also sees RAG as a good hack, as it allows for the optimization of a system's weights to achieve a specific function. \\n\\nHe believes that RAG is easier to onboard and use compared to fine-tuning, making it a more accessible choice for most people. However, he also acknowledges that fine-tuning could potentially take over some aspects of what RAG does in the future.\", additional_kwargs={})]"
      ]
     },
     "execution_count": 27,
     "metadata": {},
     "output_type": "execute_result"
    }
   ],
   "source": [
    "chat_eng.chat_history"
   ]
  },
  {
   "cell_type": "markdown",
   "id": "395b1e7f-4817-4606-97cc-02b02256992e",
   "metadata": {},
   "source": [
    "Here you can see that with that follow up question, it retains the context we have so far."
   ]
  },
  {
   "cell_type": "code",
   "execution_count": 28,
   "id": "329413fd-d34e-4811-8bfa-995a46bf6e78",
   "metadata": {},
   "outputs": [],
   "source": [
    "query_2 = \"How does he think that it will evolve over time?\"\n",
    "response_2 = chat_eng.chat(query_2)"
   ]
  },
  {
   "cell_type": "code",
   "execution_count": 29,
   "id": "c508647b-1c8f-4250-b945-11156f6a8ecd",
   "metadata": {},
   "outputs": [
    {
     "name": "stdout",
     "output_type": "stream",
     "text": [
      "Jerry believes that there will be an increasing interplay between fine-tuning and RAG as time goes on. He thinks that fine-tuning will probably memorize some high-level concepts of knowledge, while RAG will be there to supplement aspects that it doesn't know. He also suggests that there might be some aspect of personalization of memory in the future, where a personalized assistant can learn behaviors over time and learn through conversation history. He believes that this will be part of the ongoing continuous fine-tuning.\n"
     ]
    }
   ],
   "source": [
    "print(response_2.response)"
   ]
  },
  {
   "cell_type": "markdown",
   "id": "a43a01c5-33db-4202-8f22-0472716f77ad",
   "metadata": {},
   "source": [
    "In production, we'll want to save the chat history so that we can tune and debug our model over time but for now we can just look at this particular memory.\n",
    "\n",
    "Memory (or rather, how we store and compress it) is another thing we can tune and there's a lot of discussion about \"memory\" in industry. \n",
    "\n",
    "If you think about it, storing information in a semantic database (e.g., the retrieval part of RAG), is a kind of \"memory\".\n",
    "\n",
    "The model itself has its own \"memory\" from all the data that it's seen.\n",
    "\n",
    "In fact, the authors of the RAG paper called this out explicitly in [their blog post](https://ai.meta.com/blog/retrieval-augmented-generation-streamlining-the-creation-of-intelligent-natural-language-processing-models/):\n",
    "\n",
    "> RAG’s true strength lies in its flexibility. Changing what a pretrained language model knows entails retraining the entire model with new documents. With RAG, we control what it knows simply by swapping out the documents it uses for knowledge retrieval.\n",
    "\n",
    "Memory and concepts of memory will evolve over the coming years, but for now what seems most practical is storing facts and references in a semantic database and letting the model / managed conversation memory handle the rest."
   ]
  },
  {
   "cell_type": "markdown",
   "id": "8145421a-7640-421e-9a56-0370b883ff06",
   "metadata": {},
   "source": [
    "### So what's happening under the hood?\n",
    "\n",
    "Alright, so we've built this application, let's talk about what's going on under the hood.\n",
    "\n",
    "The API we're using above is the \"high level\" API. It's intended to simplify the base use cases. \n",
    "In more detail, the flow we see when querying the model is:\n",
    "\n",
    "1. the `chat_engine` receives a message\n",
    "2. It gets the context that it wants to give to the model (e.g., the sources). It includes those with a prompt (we've just used the basic prompt at this point).\n",
    "3. It gets the history of the conversation\n",
    "4. It passes all of that into the LLM\n",
    "\n",
    "![the basics of a rag query](images/anatomy-of-a-rag-query.png)\n",
    "\n",
    "\n",
    "In short, llamaindex adds the message to the memory, fetches the context (from the database / retriever), then passes all of that into the LLM. Now all if this can be customized. We'll cover that information in later topics.\n",
    "\n",
    "> 🚨🚨🚨 Advanced readers only🚨🚨🚨\n",
    "> For those that want to dive super deep, take a look at the `chat_engine` [code](https://github.com/run-llama/llama_index/blob/7b9a396ad3320a99cdaac74ef3494921efa0eef3/llama_index/chat_engine/context.py#L29). The code is quite neat, so it's not hard to understand. One word of caution, don't depend on internal names in production (or even development). The LlamaIndex authors are deliberate about what's in public and what's in private. However, this will give you a better understanding of what exactly is happening under the hood."
   ]
  },
  {
   "cell_type": "markdown",
   "id": "2a5b0dfe-3942-40b0-bf62-049894d0f96d",
   "metadata": {},
   "source": [
    "## so, why is RAG a hack?\n",
    "\n",
    "The podcast title, the discussion. RAG is a hack, let's talk about why that is.\n",
    "\n",
    "At its core, RAG involves stuffing the right information into the prompt. It's no different from \"prompt engineering\" that you might be doing on your local machine - it just does that with an automated database lookup.\n",
    "\n",
    "![Why RAG is a HACK](images/why-rag-is-a-hack.png)\n",
    "\n",
    "That makes it \"inelegant\" because it's just forcing the right stuff into the prompt to get better answers. That makes it very practical and effective, but not necessarily perfect and not necessarily the most \"clean\" solution either.\n",
    "\n",
    "But if it works, it works and that's why it has so much excitement.\n",
    "\n",
    "## Final thoughts\n",
    "\n",
    "We've learned a ton in this post about building RAG applications, from basic querying to chatbots. As we discussed in our previous post, there's much to tune. In later posts, we'll discuss the details of how we can go about customizing our prompts, tuning the chunk sizes for our context and so much more!"
   ]
  },
  {
   "cell_type": "code",
   "execution_count": null,
   "id": "1b0b622e-14ed-47e0-938c-8dc61d8c806b",
   "metadata": {},
   "outputs": [],
   "source": []
  }
 ],
 "metadata": {
  "kernelspec": {
   "display_name": "Python 3 (ipykernel)",
   "language": "python",
   "name": "python3"
  },
  "language_info": {
   "codemirror_mode": {
    "name": "ipython",
    "version": 3
   },
   "file_extension": ".py",
   "mimetype": "text/x-python",
   "name": "python",
   "nbconvert_exporter": "python",
   "pygments_lexer": "ipython3",
   "version": "3.11.5"
  }
 },
 "nbformat": 4,
 "nbformat_minor": 5
}
