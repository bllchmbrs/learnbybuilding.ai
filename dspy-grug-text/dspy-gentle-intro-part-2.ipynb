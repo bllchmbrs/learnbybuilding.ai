{
 "cells": [
  {
   "cell_type": "markdown",
   "id": "a7e36400",
   "metadata": {},
   "source": [
    "# A Gentle Introduction to [DSPy](https://dspy-docs.vercel.app/) Part 2\n",
    "For grug brained developers.\n",
    "\n",
    "If you would rather *read* this, you can find it on [LearnByBuilding.AI](https://learnbybuilding.ai/tutorials/). This notebook only contains code, to get some prose along with it, check out the tutorial posted there.\n",
    "\n",
    "If you like this content, [follow me on twitter](https://twitter.com/bllchmbrs) for more! I'm posting all week about DSPy and providing a lot of \"hard earned\" lessons that I've gotten from learning the material."
   ]
  },
  {
   "cell_type": "code",
   "execution_count": 40,
   "id": "e9bf1881-96a5-4ccb-a252-637a74d310f6",
   "metadata": {},
   "outputs": [
    {
     "name": "stdout",
     "output_type": "stream",
     "text": [
      "The autoreload extension is already loaded. To reload it, use:\n",
      "  %reload_ext autoreload\n"
     ]
    }
   ],
   "source": [
    "%load_ext autoreload\n",
    "%autoreload 2"
   ]
  },
  {
   "cell_type": "code",
   "execution_count": 41,
   "id": "738cfd1b-eb5b-4311-83fa-855ed2a5e83a",
   "metadata": {},
   "outputs": [],
   "source": [
    "import lab # ignore this import, it's just for some settings / ENV vars"
   ]
  },
  {
   "cell_type": "markdown",
   "id": "0f0985f0",
   "metadata": {},
   "source": [
    "## Using a Dataset\n",
    "\n",
    "To really leverage DSPy, you're going to need datasets and examples. If you don't have that, do not pass go, do not collect $200. That is the first thing that you need, now you need to think about how to get that dataset.\n",
    "\n",
    "Be creative!"
   ]
  },
  {
   "cell_type": "code",
   "execution_count": 157,
   "id": "c53a2700-1a6f-4def-b899-e71843d1914c",
   "metadata": {},
   "outputs": [],
   "source": [
    "import dspy\n",
    "from pprint import pprint"
   ]
  },
  {
   "cell_type": "code",
   "execution_count": 158,
   "id": "782af880-08a8-48dd-ba2c-cc44cf6cfdce",
   "metadata": {},
   "outputs": [],
   "source": [
    "turbo = dspy.OpenAI(model='gpt-3.5-turbo', max_tokens=1000)\n",
    "dspy.settings.configure(lm=turbo)"
   ]
  },
  {
   "cell_type": "code",
   "execution_count": 159,
   "id": "423fbd95-5c1b-4753-aac0-4ed59526d051",
   "metadata": {},
   "outputs": [],
   "source": [
    "import json\n",
    "with open(\"dspy-examples-raw.json\") as f:\n",
    "    dataset= json.load(f)"
   ]
  },
  {
   "cell_type": "markdown",
   "id": "6bb855f9-1c39-49c7-9e3a-3f8dcbea0d03",
   "metadata": {},
   "source": [
    "Our dataset is just Grug translation."
   ]
  },
  {
   "cell_type": "code",
   "execution_count": 362,
   "id": "cd52e652-5afc-40c3-b5a0-35f58e4b02d2",
   "metadata": {},
   "outputs": [
    {
     "data": {
      "text/plain": [
       "{'grug_text': 'big brained developers are many, and some not expected to like this, make sour face',\n",
       " 'plain_english': 'Many developers have high intelligence but not all of them appreciate this, leading to some displaying displeasure.'}"
      ]
     },
     "execution_count": 362,
     "metadata": {},
     "output_type": "execute_result"
    }
   ],
   "source": [
    "dataset[3]"
   ]
  },
  {
   "cell_type": "code",
   "execution_count": 161,
   "id": "f9ede8cc",
   "metadata": {},
   "outputs": [],
   "source": [
    "examples = []\n",
    "for row in dataset:\n",
    "    examples.append(dspy.Example(grug_text=row[\"grug_text\"], plain_english=row[\"plain_english\"]).with_inputs(\"plain_english\"))"
   ]
  },
  {
   "cell_type": "code",
   "execution_count": 162,
   "id": "1e019eec",
   "metadata": {},
   "outputs": [],
   "source": [
    "from random import shuffle\n",
    "\n",
    "def split_for_train_test(values, test_size = 1/3.0):\n",
    "    shuffle(values)\n",
    "    train = int(len(values)-test_size*len(values))\n",
    "    return values[:train], values[train:]"
   ]
  },
  {
   "cell_type": "code",
   "execution_count": null,
   "id": "d6489e85-6b7b-41d4-a074-4598d6a2e2ad",
   "metadata": {},
   "outputs": [],
   "source": []
  },
  {
   "cell_type": "code",
   "execution_count": 205,
   "id": "7a03c608-dcce-4c06-aa94-a244bbcfe797",
   "metadata": {},
   "outputs": [
    {
     "name": "stdout",
     "output_type": "stream",
     "text": [
      "20\n"
     ]
    }
   ],
   "source": [
    "train, test = split_for_train_test(examples[:30])\n",
    "# limit for faster iteration for pipeline\n",
    "print(len(train))"
   ]
  },
  {
   "cell_type": "code",
   "execution_count": 206,
   "id": "3f549811",
   "metadata": {},
   "outputs": [
    {
     "name": "stdout",
     "output_type": "stream",
     "text": [
      "{'grug_text': 'sometimes compromise necessary or no shiney rock, mean no '\n",
      "              'dinosaur meat, not good, wife firmly remind grug\\n'\n",
      "              'about young grugs at home need roof, food, and so forth, no '\n",
      "              'interest in complexity demon spirit rant by grug for\\n'\n",
      "              'fiftieth time',\n",
      " 'plain_english': 'Sometimes, I have to make compromises even if it means not '\n",
      "                  'getting something shiny like a rock, which might result in '\n",
      "                  \"not having dinosaur meat. That wouldn't be good. My wife \"\n",
      "                  'always reminds me that we have young children at home who '\n",
      "                  'need a roof over their heads, food to eat, and other '\n",
      "                  'necessities. I am not interested in getting caught up in '\n",
      "                  'the complex rants about demons and spirits that I tend to '\n",
      "                  'go on about repeatedly.'}\n"
     ]
    }
   ],
   "source": [
    "pprint(train[0].toDict())"
   ]
  },
  {
   "cell_type": "code",
   "execution_count": 207,
   "id": "ea4298e0-657c-4341-b8e3-616ba791e2ce",
   "metadata": {},
   "outputs": [],
   "source": [
    "turbo = dspy.OpenAI(model='gpt-3.5-turbo', max_tokens=1000)\n",
    "dspy.settings.configure(lm=turbo)"
   ]
  },
  {
   "cell_type": "markdown",
   "id": "e28c18c2",
   "metadata": {},
   "source": [
    "## Building our signature\n",
    "\n",
    "Note, not really optimized for chat models."
   ]
  },
  {
   "cell_type": "code",
   "execution_count": 251,
   "id": "e684e719",
   "metadata": {},
   "outputs": [],
   "source": [
    "class GrugTranslation(dspy.Signature):\n",
    "    \"Translate plain english to Grug text.\"\n",
    "    plain_english = dspy.InputField()\n",
    "    grug_text = dspy.OutputField()"
   ]
  },
  {
   "cell_type": "code",
   "execution_count": 252,
   "id": "cbdd480e",
   "metadata": {},
   "outputs": [
    {
     "name": "stdout",
     "output_type": "stream",
     "text": [
      "Template(Translate plain english to Grug text., ['Plain English:', 'Grug Text:'])\n"
     ]
    }
   ],
   "source": [
    "# https://github.com/stanfordnlp/dspy/blob/1c10a9d476737533a53d6bee62c234e375eb8fcb/dsp/templates/template_v3.py#L22\n",
    "from dspy.signatures.signature import signature_to_template\n",
    "grug_translation_as_template = signature_to_template(GrugTranslation)\n",
    "print(str(grug_translation_as_template))"
   ]
  },
  {
   "cell_type": "code",
   "execution_count": 253,
   "id": "c7af283b-09a4-4fed-986f-0d154b0ec83c",
   "metadata": {},
   "outputs": [
    {
     "name": "stdout",
     "output_type": "stream",
     "text": [
      "Follow the following format.\n",
      "\n",
      "Plain English: ${plain_english}\n",
      "Grug Text: ${grug_text}\n"
     ]
    }
   ],
   "source": [
    "print(grug_translation_as_template.guidelines())"
   ]
  },
  {
   "cell_type": "code",
   "execution_count": 254,
   "id": "9e8b486c",
   "metadata": {},
   "outputs": [
    {
     "name": "stdout",
     "output_type": "stream",
     "text": [
      "Plain English: Sometimes, I have to make compromises even if it means not getting something shiny like a rock, which might result in not having dinosaur meat. That wouldn't be good. My wife always reminds me that we have young children at home who need a roof over their heads, food to eat, and other necessities. I am not interested in getting caught up in the complex rants about demons and spirits that I tend to go on about repeatedly.\n",
      "Grug Text: sometimes compromise necessary or no shiney rock, mean no dinosaur meat, not good, wife firmly remind grug about young grugs at home need roof, food, and so forth, no interest in complexity demon spirit rant by grug for fiftieth time\n"
     ]
    }
   ],
   "source": [
    "print(grug_translation_as_template.query(train[0]))"
   ]
  },
  {
   "cell_type": "markdown",
   "id": "ef642d30",
   "metadata": {},
   "source": []
  },
  {
   "cell_type": "markdown",
   "id": "adefe2f5-900c-4f60-8cbe-1885a24bb26a",
   "metadata": {},
   "source": [
    "## Running an Optimization\n",
    "\n",
    "We are skipping Zero shot prompting\n",
    "\n",
    "### Defining our metric"
   ]
  },
  {
   "cell_type": "code",
   "execution_count": 255,
   "id": "6dc6b0dd",
   "metadata": {},
   "outputs": [],
   "source": [
    "# https://apps.dtic.mil/sti/tr/pdf/AD0667273.pdf\n",
    "def automated_readability_index(text):\n",
    "    import re\n",
    "    characters = len(re.sub(r'\\s+', '', text)) # Count characters (ignoring whitespace)\n",
    "    words = len(text.split()) # Count words by splitting the text\n",
    "    sentences = len(re.findall(r'[.!?]', text)) # Count sentences by finding period, exclamation, or question mark\n",
    "    # Calculate the Automated Readability Index (ARI)\n",
    "    if words == 0 or sentences == 0:  # Prevent division by zero\n",
    "        return 0\n",
    "    \n",
    "    ari = (4.71 * (characters / words)) + (0.5 * (words / sentences)) - 21.43\n",
    "    \n",
    "    return round(ari, 2)"
   ]
  },
  {
   "cell_type": "code",
   "execution_count": 308,
   "id": "0e0e5f2a",
   "metadata": {},
   "outputs": [
    {
     "data": {
      "text/plain": [
       "(21.33, 22.24211009174312, 10.8, 11.75389908256881)"
      ]
     },
     "execution_count": 308,
     "metadata": {},
     "output_type": "execute_result"
    }
   ],
   "source": [
    "sources = []\n",
    "grugs = []\n",
    "for ex in examples:\n",
    "    source_ari = automated_readability_index(ex.plain_english)\n",
    "    grug_ari = automated_readability_index(ex.grug_text)\n",
    "    grugs.append(grug_ari)\n",
    "    sources.append(source_ari)\n",
    "\n",
    "np.median(sources), np.mean(sources), np.median(grugs), np.mean(grugs)"
   ]
  },
  {
   "cell_type": "markdown",
   "id": "e70ea280",
   "metadata": {},
   "source": [
    "## First Metric: Readability"
   ]
  },
  {
   "cell_type": "code",
   "execution_count": 329,
   "id": "5d154917",
   "metadata": {},
   "outputs": [],
   "source": [
    "def ari_metric(truth, pred, trace=None):\n",
    "    truth_grug_text = truth.grug_text\n",
    "    proposed_grug_text = pred.grug_text\n",
    "    \n",
    "    gold_ari = automated_readability_index(truth_grug_text)\n",
    "    pred_ari = automated_readability_index(proposed_grug_text)\n",
    "\n",
    "    ari_result = pred_ari <= 4.5\n",
    "    return ari_result"
   ]
  },
  {
   "cell_type": "markdown",
   "id": "cdbac35c",
   "metadata": {},
   "source": [
    "## Second Metric: Use a better Model to tune"
   ]
  },
  {
   "cell_type": "code",
   "execution_count": 330,
   "id": "9af7c02a",
   "metadata": {},
   "outputs": [],
   "source": [
    "gpt4T = dspy.OpenAI(model='gpt-4o', max_tokens=100, model_type='chat')\n",
    "\n",
    "# https://dspy-docs.vercel.app/docs/building-blocks/metrics#intermediate-using-ai-feedback-for-your-metric\n",
    "class AssessBasedOnQuestion(dspy.Signature):\n",
    "    \"\"\"Given the assessed text, provide a yes or no to the assessment question. Do not provide any other text.\"\"\"\n",
    "\n",
    "    assessed_text = dspy.InputField(format=str)\n",
    "    assessment_question = dspy.InputField(format=str)\n",
    "    assessment_answer = dspy.OutputField(desc=\"yes or no\")"
   ]
  },
  {
   "cell_type": "markdown",
   "id": "36979c76",
   "metadata": {},
   "source": [
    "Again, this is just a prompt..."
   ]
  },
  {
   "cell_type": "code",
   "execution_count": 331,
   "id": "8e09c7cb-0bf6-4551-8e91-ca91c3745d21",
   "metadata": {},
   "outputs": [
    {
     "name": "stdout",
     "output_type": "stream",
     "text": [
      "Follow the following format.\n",
      "\n",
      "Assessed Text: ${assessed_text}\n",
      "Assessment Question: ${assessment_question}\n",
      "Assessment Answer: yes or no\n"
     ]
    }
   ],
   "source": [
    "print(signature_to_template(AssessBasedOnQuestion).guidelines())"
   ]
  },
  {
   "cell_type": "code",
   "execution_count": 332,
   "id": "a078a62a",
   "metadata": {},
   "outputs": [
    {
     "name": "stdout",
     "output_type": "stream",
     "text": [
      "Assessed Text: This is a test.\n",
      "Assessment Question: Is this a test?\n",
      "Assessment Answer: yes\n"
     ]
    }
   ],
   "source": [
    "example_question_assessment = dspy.Example(assessed_text=\"This is a test.\", assessment_question=\"Is this a test?\", assessment_answer=\"yes\").with_inputs(\"assessed_text\", \"assessment_question\")\n",
    "print(signature_to_template(AssessBasedOnQuestion).query(example_question_assessment))"
   ]
  },
  {
   "cell_type": "markdown",
   "id": "54225e58-a987-4be7-81cf-7f48a9a44b2b",
   "metadata": {},
   "source": [
    "> one note, it's technically, I believe, a `Prediction` object. But Predictions [code reference](https://dspy-docs.vercel.app/docs/deep-dive/signature/executing-signatures#how-predict-works) mirror example functionality."
   ]
  },
  {
   "cell_type": "code",
   "execution_count": 333,
   "id": "6d20ebb1",
   "metadata": {},
   "outputs": [],
   "source": [
    "def similarity_metric(truth, pred, trace=None):\n",
    "    truth_grug_text = truth.grug_text\n",
    "    proposed_grug_text = pred.grug_text\n",
    "    similarity_question = f\"\"\"Does the assessed text have the same meaning as the gold standard text?\n",
    "\n",
    "Gold Standard: \"{truth_grug_text}\"\n",
    "\n",
    "Provide only a yes or no answer.\"\"\"\n",
    "\n",
    "    with dspy.context(lm=gpt4T):\n",
    "        assessor = dspy.Predict(AssessBasedOnQuestion)\n",
    "        raw_similarity_result = assessor(assessed_text=proposed_grug_text, assessment_question=similarity_question)\n",
    "    raw_similarity = raw_similarity_result.assessment_answer.lower().strip()\n",
    "    if len(raw_similarity) > 3:\n",
    "        print(raw_similarity)\n",
    "    same_meaning = raw_similarity == 'yes'\n",
    "    return same_meaning"
   ]
  },
  {
   "cell_type": "code",
   "execution_count": 334,
   "id": "863b4b14-8bc5-4ade-9ea8-f9d378c25afc",
   "metadata": {},
   "outputs": [],
   "source": [
    "def overall_metric(provided_example, predicted, trace=None):\n",
    "    similarity = similarity_metric(provided_example, predicted, trace)\n",
    "    ari = ari_metric(provided_example, predicted, trace)\n",
    "\n",
    "    if similarity and ari:\n",
    "        return True\n",
    "    return False"
   ]
  },
  {
   "cell_type": "code",
   "execution_count": 335,
   "id": "d92ce3f6-8986-43ae-abb5-3589dfdbd480",
   "metadata": {},
   "outputs": [],
   "source": [
    "from dspy.evaluate import Evaluate\n",
    "individual_metrics = [similarity_metric, ari_metric]\n",
    "\n",
    "def run_evals(optimized_model):\n",
    "    for metric in individual_metrics:\n",
    "        evaluate = Evaluate(metric=metric, devset=test[:5], num_threads=1, display_table=5)\n",
    "        evaluate(optimized_model)\n",
    "\n",
    "def run_overall_eval(optimized_model):\n",
    "    evaluate = Evaluate(metric=overall_metric, devset=test[:5], num_threads=1, display_table=5)\n",
    "    return evaluate(optimized_model)"
   ]
  },
  {
   "cell_type": "code",
   "execution_count": 336,
   "id": "505690b7-2382-497f-bb93-20e51dee5bba",
   "metadata": {},
   "outputs": [],
   "source": [
    "manual_test_case = \"I don't like to construct complex systems. Building these systems are difficult and error prone.\""
   ]
  },
  {
   "cell_type": "code",
   "execution_count": 337,
   "id": "f397ba80-ebc8-4540-9198-c9cfdff9c912",
   "metadata": {},
   "outputs": [],
   "source": [
    "class CoT(dspy.Module):\n",
    "    def __init__(self):\n",
    "        super().__init__()\n",
    "        self.prog = dspy.ChainOfThought(GrugTranslation)\n",
    "    \n",
    "    def forward(self, plain_english):\n",
    "        return self.prog(plain_english=plain_english)"
   ]
  },
  {
   "cell_type": "code",
   "execution_count": 338,
   "id": "ca41381c-bde4-4cda-987c-580d0b8ab5f6",
   "metadata": {},
   "outputs": [
    {
     "data": {
      "text/plain": [
       "Prediction(\n",
       "    rationale='produce the grug_text. We will simplify the language and focus on basic concepts.',\n",
       "    grug_text='Grug no like make big things. Big things hard and easy to mess up.'\n",
       ")"
      ]
     },
     "execution_count": 338,
     "metadata": {},
     "output_type": "execute_result"
    }
   ],
   "source": [
    "zeroshot = CoT()\n",
    "zeroshot.forward(plain_english=manual_test_case)"
   ]
  },
  {
   "cell_type": "code",
   "execution_count": 339,
   "id": "f0842801-d496-4e56-bd8e-c5cf7ce8abc9",
   "metadata": {},
   "outputs": [
    {
     "data": {
      "text/html": [
       "<style type=\"text/css\">\n",
       "#T_06d1b th {\n",
       "  text-align: left;\n",
       "}\n",
       "#T_06d1b td {\n",
       "  text-align: left;\n",
       "}\n",
       "#T_06d1b_row0_col0, #T_06d1b_row0_col1, #T_06d1b_row0_col2, #T_06d1b_row0_col3, #T_06d1b_row0_col4, #T_06d1b_row1_col0, #T_06d1b_row1_col1, #T_06d1b_row1_col2, #T_06d1b_row1_col3, #T_06d1b_row1_col4, #T_06d1b_row2_col0, #T_06d1b_row2_col1, #T_06d1b_row2_col2, #T_06d1b_row2_col3, #T_06d1b_row2_col4, #T_06d1b_row3_col0, #T_06d1b_row3_col1, #T_06d1b_row3_col2, #T_06d1b_row3_col3, #T_06d1b_row3_col4, #T_06d1b_row4_col0, #T_06d1b_row4_col1, #T_06d1b_row4_col2, #T_06d1b_row4_col3, #T_06d1b_row4_col4 {\n",
       "  text-align: left;\n",
       "  white-space: pre-wrap;\n",
       "  word-wrap: break-word;\n",
       "  max-width: 400px;\n",
       "}\n",
       "</style>\n",
       "<table id=\"T_06d1b\">\n",
       "  <thead>\n",
       "    <tr>\n",
       "      <th class=\"blank level0\" >&nbsp;</th>\n",
       "      <th id=\"T_06d1b_level0_col0\" class=\"col_heading level0 col0\" >example_grug_text</th>\n",
       "      <th id=\"T_06d1b_level0_col1\" class=\"col_heading level0 col1\" >plain_english</th>\n",
       "      <th id=\"T_06d1b_level0_col2\" class=\"col_heading level0 col2\" >rationale</th>\n",
       "      <th id=\"T_06d1b_level0_col3\" class=\"col_heading level0 col3\" >pred_grug_text</th>\n",
       "      <th id=\"T_06d1b_level0_col4\" class=\"col_heading level0 col4\" >similarity_metric</th>\n",
       "    </tr>\n",
       "  </thead>\n",
       "  <tbody>\n",
       "    <tr>\n",
       "      <th id=\"T_06d1b_level0_row0\" class=\"row_heading level0 row0\" >0</th>\n",
       "      <td id=\"T_06d1b_row0_col0\" class=\"data row0 col0\" >this make it ok for junior grugs to admit too complex and not understand as well, often such case! FOLD major source of complexity demon...</td>\n",
       "      <td id=\"T_06d1b_row0_col1\" class=\"data row0 col1\" >This emphasizes that it's okay for novice developers like me to acknowledge when something is too complex to understand fully. In such situations, the complexity...</td>\n",
       "      <td id=\"T_06d1b_row0_col2\" class=\"data row0 col2\" >produce the grug_text. We will simplify the language and focus on basic concepts that Grug can understand.</td>\n",
       "      <td id=\"T_06d1b_row0_col3\" class=\"data row0 col3\" >Me not smart like big developers. Me say okay to not understand hard things. Hard things make head hurt. Me young developer, so hard things...</td>\n",
       "      <td id=\"T_06d1b_row0_col4\" class=\"data row0 col4\" >False</td>\n",
       "    </tr>\n",
       "    <tr>\n",
       "      <th id=\"T_06d1b_level0_row1\" class=\"row_heading level0 row1\" >1</th>\n",
       "      <td id=\"T_06d1b_row1_col0\" class=\"data row1 col0\" >\"no, grug not build that abstraction\"</td>\n",
       "      <td id=\"T_06d1b_row1_col1\" class=\"data row1 col1\" >I, Grug, did not create that abstract concept or idea.</td>\n",
       "      <td id=\"T_06d1b_row1_col2\" class=\"data row1 col2\" >produce the grug_text. We need to simplify the language and make it sound like Grug is speaking.</td>\n",
       "      <td id=\"T_06d1b_row1_col3\" class=\"data row1 col3\" >Grug not make that thing with big words or thoughts.</td>\n",
       "      <td id=\"T_06d1b_row1_col4\" class=\"data row1 col4\" >False</td>\n",
       "    </tr>\n",
       "    <tr>\n",
       "      <th id=\"T_06d1b_level0_row2\" class=\"row_heading level0 row2\" >2</th>\n",
       "      <td id=\"T_06d1b_row2_col0\" class=\"data row2 col0\" >in-between tests, grug hear shaman call \"integration tests\" sometime often with sour look on face. but grug say integration test sweet spot according to grug:...</td>\n",
       "      <td id=\"T_06d1b_row2_col1\" class=\"data row2 col1\" >During my work, I often hear experienced colleagues mention \"integration tests\" with a hint of disapproval on their faces. However, I believe that integration tests...</td>\n",
       "      <td id=\"T_06d1b_row2_col2\" class=\"data row2 col2\" >produce the grug_text. We will simplify the language and focus on the basic idea of testing systems.</td>\n",
       "      <td id=\"T_06d1b_row2_col3\" class=\"data row2 col3\" >Me work, me hear smart friends talk about \"integration tests\" with funny face. But me think integration tests important. They check if system work right...</td>\n",
       "      <td id=\"T_06d1b_row2_col4\" class=\"data row2 col4\" >False</td>\n",
       "    </tr>\n",
       "    <tr>\n",
       "      <th id=\"T_06d1b_level0_row3\" class=\"row_heading level0 row3\" >3</th>\n",
       "      <td id=\"T_06d1b_row3_col0\" class=\"data row3 col0\" >many developers Fear Of Looking Dumb (FOLD), grug also at one time FOLD, but grug learn get over: very important senior grug say \"this too...</td>\n",
       "      <td id=\"T_06d1b_row3_col1\" class=\"data row3 col1\" >As a software developer, I understand the fear of looking ignorant when faced with complex problems. I used to experience this fear myself. However, over...</td>\n",
       "      <td id=\"T_06d1b_row3_col2\" class=\"data row3 col2\" >produce the grug_text. We will simplify the language and focus on basic concepts that Grug can understand.</td>\n",
       "      <td id=\"T_06d1b_row3_col3\" class=\"data row3 col3\" >Grug not smart like software maker. Grug scared of hard problems. Grug ask for help and learn. It okay to say when something too hard.</td>\n",
       "      <td id=\"T_06d1b_row3_col4\" class=\"data row3 col4\" >False</td>\n",
       "    </tr>\n",
       "    <tr>\n",
       "      <th id=\"T_06d1b_level0_row4\" class=\"row_heading level0 row4\" >4</th>\n",
       "      <td id=\"T_06d1b_row4_col0\" class=\"data row4 col0\" >temptation generics very large is trick!  spirit demon complex love this one trick! beware!</td>\n",
       "      <td id=\"T_06d1b_row4_col1\" class=\"data row4 col1\" >The urge to use generics extensively can be tempting, but it can be deceptive and lead us into a complex and challenging situation. I believe...</td>\n",
       "      <td id=\"T_06d1b_row4_col2\" class=\"data row4 col2\" >produce the grug_text. We will simplify the idea of using generics and warn others about the dangers of using them too much.</td>\n",
       "      <td id=\"T_06d1b_row4_col3\" class=\"data row4 col3\" >Grug think using fancy things like generics can be tricky. Grug say be careful, too much can make big problem.</td>\n",
       "      <td id=\"T_06d1b_row4_col4\" class=\"data row4 col4\" >False</td>\n",
       "    </tr>\n",
       "  </tbody>\n",
       "</table>\n"
      ],
      "text/plain": [
       "<pandas.io.formats.style.Styler at 0x11f9dcbd0>"
      ]
     },
     "metadata": {},
     "output_type": "display_data"
    },
    {
     "data": {
      "text/html": [
       "<style type=\"text/css\">\n",
       "#T_8d969 th {\n",
       "  text-align: left;\n",
       "}\n",
       "#T_8d969 td {\n",
       "  text-align: left;\n",
       "}\n",
       "#T_8d969_row0_col0, #T_8d969_row0_col1, #T_8d969_row0_col2, #T_8d969_row0_col3, #T_8d969_row0_col4, #T_8d969_row1_col0, #T_8d969_row1_col1, #T_8d969_row1_col2, #T_8d969_row1_col3, #T_8d969_row1_col4, #T_8d969_row2_col0, #T_8d969_row2_col1, #T_8d969_row2_col2, #T_8d969_row2_col3, #T_8d969_row2_col4, #T_8d969_row3_col0, #T_8d969_row3_col1, #T_8d969_row3_col2, #T_8d969_row3_col3, #T_8d969_row3_col4, #T_8d969_row4_col0, #T_8d969_row4_col1, #T_8d969_row4_col2, #T_8d969_row4_col3, #T_8d969_row4_col4 {\n",
       "  text-align: left;\n",
       "  white-space: pre-wrap;\n",
       "  word-wrap: break-word;\n",
       "  max-width: 400px;\n",
       "}\n",
       "</style>\n",
       "<table id=\"T_8d969\">\n",
       "  <thead>\n",
       "    <tr>\n",
       "      <th class=\"blank level0\" >&nbsp;</th>\n",
       "      <th id=\"T_8d969_level0_col0\" class=\"col_heading level0 col0\" >example_grug_text</th>\n",
       "      <th id=\"T_8d969_level0_col1\" class=\"col_heading level0 col1\" >plain_english</th>\n",
       "      <th id=\"T_8d969_level0_col2\" class=\"col_heading level0 col2\" >rationale</th>\n",
       "      <th id=\"T_8d969_level0_col3\" class=\"col_heading level0 col3\" >pred_grug_text</th>\n",
       "      <th id=\"T_8d969_level0_col4\" class=\"col_heading level0 col4\" >ari_metric</th>\n",
       "    </tr>\n",
       "  </thead>\n",
       "  <tbody>\n",
       "    <tr>\n",
       "      <th id=\"T_8d969_level0_row0\" class=\"row_heading level0 row0\" >0</th>\n",
       "      <td id=\"T_8d969_row0_col0\" class=\"data row0 col0\" >this make it ok for junior grugs to admit too complex and not understand as well, often such case! FOLD major source of complexity demon...</td>\n",
       "      <td id=\"T_8d969_row0_col1\" class=\"data row0 col1\" >This emphasizes that it's okay for novice developers like me to acknowledge when something is too complex to understand fully. In such situations, the complexity...</td>\n",
       "      <td id=\"T_8d969_row0_col2\" class=\"data row0 col2\" >produce the grug_text. We will simplify the language and focus on basic concepts that Grug can understand.</td>\n",
       "      <td id=\"T_8d969_row0_col3\" class=\"data row0 col3\" >Me not smart like big developers. Me say okay to not understand hard things. Hard things make head hurt. Me young developer, so hard things...</td>\n",
       "      <td id=\"T_8d969_row0_col4\" class=\"data row0 col4\" >False</td>\n",
       "    </tr>\n",
       "    <tr>\n",
       "      <th id=\"T_8d969_level0_row1\" class=\"row_heading level0 row1\" >1</th>\n",
       "      <td id=\"T_8d969_row1_col0\" class=\"data row1 col0\" >\"no, grug not build that abstraction\"</td>\n",
       "      <td id=\"T_8d969_row1_col1\" class=\"data row1 col1\" >I, Grug, did not create that abstract concept or idea.</td>\n",
       "      <td id=\"T_8d969_row1_col2\" class=\"data row1 col2\" >produce the grug_text. We need to simplify the language and make it sound like Grug is speaking.</td>\n",
       "      <td id=\"T_8d969_row1_col3\" class=\"data row1 col3\" >Grug not make that thing with big words or thoughts.</td>\n",
       "      <td id=\"T_8d969_row1_col4\" class=\"data row1 col4\" >✔️ [True]</td>\n",
       "    </tr>\n",
       "    <tr>\n",
       "      <th id=\"T_8d969_level0_row2\" class=\"row_heading level0 row2\" >2</th>\n",
       "      <td id=\"T_8d969_row2_col0\" class=\"data row2 col0\" >in-between tests, grug hear shaman call \"integration tests\" sometime often with sour look on face. but grug say integration test sweet spot according to grug:...</td>\n",
       "      <td id=\"T_8d969_row2_col1\" class=\"data row2 col1\" >During my work, I often hear experienced colleagues mention \"integration tests\" with a hint of disapproval on their faces. However, I believe that integration tests...</td>\n",
       "      <td id=\"T_8d969_row2_col2\" class=\"data row2 col2\" >produce the grug_text. We will simplify the language and focus on the basic idea of testing systems.</td>\n",
       "      <td id=\"T_8d969_row2_col3\" class=\"data row2 col3\" >Me work, me hear smart friends talk about \"integration tests\" with funny face. But me think integration tests important. They check if system work right...</td>\n",
       "      <td id=\"T_8d969_row2_col4\" class=\"data row2 col4\" >False</td>\n",
       "    </tr>\n",
       "    <tr>\n",
       "      <th id=\"T_8d969_level0_row3\" class=\"row_heading level0 row3\" >3</th>\n",
       "      <td id=\"T_8d969_row3_col0\" class=\"data row3 col0\" >many developers Fear Of Looking Dumb (FOLD), grug also at one time FOLD, but grug learn get over: very important senior grug say \"this too...</td>\n",
       "      <td id=\"T_8d969_row3_col1\" class=\"data row3 col1\" >As a software developer, I understand the fear of looking ignorant when faced with complex problems. I used to experience this fear myself. However, over...</td>\n",
       "      <td id=\"T_8d969_row3_col2\" class=\"data row3 col2\" >produce the grug_text. We will simplify the language and focus on basic concepts that Grug can understand.</td>\n",
       "      <td id=\"T_8d969_row3_col3\" class=\"data row3 col3\" >Grug not smart like software maker. Grug scared of hard problems. Grug ask for help and learn. It okay to say when something too hard.</td>\n",
       "      <td id=\"T_8d969_row3_col4\" class=\"data row3 col4\" >False</td>\n",
       "    </tr>\n",
       "    <tr>\n",
       "      <th id=\"T_8d969_level0_row4\" class=\"row_heading level0 row4\" >4</th>\n",
       "      <td id=\"T_8d969_row4_col0\" class=\"data row4 col0\" >temptation generics very large is trick!  spirit demon complex love this one trick! beware!</td>\n",
       "      <td id=\"T_8d969_row4_col1\" class=\"data row4 col1\" >The urge to use generics extensively can be tempting, but it can be deceptive and lead us into a complex and challenging situation. I believe...</td>\n",
       "      <td id=\"T_8d969_row4_col2\" class=\"data row4 col2\" >produce the grug_text. We will simplify the idea of using generics and warn others about the dangers of using them too much.</td>\n",
       "      <td id=\"T_8d969_row4_col3\" class=\"data row4 col3\" >Grug think using fancy things like generics can be tricky. Grug say be careful, too much can make big problem.</td>\n",
       "      <td id=\"T_8d969_row4_col4\" class=\"data row4 col4\" >False</td>\n",
       "    </tr>\n",
       "  </tbody>\n",
       "</table>\n"
      ],
      "text/plain": [
       "<pandas.io.formats.style.Styler at 0x1201bdbd0>"
      ]
     },
     "metadata": {},
     "output_type": "display_data"
    }
   ],
   "source": [
    "run_evals(zeroshot)"
   ]
  },
  {
   "cell_type": "markdown",
   "id": "5b4bb0e2-2ebe-4d18-9f5b-a3030b0f916d",
   "metadata": {},
   "source": [
    "## The cheatsheet is now our best friend :)\n",
    "https://dspy-docs.vercel.app/docs/cheatsheet#dspy-optimizers"
   ]
  },
  {
   "cell_type": "code",
   "execution_count": 340,
   "id": "32909403-fe57-4ed0-87df-6ff6d7c8beba",
   "metadata": {},
   "outputs": [],
   "source": [
    "from dspy.teleprompt import LabeledFewShot\n",
    "config = dict(k=8)\n",
    "optimizer = LabeledFewShot(**config)\n",
    "optimizer.max_errors=1\n",
    "fewshot = optimizer.compile(CoT(), trainset=train)"
   ]
  },
  {
   "cell_type": "code",
   "execution_count": 341,
   "id": "8fc24be4-9779-4d60-81ff-ab9ac090c924",
   "metadata": {},
   "outputs": [
    {
     "data": {
      "text/plain": [
       "Prediction(\n",
       "    rationale=\"produce the grug_text. We want to emphasize Grug's preference for simplicity and his dislike for complicated things.\",\n",
       "    grug_text='grug no like make big hard system. make system hard and many mistake happen.'\n",
       ")"
      ]
     },
     "execution_count": 341,
     "metadata": {},
     "output_type": "execute_result"
    }
   ],
   "source": [
    "fewshot.forward(\"I don't like to construct complex systems. Building these systems are difficult and error prone.\")"
   ]
  },
  {
   "cell_type": "code",
   "execution_count": 342,
   "id": "c2ff4a10-2adb-4933-a7fb-1911e07beb19",
   "metadata": {},
   "outputs": [
    {
     "data": {
      "text/html": [
       "<style type=\"text/css\">\n",
       "#T_e027b th {\n",
       "  text-align: left;\n",
       "}\n",
       "#T_e027b td {\n",
       "  text-align: left;\n",
       "}\n",
       "#T_e027b_row0_col0, #T_e027b_row0_col1, #T_e027b_row0_col2, #T_e027b_row0_col3, #T_e027b_row0_col4, #T_e027b_row1_col0, #T_e027b_row1_col1, #T_e027b_row1_col2, #T_e027b_row1_col3, #T_e027b_row1_col4, #T_e027b_row2_col0, #T_e027b_row2_col1, #T_e027b_row2_col2, #T_e027b_row2_col3, #T_e027b_row2_col4, #T_e027b_row3_col0, #T_e027b_row3_col1, #T_e027b_row3_col2, #T_e027b_row3_col3, #T_e027b_row3_col4, #T_e027b_row4_col0, #T_e027b_row4_col1, #T_e027b_row4_col2, #T_e027b_row4_col3, #T_e027b_row4_col4 {\n",
       "  text-align: left;\n",
       "  white-space: pre-wrap;\n",
       "  word-wrap: break-word;\n",
       "  max-width: 400px;\n",
       "}\n",
       "</style>\n",
       "<table id=\"T_e027b\">\n",
       "  <thead>\n",
       "    <tr>\n",
       "      <th class=\"blank level0\" >&nbsp;</th>\n",
       "      <th id=\"T_e027b_level0_col0\" class=\"col_heading level0 col0\" >example_grug_text</th>\n",
       "      <th id=\"T_e027b_level0_col1\" class=\"col_heading level0 col1\" >plain_english</th>\n",
       "      <th id=\"T_e027b_level0_col2\" class=\"col_heading level0 col2\" >rationale</th>\n",
       "      <th id=\"T_e027b_level0_col3\" class=\"col_heading level0 col3\" >pred_grug_text</th>\n",
       "      <th id=\"T_e027b_level0_col4\" class=\"col_heading level0 col4\" >similarity_metric</th>\n",
       "    </tr>\n",
       "  </thead>\n",
       "  <tbody>\n",
       "    <tr>\n",
       "      <th id=\"T_e027b_level0_row0\" class=\"row_heading level0 row0\" >0</th>\n",
       "      <td id=\"T_e027b_row0_col0\" class=\"data row0 col0\" >this make it ok for junior grugs to admit too complex and not understand as well, often such case! FOLD major source of complexity demon...</td>\n",
       "      <td id=\"T_e027b_row0_col1\" class=\"data row0 col1\" >This emphasizes that it's okay for novice developers like me to acknowledge when something is too complex to understand fully. In such situations, the complexity...</td>\n",
       "      <td id=\"T_e027b_row0_col2\" class=\"data row0 col2\" >produce the grug_text. We need to simplify the idea of acknowledging complexity and feeling overwhelmed.</td>\n",
       "      <td id=\"T_e027b_row0_col3\" class=\"data row0 col3\" >grug say, it okay for new grugs like me to admit when thing too hard to understand. when task too much, feel like no control....</td>\n",
       "      <td id=\"T_e027b_row0_col4\" class=\"data row0 col4\" >False</td>\n",
       "    </tr>\n",
       "    <tr>\n",
       "      <th id=\"T_e027b_level0_row1\" class=\"row_heading level0 row1\" >1</th>\n",
       "      <td id=\"T_e027b_row1_col0\" class=\"data row1 col0\" >\"no, grug not build that abstraction\"</td>\n",
       "      <td id=\"T_e027b_row1_col1\" class=\"data row1 col1\" >I, Grug, did not create that abstract concept or idea.</td>\n",
       "      <td id=\"T_e027b_row1_col2\" class=\"data row1 col2\" >produce the grug_text. We need to simplify the language and make it sound like Grug is talking about himself in the third person.</td>\n",
       "      <td id=\"T_e027b_row1_col3\" class=\"data row1 col3\" >Grug not make that fancy idea or thing.</td>\n",
       "      <td id=\"T_e027b_row1_col4\" class=\"data row1 col4\" >False</td>\n",
       "    </tr>\n",
       "    <tr>\n",
       "      <th id=\"T_e027b_level0_row2\" class=\"row_heading level0 row2\" >2</th>\n",
       "      <td id=\"T_e027b_row2_col0\" class=\"data row2 col0\" >in-between tests, grug hear shaman call \"integration tests\" sometime often with sour look on face. but grug say integration test sweet spot according to grug:...</td>\n",
       "      <td id=\"T_e027b_row2_col1\" class=\"data row2 col1\" >During my work, I often hear experienced colleagues mention \"integration tests\" with a hint of disapproval on their faces. However, I believe that integration tests...</td>\n",
       "      <td id=\"T_e027b_row2_col2\" class=\"data row2 col2\" >produce the grug_text. We will simplify the concept of integration tests and emphasize their importance in a straightforward manner.</td>\n",
       "      <td id=\"T_e027b_row2_col3\" class=\"data row2 col3\" >grug hear wise grug talk about \"integration tests\" with frown, but grug think they very important! they check system right and help find bugs with...</td>\n",
       "      <td id=\"T_e027b_row2_col4\" class=\"data row2 col4\" >False</td>\n",
       "    </tr>\n",
       "    <tr>\n",
       "      <th id=\"T_e027b_level0_row3\" class=\"row_heading level0 row3\" >3</th>\n",
       "      <td id=\"T_e027b_row3_col0\" class=\"data row3 col0\" >many developers Fear Of Looking Dumb (FOLD), grug also at one time FOLD, but grug learn get over: very important senior grug say \"this too...</td>\n",
       "      <td id=\"T_e027b_row3_col1\" class=\"data row3 col1\" >As a software developer, I understand the fear of looking ignorant when faced with complex problems. I used to experience this fear myself. However, over...</td>\n",
       "      <td id=\"T_e027b_row3_col2\" class=\"data row3 col2\" >produce the grug_text. We will simplify the idea of fear of looking ignorant and the importance of seeking help for growth.</td>\n",
       "      <td id=\"T_e027b_row3_col3\" class=\"data row3 col3\" >grug know fear of looking dumb when see hard problem. grug feel same way before. but grug learn ask for help important for grow. okay...</td>\n",
       "      <td id=\"T_e027b_row3_col4\" class=\"data row3 col4\" >✔️ [True]</td>\n",
       "    </tr>\n",
       "    <tr>\n",
       "      <th id=\"T_e027b_level0_row4\" class=\"row_heading level0 row4\" >4</th>\n",
       "      <td id=\"T_e027b_row4_col0\" class=\"data row4 col0\" >temptation generics very large is trick!  spirit demon complex love this one trick! beware!</td>\n",
       "      <td id=\"T_e027b_row4_col1\" class=\"data row4 col1\" >The urge to use generics extensively can be tempting, but it can be deceptive and lead us into a complex and challenging situation. I believe...</td>\n",
       "      <td id=\"T_e027b_row4_col2\" class=\"data row4 col2\" >produce the grug_text. We will simplify the idea of using generics extensively and warn others about the dangers of doing so.</td>\n",
       "      <td id=\"T_e027b_row4_col3\" class=\"data row4 col3\" >grug see generics, grug want use everywhere, but that tricky path lead to many rocks and hard place. grug think hidden dangers in using generics...</td>\n",
       "      <td id=\"T_e027b_row4_col4\" class=\"data row4 col4\" >False</td>\n",
       "    </tr>\n",
       "  </tbody>\n",
       "</table>\n"
      ],
      "text/plain": [
       "<pandas.io.formats.style.Styler at 0x1201e5d90>"
      ]
     },
     "metadata": {},
     "output_type": "display_data"
    },
    {
     "data": {
      "text/html": [
       "<style type=\"text/css\">\n",
       "#T_9d9e9 th {\n",
       "  text-align: left;\n",
       "}\n",
       "#T_9d9e9 td {\n",
       "  text-align: left;\n",
       "}\n",
       "#T_9d9e9_row0_col0, #T_9d9e9_row0_col1, #T_9d9e9_row0_col2, #T_9d9e9_row0_col3, #T_9d9e9_row0_col4, #T_9d9e9_row1_col0, #T_9d9e9_row1_col1, #T_9d9e9_row1_col2, #T_9d9e9_row1_col3, #T_9d9e9_row1_col4, #T_9d9e9_row2_col0, #T_9d9e9_row2_col1, #T_9d9e9_row2_col2, #T_9d9e9_row2_col3, #T_9d9e9_row2_col4, #T_9d9e9_row3_col0, #T_9d9e9_row3_col1, #T_9d9e9_row3_col2, #T_9d9e9_row3_col3, #T_9d9e9_row3_col4, #T_9d9e9_row4_col0, #T_9d9e9_row4_col1, #T_9d9e9_row4_col2, #T_9d9e9_row4_col3, #T_9d9e9_row4_col4 {\n",
       "  text-align: left;\n",
       "  white-space: pre-wrap;\n",
       "  word-wrap: break-word;\n",
       "  max-width: 400px;\n",
       "}\n",
       "</style>\n",
       "<table id=\"T_9d9e9\">\n",
       "  <thead>\n",
       "    <tr>\n",
       "      <th class=\"blank level0\" >&nbsp;</th>\n",
       "      <th id=\"T_9d9e9_level0_col0\" class=\"col_heading level0 col0\" >example_grug_text</th>\n",
       "      <th id=\"T_9d9e9_level0_col1\" class=\"col_heading level0 col1\" >plain_english</th>\n",
       "      <th id=\"T_9d9e9_level0_col2\" class=\"col_heading level0 col2\" >rationale</th>\n",
       "      <th id=\"T_9d9e9_level0_col3\" class=\"col_heading level0 col3\" >pred_grug_text</th>\n",
       "      <th id=\"T_9d9e9_level0_col4\" class=\"col_heading level0 col4\" >ari_metric</th>\n",
       "    </tr>\n",
       "  </thead>\n",
       "  <tbody>\n",
       "    <tr>\n",
       "      <th id=\"T_9d9e9_level0_row0\" class=\"row_heading level0 row0\" >0</th>\n",
       "      <td id=\"T_9d9e9_row0_col0\" class=\"data row0 col0\" >this make it ok for junior grugs to admit too complex and not understand as well, often such case! FOLD major source of complexity demon...</td>\n",
       "      <td id=\"T_9d9e9_row0_col1\" class=\"data row0 col1\" >This emphasizes that it's okay for novice developers like me to acknowledge when something is too complex to understand fully. In such situations, the complexity...</td>\n",
       "      <td id=\"T_9d9e9_row0_col2\" class=\"data row0 col2\" >produce the grug_text. We need to simplify the idea of acknowledging complexity and feeling overwhelmed.</td>\n",
       "      <td id=\"T_9d9e9_row0_col3\" class=\"data row0 col3\" >grug say, it okay for new grugs like me to admit when thing too hard to understand. when task too much, feel like no control....</td>\n",
       "      <td id=\"T_9d9e9_row0_col4\" class=\"data row0 col4\" >False</td>\n",
       "    </tr>\n",
       "    <tr>\n",
       "      <th id=\"T_9d9e9_level0_row1\" class=\"row_heading level0 row1\" >1</th>\n",
       "      <td id=\"T_9d9e9_row1_col0\" class=\"data row1 col0\" >\"no, grug not build that abstraction\"</td>\n",
       "      <td id=\"T_9d9e9_row1_col1\" class=\"data row1 col1\" >I, Grug, did not create that abstract concept or idea.</td>\n",
       "      <td id=\"T_9d9e9_row1_col2\" class=\"data row1 col2\" >produce the grug_text. We need to simplify the language and make it sound like Grug is talking about himself in the third person.</td>\n",
       "      <td id=\"T_9d9e9_row1_col3\" class=\"data row1 col3\" >Grug not make that fancy idea or thing.</td>\n",
       "      <td id=\"T_9d9e9_row1_col4\" class=\"data row1 col4\" >✔️ [True]</td>\n",
       "    </tr>\n",
       "    <tr>\n",
       "      <th id=\"T_9d9e9_level0_row2\" class=\"row_heading level0 row2\" >2</th>\n",
       "      <td id=\"T_9d9e9_row2_col0\" class=\"data row2 col0\" >in-between tests, grug hear shaman call \"integration tests\" sometime often with sour look on face. but grug say integration test sweet spot according to grug:...</td>\n",
       "      <td id=\"T_9d9e9_row2_col1\" class=\"data row2 col1\" >During my work, I often hear experienced colleagues mention \"integration tests\" with a hint of disapproval on their faces. However, I believe that integration tests...</td>\n",
       "      <td id=\"T_9d9e9_row2_col2\" class=\"data row2 col2\" >produce the grug_text. We will simplify the concept of integration tests and emphasize their importance in a straightforward manner.</td>\n",
       "      <td id=\"T_9d9e9_row2_col3\" class=\"data row2 col3\" >grug hear wise grug talk about \"integration tests\" with frown, but grug think they very important! they check system right and help find bugs with...</td>\n",
       "      <td id=\"T_9d9e9_row2_col4\" class=\"data row2 col4\" >False</td>\n",
       "    </tr>\n",
       "    <tr>\n",
       "      <th id=\"T_9d9e9_level0_row3\" class=\"row_heading level0 row3\" >3</th>\n",
       "      <td id=\"T_9d9e9_row3_col0\" class=\"data row3 col0\" >many developers Fear Of Looking Dumb (FOLD), grug also at one time FOLD, but grug learn get over: very important senior grug say \"this too...</td>\n",
       "      <td id=\"T_9d9e9_row3_col1\" class=\"data row3 col1\" >As a software developer, I understand the fear of looking ignorant when faced with complex problems. I used to experience this fear myself. However, over...</td>\n",
       "      <td id=\"T_9d9e9_row3_col2\" class=\"data row3 col2\" >produce the grug_text. We will simplify the idea of fear of looking ignorant and the importance of seeking help for growth.</td>\n",
       "      <td id=\"T_9d9e9_row3_col3\" class=\"data row3 col3\" >grug know fear of looking dumb when see hard problem. grug feel same way before. but grug learn ask for help important for grow. okay...</td>\n",
       "      <td id=\"T_9d9e9_row3_col4\" class=\"data row3 col4\" >False</td>\n",
       "    </tr>\n",
       "    <tr>\n",
       "      <th id=\"T_9d9e9_level0_row4\" class=\"row_heading level0 row4\" >4</th>\n",
       "      <td id=\"T_9d9e9_row4_col0\" class=\"data row4 col0\" >temptation generics very large is trick!  spirit demon complex love this one trick! beware!</td>\n",
       "      <td id=\"T_9d9e9_row4_col1\" class=\"data row4 col1\" >The urge to use generics extensively can be tempting, but it can be deceptive and lead us into a complex and challenging situation. I believe...</td>\n",
       "      <td id=\"T_9d9e9_row4_col2\" class=\"data row4 col2\" >produce the grug_text. We will simplify the idea of using generics extensively and warn others about the dangers of doing so.</td>\n",
       "      <td id=\"T_9d9e9_row4_col3\" class=\"data row4 col3\" >grug see generics, grug want use everywhere, but that tricky path lead to many rocks and hard place. grug think hidden dangers in using generics...</td>\n",
       "      <td id=\"T_9d9e9_row4_col4\" class=\"data row4 col4\" >False</td>\n",
       "    </tr>\n",
       "  </tbody>\n",
       "</table>\n"
      ],
      "text/plain": [
       "<pandas.io.formats.style.Styler at 0x11f9e5950>"
      ]
     },
     "metadata": {},
     "output_type": "display_data"
    }
   ],
   "source": [
    "run_evals(fewshot)"
   ]
  },
  {
   "cell_type": "code",
   "execution_count": 343,
   "id": "55c75c2d",
   "metadata": {},
   "outputs": [
    {
     "name": "stderr",
     "output_type": "stream",
     "text": [
      "100%|█████████████████████████████████████████████████████████████| 20/20 [00:00<00:00, 609.77it/s]"
     ]
    },
    {
     "name": "stdout",
     "output_type": "stream",
     "text": [
      "assessment answer: yes\n",
      "assessment answer: yes\n",
      "assessment answer: no\n"
     ]
    },
    {
     "name": "stderr",
     "output_type": "stream",
     "text": [
      "\n"
     ]
    }
   ],
   "source": [
    "from dspy.teleprompt import BootstrapFewShot\n",
    "\n",
    "config = dict(max_bootstrapped_demos=5, max_labeled_demos=5)\n",
    "teleprompter = BootstrapFewShot(metric=overall_metric, **config)\n",
    "teleprompter.max_errors = 1\n",
    "bfewshot = teleprompter.compile(CoT(), trainset=train, valset=test)"
   ]
  },
  {
   "cell_type": "code",
   "execution_count": 344,
   "id": "267b8148-2457-4160-882b-3f2284c6c89c",
   "metadata": {},
   "outputs": [
    {
     "data": {
      "text/html": [
       "<style type=\"text/css\">\n",
       "#T_86061 th {\n",
       "  text-align: left;\n",
       "}\n",
       "#T_86061 td {\n",
       "  text-align: left;\n",
       "}\n",
       "#T_86061_row0_col0, #T_86061_row0_col1, #T_86061_row0_col2, #T_86061_row0_col3, #T_86061_row0_col4, #T_86061_row1_col0, #T_86061_row1_col1, #T_86061_row1_col2, #T_86061_row1_col3, #T_86061_row1_col4, #T_86061_row2_col0, #T_86061_row2_col1, #T_86061_row2_col2, #T_86061_row2_col3, #T_86061_row2_col4, #T_86061_row3_col0, #T_86061_row3_col1, #T_86061_row3_col2, #T_86061_row3_col3, #T_86061_row3_col4, #T_86061_row4_col0, #T_86061_row4_col1, #T_86061_row4_col2, #T_86061_row4_col3, #T_86061_row4_col4 {\n",
       "  text-align: left;\n",
       "  white-space: pre-wrap;\n",
       "  word-wrap: break-word;\n",
       "  max-width: 400px;\n",
       "}\n",
       "</style>\n",
       "<table id=\"T_86061\">\n",
       "  <thead>\n",
       "    <tr>\n",
       "      <th class=\"blank level0\" >&nbsp;</th>\n",
       "      <th id=\"T_86061_level0_col0\" class=\"col_heading level0 col0\" >example_grug_text</th>\n",
       "      <th id=\"T_86061_level0_col1\" class=\"col_heading level0 col1\" >plain_english</th>\n",
       "      <th id=\"T_86061_level0_col2\" class=\"col_heading level0 col2\" >rationale</th>\n",
       "      <th id=\"T_86061_level0_col3\" class=\"col_heading level0 col3\" >pred_grug_text</th>\n",
       "      <th id=\"T_86061_level0_col4\" class=\"col_heading level0 col4\" >similarity_metric</th>\n",
       "    </tr>\n",
       "  </thead>\n",
       "  <tbody>\n",
       "    <tr>\n",
       "      <th id=\"T_86061_level0_row0\" class=\"row_heading level0 row0\" >0</th>\n",
       "      <td id=\"T_86061_row0_col0\" class=\"data row0 col0\" >this make it ok for junior grugs to admit too complex and not understand as well, often such case! FOLD major source of complexity demon...</td>\n",
       "      <td id=\"T_86061_row0_col1\" class=\"data row0 col1\" >This emphasizes that it's okay for novice developers like me to acknowledge when something is too complex to understand fully. In such situations, the complexity...</td>\n",
       "      <td id=\"T_86061_row0_col2\" class=\"data row0 col2\" >produce the grug_text. We will simplify the language and focus on the struggles of novice developers in understanding complex tasks.</td>\n",
       "      <td id=\"T_86061_row0_col3\" class=\"data row0 col3\" >this make it ok for junior grugs to admit too complex and not understand as well, often such case! FOLD major source of complexity demon...</td>\n",
       "      <td id=\"T_86061_row0_col4\" class=\"data row0 col4\" >✔️ [True]</td>\n",
       "    </tr>\n",
       "    <tr>\n",
       "      <th id=\"T_86061_level0_row1\" class=\"row_heading level0 row1\" >1</th>\n",
       "      <td id=\"T_86061_row1_col0\" class=\"data row1 col0\" >\"no, grug not build that abstraction\"</td>\n",
       "      <td id=\"T_86061_row1_col1\" class=\"data row1 col1\" >I, Grug, did not create that abstract concept or idea.</td>\n",
       "      <td id=\"T_86061_row1_col2\" class=\"data row1 col2\" >produce the grug_text. We will simplify the language and emphasize Grug's lack of understanding complex concepts.</td>\n",
       "      <td id=\"T_86061_row1_col3\" class=\"data row1 col3\" >Grug not make that big idea or thing.</td>\n",
       "      <td id=\"T_86061_row1_col4\" class=\"data row1 col4\" >False</td>\n",
       "    </tr>\n",
       "    <tr>\n",
       "      <th id=\"T_86061_level0_row2\" class=\"row_heading level0 row2\" >2</th>\n",
       "      <td id=\"T_86061_row2_col0\" class=\"data row2 col0\" >in-between tests, grug hear shaman call \"integration tests\" sometime often with sour look on face. but grug say integration test sweet spot according to grug:...</td>\n",
       "      <td id=\"T_86061_row2_col1\" class=\"data row2 col1\" >During my work, I often hear experienced colleagues mention \"integration tests\" with a hint of disapproval on their faces. However, I believe that integration tests...</td>\n",
       "      <td id=\"T_86061_row2_col2\" class=\"data row2 col2\" >produce the grug_text. We will simplify the language and focus on the importance of integration tests in software development.</td>\n",
       "      <td id=\"T_86061_row2_col3\" class=\"data row2 col3\" >in-between tests, grug hear shaman call \"integration tests\" sometime often with sour look on face. but grug say integration test sweet spot according to grug:...</td>\n",
       "      <td id=\"T_86061_row2_col4\" class=\"data row2 col4\" >✔️ [True]</td>\n",
       "    </tr>\n",
       "    <tr>\n",
       "      <th id=\"T_86061_level0_row3\" class=\"row_heading level0 row3\" >3</th>\n",
       "      <td id=\"T_86061_row3_col0\" class=\"data row3 col0\" >many developers Fear Of Looking Dumb (FOLD), grug also at one time FOLD, but grug learn get over: very important senior grug say \"this too...</td>\n",
       "      <td id=\"T_86061_row3_col1\" class=\"data row3 col1\" >As a software developer, I understand the fear of looking ignorant when faced with complex problems. I used to experience this fear myself. However, over...</td>\n",
       "      <td id=\"T_86061_row3_col2\" class=\"data row3 col2\" >produce the grug_text. We will simplify the language and focus on the importance of seeking help in software development.</td>\n",
       "      <td id=\"T_86061_row3_col3\" class=\"data row3 col3\" >grug as software maker, grug know fear of not knowing big problem. grug used to feel same. but grug learn ask for help important for...</td>\n",
       "      <td id=\"T_86061_row3_col4\" class=\"data row3 col4\" >False</td>\n",
       "    </tr>\n",
       "    <tr>\n",
       "      <th id=\"T_86061_level0_row4\" class=\"row_heading level0 row4\" >4</th>\n",
       "      <td id=\"T_86061_row4_col0\" class=\"data row4 col0\" >temptation generics very large is trick!  spirit demon complex love this one trick! beware!</td>\n",
       "      <td id=\"T_86061_row4_col1\" class=\"data row4 col1\" >The urge to use generics extensively can be tempting, but it can be deceptive and lead us into a complex and challenging situation. I believe...</td>\n",
       "      <td id=\"T_86061_row4_col2\" class=\"data row4 col2\" >produce the grug_text. We will simplify the language and focus on the caution against using generics too much.</td>\n",
       "      <td id=\"T_86061_row4_col3\" class=\"data row4 col3\" >grug feel strong urge to use generics, but can be tricky and lead to big problem. grug think hidden risks in using too much generics,...</td>\n",
       "      <td id=\"T_86061_row4_col4\" class=\"data row4 col4\" >False</td>\n",
       "    </tr>\n",
       "  </tbody>\n",
       "</table>\n"
      ],
      "text/plain": [
       "<pandas.io.formats.style.Styler at 0x12023b6d0>"
      ]
     },
     "metadata": {},
     "output_type": "display_data"
    },
    {
     "data": {
      "text/html": [
       "<style type=\"text/css\">\n",
       "#T_c49e2 th {\n",
       "  text-align: left;\n",
       "}\n",
       "#T_c49e2 td {\n",
       "  text-align: left;\n",
       "}\n",
       "#T_c49e2_row0_col0, #T_c49e2_row0_col1, #T_c49e2_row0_col2, #T_c49e2_row0_col3, #T_c49e2_row0_col4, #T_c49e2_row1_col0, #T_c49e2_row1_col1, #T_c49e2_row1_col2, #T_c49e2_row1_col3, #T_c49e2_row1_col4, #T_c49e2_row2_col0, #T_c49e2_row2_col1, #T_c49e2_row2_col2, #T_c49e2_row2_col3, #T_c49e2_row2_col4, #T_c49e2_row3_col0, #T_c49e2_row3_col1, #T_c49e2_row3_col2, #T_c49e2_row3_col3, #T_c49e2_row3_col4, #T_c49e2_row4_col0, #T_c49e2_row4_col1, #T_c49e2_row4_col2, #T_c49e2_row4_col3, #T_c49e2_row4_col4 {\n",
       "  text-align: left;\n",
       "  white-space: pre-wrap;\n",
       "  word-wrap: break-word;\n",
       "  max-width: 400px;\n",
       "}\n",
       "</style>\n",
       "<table id=\"T_c49e2\">\n",
       "  <thead>\n",
       "    <tr>\n",
       "      <th class=\"blank level0\" >&nbsp;</th>\n",
       "      <th id=\"T_c49e2_level0_col0\" class=\"col_heading level0 col0\" >example_grug_text</th>\n",
       "      <th id=\"T_c49e2_level0_col1\" class=\"col_heading level0 col1\" >plain_english</th>\n",
       "      <th id=\"T_c49e2_level0_col2\" class=\"col_heading level0 col2\" >rationale</th>\n",
       "      <th id=\"T_c49e2_level0_col3\" class=\"col_heading level0 col3\" >pred_grug_text</th>\n",
       "      <th id=\"T_c49e2_level0_col4\" class=\"col_heading level0 col4\" >ari_metric</th>\n",
       "    </tr>\n",
       "  </thead>\n",
       "  <tbody>\n",
       "    <tr>\n",
       "      <th id=\"T_c49e2_level0_row0\" class=\"row_heading level0 row0\" >0</th>\n",
       "      <td id=\"T_c49e2_row0_col0\" class=\"data row0 col0\" >this make it ok for junior grugs to admit too complex and not understand as well, often such case! FOLD major source of complexity demon...</td>\n",
       "      <td id=\"T_c49e2_row0_col1\" class=\"data row0 col1\" >This emphasizes that it's okay for novice developers like me to acknowledge when something is too complex to understand fully. In such situations, the complexity...</td>\n",
       "      <td id=\"T_c49e2_row0_col2\" class=\"data row0 col2\" >produce the grug_text. We will simplify the language and focus on the struggles of novice developers in understanding complex tasks.</td>\n",
       "      <td id=\"T_c49e2_row0_col3\" class=\"data row0 col3\" >this make it ok for junior grugs to admit too complex and not understand as well, often such case! FOLD major source of complexity demon...</td>\n",
       "      <td id=\"T_c49e2_row0_col4\" class=\"data row0 col4\" >False</td>\n",
       "    </tr>\n",
       "    <tr>\n",
       "      <th id=\"T_c49e2_level0_row1\" class=\"row_heading level0 row1\" >1</th>\n",
       "      <td id=\"T_c49e2_row1_col0\" class=\"data row1 col0\" >\"no, grug not build that abstraction\"</td>\n",
       "      <td id=\"T_c49e2_row1_col1\" class=\"data row1 col1\" >I, Grug, did not create that abstract concept or idea.</td>\n",
       "      <td id=\"T_c49e2_row1_col2\" class=\"data row1 col2\" >produce the grug_text. We will simplify the language and emphasize Grug's lack of understanding complex concepts.</td>\n",
       "      <td id=\"T_c49e2_row1_col3\" class=\"data row1 col3\" >Grug not make that big idea or thing.</td>\n",
       "      <td id=\"T_c49e2_row1_col4\" class=\"data row1 col4\" >✔️ [True]</td>\n",
       "    </tr>\n",
       "    <tr>\n",
       "      <th id=\"T_c49e2_level0_row2\" class=\"row_heading level0 row2\" >2</th>\n",
       "      <td id=\"T_c49e2_row2_col0\" class=\"data row2 col0\" >in-between tests, grug hear shaman call \"integration tests\" sometime often with sour look on face. but grug say integration test sweet spot according to grug:...</td>\n",
       "      <td id=\"T_c49e2_row2_col1\" class=\"data row2 col1\" >During my work, I often hear experienced colleagues mention \"integration tests\" with a hint of disapproval on their faces. However, I believe that integration tests...</td>\n",
       "      <td id=\"T_c49e2_row2_col2\" class=\"data row2 col2\" >produce the grug_text. We will simplify the language and focus on the importance of integration tests in software development.</td>\n",
       "      <td id=\"T_c49e2_row2_col3\" class=\"data row2 col3\" >in-between tests, grug hear shaman call \"integration tests\" sometime often with sour look on face. but grug say integration test sweet spot according to grug:...</td>\n",
       "      <td id=\"T_c49e2_row2_col4\" class=\"data row2 col4\" >False</td>\n",
       "    </tr>\n",
       "    <tr>\n",
       "      <th id=\"T_c49e2_level0_row3\" class=\"row_heading level0 row3\" >3</th>\n",
       "      <td id=\"T_c49e2_row3_col0\" class=\"data row3 col0\" >many developers Fear Of Looking Dumb (FOLD), grug also at one time FOLD, but grug learn get over: very important senior grug say \"this too...</td>\n",
       "      <td id=\"T_c49e2_row3_col1\" class=\"data row3 col1\" >As a software developer, I understand the fear of looking ignorant when faced with complex problems. I used to experience this fear myself. However, over...</td>\n",
       "      <td id=\"T_c49e2_row3_col2\" class=\"data row3 col2\" >produce the grug_text. We will simplify the language and focus on the importance of seeking help in software development.</td>\n",
       "      <td id=\"T_c49e2_row3_col3\" class=\"data row3 col3\" >grug as software maker, grug know fear of not knowing big problem. grug used to feel same. but grug learn ask for help important for...</td>\n",
       "      <td id=\"T_c49e2_row3_col4\" class=\"data row3 col4\" >False</td>\n",
       "    </tr>\n",
       "    <tr>\n",
       "      <th id=\"T_c49e2_level0_row4\" class=\"row_heading level0 row4\" >4</th>\n",
       "      <td id=\"T_c49e2_row4_col0\" class=\"data row4 col0\" >temptation generics very large is trick!  spirit demon complex love this one trick! beware!</td>\n",
       "      <td id=\"T_c49e2_row4_col1\" class=\"data row4 col1\" >The urge to use generics extensively can be tempting, but it can be deceptive and lead us into a complex and challenging situation. I believe...</td>\n",
       "      <td id=\"T_c49e2_row4_col2\" class=\"data row4 col2\" >produce the grug_text. We will simplify the language and focus on the caution against using generics too much.</td>\n",
       "      <td id=\"T_c49e2_row4_col3\" class=\"data row4 col3\" >grug feel strong urge to use generics, but can be tricky and lead to big problem. grug think hidden risks in using too much generics,...</td>\n",
       "      <td id=\"T_c49e2_row4_col4\" class=\"data row4 col4\" >False</td>\n",
       "    </tr>\n",
       "  </tbody>\n",
       "</table>\n"
      ],
      "text/plain": [
       "<pandas.io.formats.style.Styler at 0x11fa7b990>"
      ]
     },
     "metadata": {},
     "output_type": "display_data"
    }
   ],
   "source": [
    "run_evals(optimized_cot)"
   ]
  },
  {
   "cell_type": "code",
   "execution_count": 345,
   "id": "54a3556e-cf47-44a8-b88e-398d5230141e",
   "metadata": {},
   "outputs": [
    {
     "data": {
      "text/html": [
       "<style type=\"text/css\">\n",
       "#T_4315b th {\n",
       "  text-align: left;\n",
       "}\n",
       "#T_4315b td {\n",
       "  text-align: left;\n",
       "}\n",
       "#T_4315b_row0_col0, #T_4315b_row0_col1, #T_4315b_row0_col2, #T_4315b_row0_col3, #T_4315b_row0_col4, #T_4315b_row1_col0, #T_4315b_row1_col1, #T_4315b_row1_col2, #T_4315b_row1_col3, #T_4315b_row1_col4, #T_4315b_row2_col0, #T_4315b_row2_col1, #T_4315b_row2_col2, #T_4315b_row2_col3, #T_4315b_row2_col4, #T_4315b_row3_col0, #T_4315b_row3_col1, #T_4315b_row3_col2, #T_4315b_row3_col3, #T_4315b_row3_col4, #T_4315b_row4_col0, #T_4315b_row4_col1, #T_4315b_row4_col2, #T_4315b_row4_col3, #T_4315b_row4_col4 {\n",
       "  text-align: left;\n",
       "  white-space: pre-wrap;\n",
       "  word-wrap: break-word;\n",
       "  max-width: 400px;\n",
       "}\n",
       "</style>\n",
       "<table id=\"T_4315b\">\n",
       "  <thead>\n",
       "    <tr>\n",
       "      <th class=\"blank level0\" >&nbsp;</th>\n",
       "      <th id=\"T_4315b_level0_col0\" class=\"col_heading level0 col0\" >example_grug_text</th>\n",
       "      <th id=\"T_4315b_level0_col1\" class=\"col_heading level0 col1\" >plain_english</th>\n",
       "      <th id=\"T_4315b_level0_col2\" class=\"col_heading level0 col2\" >rationale</th>\n",
       "      <th id=\"T_4315b_level0_col3\" class=\"col_heading level0 col3\" >pred_grug_text</th>\n",
       "      <th id=\"T_4315b_level0_col4\" class=\"col_heading level0 col4\" >overall_metric</th>\n",
       "    </tr>\n",
       "  </thead>\n",
       "  <tbody>\n",
       "    <tr>\n",
       "      <th id=\"T_4315b_level0_row0\" class=\"row_heading level0 row0\" >0</th>\n",
       "      <td id=\"T_4315b_row0_col0\" class=\"data row0 col0\" >this make it ok for junior grugs to admit too complex and not understand as well, often such case! FOLD major source of complexity demon...</td>\n",
       "      <td id=\"T_4315b_row0_col1\" class=\"data row0 col1\" >This emphasizes that it's okay for novice developers like me to acknowledge when something is too complex to understand fully. In such situations, the complexity...</td>\n",
       "      <td id=\"T_4315b_row0_col2\" class=\"data row0 col2\" >produce the grug_text. We will simplify the language and focus on basic concepts that Grug can understand.</td>\n",
       "      <td id=\"T_4315b_row0_col3\" class=\"data row0 col3\" >Me not smart like big developers. Me say okay to not understand hard things. Hard things make head hurt. Me young developer, so hard things...</td>\n",
       "      <td id=\"T_4315b_row0_col4\" class=\"data row0 col4\" >False</td>\n",
       "    </tr>\n",
       "    <tr>\n",
       "      <th id=\"T_4315b_level0_row1\" class=\"row_heading level0 row1\" >1</th>\n",
       "      <td id=\"T_4315b_row1_col0\" class=\"data row1 col0\" >\"no, grug not build that abstraction\"</td>\n",
       "      <td id=\"T_4315b_row1_col1\" class=\"data row1 col1\" >I, Grug, did not create that abstract concept or idea.</td>\n",
       "      <td id=\"T_4315b_row1_col2\" class=\"data row1 col2\" >produce the grug_text. We need to simplify the language and make it sound like Grug is speaking.</td>\n",
       "      <td id=\"T_4315b_row1_col3\" class=\"data row1 col3\" >Grug not make that thing with big words or thoughts.</td>\n",
       "      <td id=\"T_4315b_row1_col4\" class=\"data row1 col4\" >False</td>\n",
       "    </tr>\n",
       "    <tr>\n",
       "      <th id=\"T_4315b_level0_row2\" class=\"row_heading level0 row2\" >2</th>\n",
       "      <td id=\"T_4315b_row2_col0\" class=\"data row2 col0\" >in-between tests, grug hear shaman call \"integration tests\" sometime often with sour look on face. but grug say integration test sweet spot according to grug:...</td>\n",
       "      <td id=\"T_4315b_row2_col1\" class=\"data row2 col1\" >During my work, I often hear experienced colleagues mention \"integration tests\" with a hint of disapproval on their faces. However, I believe that integration tests...</td>\n",
       "      <td id=\"T_4315b_row2_col2\" class=\"data row2 col2\" >produce the grug_text. We will simplify the language and focus on the basic idea of testing systems.</td>\n",
       "      <td id=\"T_4315b_row2_col3\" class=\"data row2 col3\" >Me work, me hear smart friends talk about \"integration tests\" with funny face. But me think integration tests important. They check if system work right...</td>\n",
       "      <td id=\"T_4315b_row2_col4\" class=\"data row2 col4\" >False</td>\n",
       "    </tr>\n",
       "    <tr>\n",
       "      <th id=\"T_4315b_level0_row3\" class=\"row_heading level0 row3\" >3</th>\n",
       "      <td id=\"T_4315b_row3_col0\" class=\"data row3 col0\" >many developers Fear Of Looking Dumb (FOLD), grug also at one time FOLD, but grug learn get over: very important senior grug say \"this too...</td>\n",
       "      <td id=\"T_4315b_row3_col1\" class=\"data row3 col1\" >As a software developer, I understand the fear of looking ignorant when faced with complex problems. I used to experience this fear myself. However, over...</td>\n",
       "      <td id=\"T_4315b_row3_col2\" class=\"data row3 col2\" >produce the grug_text. We will simplify the language and focus on basic concepts that Grug can understand.</td>\n",
       "      <td id=\"T_4315b_row3_col3\" class=\"data row3 col3\" >Grug not smart like software maker. Grug scared of hard problems. Grug ask for help and learn. It okay to say when something too hard.</td>\n",
       "      <td id=\"T_4315b_row3_col4\" class=\"data row3 col4\" >False</td>\n",
       "    </tr>\n",
       "    <tr>\n",
       "      <th id=\"T_4315b_level0_row4\" class=\"row_heading level0 row4\" >4</th>\n",
       "      <td id=\"T_4315b_row4_col0\" class=\"data row4 col0\" >temptation generics very large is trick!  spirit demon complex love this one trick! beware!</td>\n",
       "      <td id=\"T_4315b_row4_col1\" class=\"data row4 col1\" >The urge to use generics extensively can be tempting, but it can be deceptive and lead us into a complex and challenging situation. I believe...</td>\n",
       "      <td id=\"T_4315b_row4_col2\" class=\"data row4 col2\" >produce the grug_text. We will simplify the idea of using generics and warn others about the dangers of using them too much.</td>\n",
       "      <td id=\"T_4315b_row4_col3\" class=\"data row4 col3\" >Grug think using fancy things like generics can be tricky. Grug say be careful, too much can make big problem.</td>\n",
       "      <td id=\"T_4315b_row4_col4\" class=\"data row4 col4\" >False</td>\n",
       "    </tr>\n",
       "  </tbody>\n",
       "</table>\n"
      ],
      "text/plain": [
       "<pandas.io.formats.style.Styler at 0x120327810>"
      ]
     },
     "metadata": {},
     "output_type": "display_data"
    },
    {
     "data": {
      "text/html": [
       "<style type=\"text/css\">\n",
       "#T_2266b th {\n",
       "  text-align: left;\n",
       "}\n",
       "#T_2266b td {\n",
       "  text-align: left;\n",
       "}\n",
       "#T_2266b_row0_col0, #T_2266b_row0_col1, #T_2266b_row0_col2, #T_2266b_row0_col3, #T_2266b_row0_col4, #T_2266b_row1_col0, #T_2266b_row1_col1, #T_2266b_row1_col2, #T_2266b_row1_col3, #T_2266b_row1_col4, #T_2266b_row2_col0, #T_2266b_row2_col1, #T_2266b_row2_col2, #T_2266b_row2_col3, #T_2266b_row2_col4, #T_2266b_row3_col0, #T_2266b_row3_col1, #T_2266b_row3_col2, #T_2266b_row3_col3, #T_2266b_row3_col4, #T_2266b_row4_col0, #T_2266b_row4_col1, #T_2266b_row4_col2, #T_2266b_row4_col3, #T_2266b_row4_col4 {\n",
       "  text-align: left;\n",
       "  white-space: pre-wrap;\n",
       "  word-wrap: break-word;\n",
       "  max-width: 400px;\n",
       "}\n",
       "</style>\n",
       "<table id=\"T_2266b\">\n",
       "  <thead>\n",
       "    <tr>\n",
       "      <th class=\"blank level0\" >&nbsp;</th>\n",
       "      <th id=\"T_2266b_level0_col0\" class=\"col_heading level0 col0\" >example_grug_text</th>\n",
       "      <th id=\"T_2266b_level0_col1\" class=\"col_heading level0 col1\" >plain_english</th>\n",
       "      <th id=\"T_2266b_level0_col2\" class=\"col_heading level0 col2\" >rationale</th>\n",
       "      <th id=\"T_2266b_level0_col3\" class=\"col_heading level0 col3\" >pred_grug_text</th>\n",
       "      <th id=\"T_2266b_level0_col4\" class=\"col_heading level0 col4\" >overall_metric</th>\n",
       "    </tr>\n",
       "  </thead>\n",
       "  <tbody>\n",
       "    <tr>\n",
       "      <th id=\"T_2266b_level0_row0\" class=\"row_heading level0 row0\" >0</th>\n",
       "      <td id=\"T_2266b_row0_col0\" class=\"data row0 col0\" >this make it ok for junior grugs to admit too complex and not understand as well, often such case! FOLD major source of complexity demon...</td>\n",
       "      <td id=\"T_2266b_row0_col1\" class=\"data row0 col1\" >This emphasizes that it's okay for novice developers like me to acknowledge when something is too complex to understand fully. In such situations, the complexity...</td>\n",
       "      <td id=\"T_2266b_row0_col2\" class=\"data row0 col2\" >produce the grug_text. We need to simplify the idea of acknowledging complexity and feeling overwhelmed.</td>\n",
       "      <td id=\"T_2266b_row0_col3\" class=\"data row0 col3\" >grug say, it okay for new grugs like me to admit when thing too hard to understand. when task too much, feel like no control....</td>\n",
       "      <td id=\"T_2266b_row0_col4\" class=\"data row0 col4\" >False</td>\n",
       "    </tr>\n",
       "    <tr>\n",
       "      <th id=\"T_2266b_level0_row1\" class=\"row_heading level0 row1\" >1</th>\n",
       "      <td id=\"T_2266b_row1_col0\" class=\"data row1 col0\" >\"no, grug not build that abstraction\"</td>\n",
       "      <td id=\"T_2266b_row1_col1\" class=\"data row1 col1\" >I, Grug, did not create that abstract concept or idea.</td>\n",
       "      <td id=\"T_2266b_row1_col2\" class=\"data row1 col2\" >produce the grug_text. We need to simplify the language and make it sound like Grug is talking about himself in the third person.</td>\n",
       "      <td id=\"T_2266b_row1_col3\" class=\"data row1 col3\" >Grug not make that fancy idea or thing.</td>\n",
       "      <td id=\"T_2266b_row1_col4\" class=\"data row1 col4\" >False</td>\n",
       "    </tr>\n",
       "    <tr>\n",
       "      <th id=\"T_2266b_level0_row2\" class=\"row_heading level0 row2\" >2</th>\n",
       "      <td id=\"T_2266b_row2_col0\" class=\"data row2 col0\" >in-between tests, grug hear shaman call \"integration tests\" sometime often with sour look on face. but grug say integration test sweet spot according to grug:...</td>\n",
       "      <td id=\"T_2266b_row2_col1\" class=\"data row2 col1\" >During my work, I often hear experienced colleagues mention \"integration tests\" with a hint of disapproval on their faces. However, I believe that integration tests...</td>\n",
       "      <td id=\"T_2266b_row2_col2\" class=\"data row2 col2\" >produce the grug_text. We will simplify the concept of integration tests and emphasize their importance in a straightforward manner.</td>\n",
       "      <td id=\"T_2266b_row2_col3\" class=\"data row2 col3\" >grug hear wise grug talk about \"integration tests\" with frown, but grug think they very important! they check system right and help find bugs with...</td>\n",
       "      <td id=\"T_2266b_row2_col4\" class=\"data row2 col4\" >False</td>\n",
       "    </tr>\n",
       "    <tr>\n",
       "      <th id=\"T_2266b_level0_row3\" class=\"row_heading level0 row3\" >3</th>\n",
       "      <td id=\"T_2266b_row3_col0\" class=\"data row3 col0\" >many developers Fear Of Looking Dumb (FOLD), grug also at one time FOLD, but grug learn get over: very important senior grug say \"this too...</td>\n",
       "      <td id=\"T_2266b_row3_col1\" class=\"data row3 col1\" >As a software developer, I understand the fear of looking ignorant when faced with complex problems. I used to experience this fear myself. However, over...</td>\n",
       "      <td id=\"T_2266b_row3_col2\" class=\"data row3 col2\" >produce the grug_text. We will simplify the idea of fear of looking ignorant and the importance of seeking help for growth.</td>\n",
       "      <td id=\"T_2266b_row3_col3\" class=\"data row3 col3\" >grug know fear of looking dumb when see hard problem. grug feel same way before. but grug learn ask for help important for grow. okay...</td>\n",
       "      <td id=\"T_2266b_row3_col4\" class=\"data row3 col4\" >False</td>\n",
       "    </tr>\n",
       "    <tr>\n",
       "      <th id=\"T_2266b_level0_row4\" class=\"row_heading level0 row4\" >4</th>\n",
       "      <td id=\"T_2266b_row4_col0\" class=\"data row4 col0\" >temptation generics very large is trick!  spirit demon complex love this one trick! beware!</td>\n",
       "      <td id=\"T_2266b_row4_col1\" class=\"data row4 col1\" >The urge to use generics extensively can be tempting, but it can be deceptive and lead us into a complex and challenging situation. I believe...</td>\n",
       "      <td id=\"T_2266b_row4_col2\" class=\"data row4 col2\" >produce the grug_text. We will simplify the idea of using generics extensively and warn others about the dangers of doing so.</td>\n",
       "      <td id=\"T_2266b_row4_col3\" class=\"data row4 col3\" >grug see generics, grug want use everywhere, but that tricky path lead to many rocks and hard place. grug think hidden dangers in using generics...</td>\n",
       "      <td id=\"T_2266b_row4_col4\" class=\"data row4 col4\" >False</td>\n",
       "    </tr>\n",
       "  </tbody>\n",
       "</table>\n"
      ],
      "text/plain": [
       "<pandas.io.formats.style.Styler at 0x11ffac210>"
      ]
     },
     "metadata": {},
     "output_type": "display_data"
    },
    {
     "data": {
      "text/html": [
       "<style type=\"text/css\">\n",
       "#T_d246a th {\n",
       "  text-align: left;\n",
       "}\n",
       "#T_d246a td {\n",
       "  text-align: left;\n",
       "}\n",
       "#T_d246a_row0_col0, #T_d246a_row0_col1, #T_d246a_row0_col2, #T_d246a_row0_col3, #T_d246a_row0_col4, #T_d246a_row1_col0, #T_d246a_row1_col1, #T_d246a_row1_col2, #T_d246a_row1_col3, #T_d246a_row1_col4, #T_d246a_row2_col0, #T_d246a_row2_col1, #T_d246a_row2_col2, #T_d246a_row2_col3, #T_d246a_row2_col4, #T_d246a_row3_col0, #T_d246a_row3_col1, #T_d246a_row3_col2, #T_d246a_row3_col3, #T_d246a_row3_col4, #T_d246a_row4_col0, #T_d246a_row4_col1, #T_d246a_row4_col2, #T_d246a_row4_col3, #T_d246a_row4_col4 {\n",
       "  text-align: left;\n",
       "  white-space: pre-wrap;\n",
       "  word-wrap: break-word;\n",
       "  max-width: 400px;\n",
       "}\n",
       "</style>\n",
       "<table id=\"T_d246a\">\n",
       "  <thead>\n",
       "    <tr>\n",
       "      <th class=\"blank level0\" >&nbsp;</th>\n",
       "      <th id=\"T_d246a_level0_col0\" class=\"col_heading level0 col0\" >example_grug_text</th>\n",
       "      <th id=\"T_d246a_level0_col1\" class=\"col_heading level0 col1\" >plain_english</th>\n",
       "      <th id=\"T_d246a_level0_col2\" class=\"col_heading level0 col2\" >rationale</th>\n",
       "      <th id=\"T_d246a_level0_col3\" class=\"col_heading level0 col3\" >pred_grug_text</th>\n",
       "      <th id=\"T_d246a_level0_col4\" class=\"col_heading level0 col4\" >overall_metric</th>\n",
       "    </tr>\n",
       "  </thead>\n",
       "  <tbody>\n",
       "    <tr>\n",
       "      <th id=\"T_d246a_level0_row0\" class=\"row_heading level0 row0\" >0</th>\n",
       "      <td id=\"T_d246a_row0_col0\" class=\"data row0 col0\" >this make it ok for junior grugs to admit too complex and not understand as well, often such case! FOLD major source of complexity demon...</td>\n",
       "      <td id=\"T_d246a_row0_col1\" class=\"data row0 col1\" >This emphasizes that it's okay for novice developers like me to acknowledge when something is too complex to understand fully. In such situations, the complexity...</td>\n",
       "      <td id=\"T_d246a_row0_col2\" class=\"data row0 col2\" >produce the grug_text. We will simplify the language and focus on basic concepts.</td>\n",
       "      <td id=\"T_d246a_row0_col3\" class=\"data row0 col3\" >this make it ok for junior grugs to admit too complex and not understand as well, often such case! FOLD major source of complexity demon...</td>\n",
       "      <td id=\"T_d246a_row0_col4\" class=\"data row0 col4\" >False</td>\n",
       "    </tr>\n",
       "    <tr>\n",
       "      <th id=\"T_d246a_level0_row1\" class=\"row_heading level0 row1\" >1</th>\n",
       "      <td id=\"T_d246a_row1_col0\" class=\"data row1 col0\" >\"no, grug not build that abstraction\"</td>\n",
       "      <td id=\"T_d246a_row1_col1\" class=\"data row1 col1\" >I, Grug, did not create that abstract concept or idea.</td>\n",
       "      <td id=\"T_d246a_row1_col2\" class=\"data row1 col2\" >produce the grug_text. We need to simplify the language and make it sound like Grug is speaking.</td>\n",
       "      <td id=\"T_d246a_row1_col3\" class=\"data row1 col3\" >Grug not make that big idea or thought.</td>\n",
       "      <td id=\"T_d246a_row1_col4\" class=\"data row1 col4\" >False</td>\n",
       "    </tr>\n",
       "    <tr>\n",
       "      <th id=\"T_d246a_level0_row2\" class=\"row_heading level0 row2\" >2</th>\n",
       "      <td id=\"T_d246a_row2_col0\" class=\"data row2 col0\" >in-between tests, grug hear shaman call \"integration tests\" sometime often with sour look on face. but grug say integration test sweet spot according to grug:...</td>\n",
       "      <td id=\"T_d246a_row2_col1\" class=\"data row2 col1\" >During my work, I often hear experienced colleagues mention \"integration tests\" with a hint of disapproval on their faces. However, I believe that integration tests...</td>\n",
       "      <td id=\"T_d246a_row2_col2\" class=\"data row2 col2\" >produce the grug_text. We will simplify the language and focus on the basic idea of integration tests being important.</td>\n",
       "      <td id=\"T_d246a_row2_col3\" class=\"data row2 col3\" >in-between tests, grug hear shaman call \"integration tests\" sometime often with sour look on face. but grug say integration test sweet spot according to grug:...</td>\n",
       "      <td id=\"T_d246a_row2_col4\" class=\"data row2 col4\" >False</td>\n",
       "    </tr>\n",
       "    <tr>\n",
       "      <th id=\"T_d246a_level0_row3\" class=\"row_heading level0 row3\" >3</th>\n",
       "      <td id=\"T_d246a_row3_col0\" class=\"data row3 col0\" >many developers Fear Of Looking Dumb (FOLD), grug also at one time FOLD, but grug learn get over: very important senior grug say \"this too...</td>\n",
       "      <td id=\"T_d246a_row3_col1\" class=\"data row3 col1\" >As a software developer, I understand the fear of looking ignorant when faced with complex problems. I used to experience this fear myself. However, over...</td>\n",
       "      <td id=\"T_d246a_row3_col2\" class=\"data row3 col2\" >produce the grug_text. We will simplify the language and focus on basic concepts.</td>\n",
       "      <td id=\"T_d246a_row3_col3\" class=\"data row3 col3\" >as software developer, grug know fear of look dumb when face big problem. grug feel this fear before. but grug learn ask for help important...</td>\n",
       "      <td id=\"T_d246a_row3_col4\" class=\"data row3 col4\" >False</td>\n",
       "    </tr>\n",
       "    <tr>\n",
       "      <th id=\"T_d246a_level0_row4\" class=\"row_heading level0 row4\" >4</th>\n",
       "      <td id=\"T_d246a_row4_col0\" class=\"data row4 col0\" >temptation generics very large is trick!  spirit demon complex love this one trick! beware!</td>\n",
       "      <td id=\"T_d246a_row4_col1\" class=\"data row4 col1\" >The urge to use generics extensively can be tempting, but it can be deceptive and lead us into a complex and challenging situation. I believe...</td>\n",
       "      <td id=\"T_d246a_row4_col2\" class=\"data row4 col2\" >produce the grug_text. We need to simplify the language and focus on the basic idea of cautioning against using generics too freely.</td>\n",
       "      <td id=\"T_d246a_row4_col3\" class=\"data row4 col3\" >temptation generics very large is trick!  spirit demon complex love this one trick! beware!</td>\n",
       "      <td id=\"T_d246a_row4_col4\" class=\"data row4 col4\" >False</td>\n",
       "    </tr>\n",
       "  </tbody>\n",
       "</table>\n"
      ],
      "text/plain": [
       "<pandas.io.formats.style.Styler at 0x120194a90>"
      ]
     },
     "metadata": {},
     "output_type": "display_data"
    },
    {
     "data": {
      "text/plain": [
       "(0.0, 0.0, 0.0)"
      ]
     },
     "execution_count": 345,
     "metadata": {},
     "output_type": "execute_result"
    }
   ],
   "source": [
    "run_overall_eval(zeroshot), run_overall_eval(fewshot), run_overall_eval(bfewshot)"
   ]
  },
  {
   "cell_type": "markdown",
   "id": "823d5a93-d3fc-42c9-97a6-9d837aa410bd",
   "metadata": {},
   "source": [
    "# Let's analyze our optimizations so far\n",
    "\n",
    "- V1 (LabeledFewShot) - kind of shitty. Didn't really work all that well.\n",
    "- V2 (BootstrapFewShot) - OK, but not doing perfectly.\n",
    "\n",
    "Our metric results are not great - so, what's going on here?\n",
    "\n",
    "I believe that we're failing on the readability score because it's looking for \"sentences\". That's a bit problem because it's make it so that when we train against that metric, we're getting worse results.\n",
    "\n",
    "## Building a specific optimization\n",
    "\n",
    "DSPy gives us this information, and makes it easy to debug..."
   ]
  },
  {
   "cell_type": "code",
   "execution_count": 346,
   "id": "e03a447b-9bb2-4e8a-9171-0221fa5a503a",
   "metadata": {},
   "outputs": [],
   "source": [
    "def speak_third_person(gold, pred, trace=None):\n",
    "    if \"grug\" not in pred.grug_text.lower():\n",
    "        return False\n",
    "    return True"
   ]
  },
  {
   "cell_type": "code",
   "execution_count": 347,
   "id": "95f26b05-fd7b-458f-b82a-0594106b8c2d",
   "metadata": {},
   "outputs": [
    {
     "name": "stderr",
     "output_type": "stream",
     "text": [
      " 25%|███████████████▎                                             | 5/20 [00:00<00:00, 1647.93it/s]\n"
     ]
    }
   ],
   "source": [
    "from dspy.teleprompt import BootstrapFewShot\n",
    "\n",
    "config = dict(max_bootstrapped_demos=5, max_labeled_demos=5)\n",
    "teleprompter = BootstrapFewShot(metric=speak_third_person, **config)\n",
    "teleprompter.max_errors = 1\n",
    "bfewshot = teleprompter.compile(CoT(), trainset=train, valset=test)"
   ]
  },
  {
   "cell_type": "code",
   "execution_count": 348,
   "id": "1d0fb073-7cd0-4ee2-a858-9e885ea1f823",
   "metadata": {},
   "outputs": [],
   "source": [
    "def run_detailed_eval(optimized_model, metric):\n",
    "    evaluate = Evaluate(metric=metric, devset=test[:5], num_threads=1, display_table=5)\n",
    "    return evaluate(optimized_model)"
   ]
  },
  {
   "cell_type": "code",
   "execution_count": 349,
   "id": "d4596284-2b75-4b2d-a308-e35d6d810ee2",
   "metadata": {},
   "outputs": [
    {
     "data": {
      "text/html": [
       "<style type=\"text/css\">\n",
       "#T_d75ec th {\n",
       "  text-align: left;\n",
       "}\n",
       "#T_d75ec td {\n",
       "  text-align: left;\n",
       "}\n",
       "#T_d75ec_row0_col0, #T_d75ec_row0_col1, #T_d75ec_row0_col2, #T_d75ec_row0_col3, #T_d75ec_row0_col4, #T_d75ec_row1_col0, #T_d75ec_row1_col1, #T_d75ec_row1_col2, #T_d75ec_row1_col3, #T_d75ec_row1_col4, #T_d75ec_row2_col0, #T_d75ec_row2_col1, #T_d75ec_row2_col2, #T_d75ec_row2_col3, #T_d75ec_row2_col4, #T_d75ec_row3_col0, #T_d75ec_row3_col1, #T_d75ec_row3_col2, #T_d75ec_row3_col3, #T_d75ec_row3_col4, #T_d75ec_row4_col0, #T_d75ec_row4_col1, #T_d75ec_row4_col2, #T_d75ec_row4_col3, #T_d75ec_row4_col4 {\n",
       "  text-align: left;\n",
       "  white-space: pre-wrap;\n",
       "  word-wrap: break-word;\n",
       "  max-width: 400px;\n",
       "}\n",
       "</style>\n",
       "<table id=\"T_d75ec\">\n",
       "  <thead>\n",
       "    <tr>\n",
       "      <th class=\"blank level0\" >&nbsp;</th>\n",
       "      <th id=\"T_d75ec_level0_col0\" class=\"col_heading level0 col0\" >example_grug_text</th>\n",
       "      <th id=\"T_d75ec_level0_col1\" class=\"col_heading level0 col1\" >plain_english</th>\n",
       "      <th id=\"T_d75ec_level0_col2\" class=\"col_heading level0 col2\" >rationale</th>\n",
       "      <th id=\"T_d75ec_level0_col3\" class=\"col_heading level0 col3\" >pred_grug_text</th>\n",
       "      <th id=\"T_d75ec_level0_col4\" class=\"col_heading level0 col4\" >speak_third_person</th>\n",
       "    </tr>\n",
       "  </thead>\n",
       "  <tbody>\n",
       "    <tr>\n",
       "      <th id=\"T_d75ec_level0_row0\" class=\"row_heading level0 row0\" >0</th>\n",
       "      <td id=\"T_d75ec_row0_col0\" class=\"data row0 col0\" >this make it ok for junior grugs to admit too complex and not understand as well, often such case! FOLD major source of complexity demon...</td>\n",
       "      <td id=\"T_d75ec_row0_col1\" class=\"data row0 col1\" >This emphasizes that it's okay for novice developers like me to acknowledge when something is too complex to understand fully. In such situations, the complexity...</td>\n",
       "      <td id=\"T_d75ec_row0_col2\" class=\"data row0 col2\" >produce the grug_text. We will simplify the language and focus on the idea that it's okay to admit when something is too hard to understand.</td>\n",
       "      <td id=\"T_d75ec_row0_col3\" class=\"data row0 col3\" >it okay for new developers like grug to say when something too hard. task too much, feel like no control. hard for young developers like...</td>\n",
       "      <td id=\"T_d75ec_row0_col4\" class=\"data row0 col4\" >✔️ [True]</td>\n",
       "    </tr>\n",
       "    <tr>\n",
       "      <th id=\"T_d75ec_level0_row1\" class=\"row_heading level0 row1\" >1</th>\n",
       "      <td id=\"T_d75ec_row1_col0\" class=\"data row1 col0\" >\"no, grug not build that abstraction\"</td>\n",
       "      <td id=\"T_d75ec_row1_col1\" class=\"data row1 col1\" >I, Grug, did not create that abstract concept or idea.</td>\n",
       "      <td id=\"T_d75ec_row1_col2\" class=\"data row1 col2\" >produce the grug_text. We will simplify the language and focus on Grug denying making something complicated.</td>\n",
       "      <td id=\"T_d75ec_row1_col3\" class=\"data row1 col3\" >me, Grug, not make that fancy idea.</td>\n",
       "      <td id=\"T_d75ec_row1_col4\" class=\"data row1 col4\" >✔️ [True]</td>\n",
       "    </tr>\n",
       "    <tr>\n",
       "      <th id=\"T_d75ec_level0_row2\" class=\"row_heading level0 row2\" >2</th>\n",
       "      <td id=\"T_d75ec_row2_col0\" class=\"data row2 col0\" >in-between tests, grug hear shaman call \"integration tests\" sometime often with sour look on face. but grug say integration test sweet spot according to grug:...</td>\n",
       "      <td id=\"T_d75ec_row2_col1\" class=\"data row2 col1\" >During my work, I often hear experienced colleagues mention \"integration tests\" with a hint of disapproval on their faces. However, I believe that integration tests...</td>\n",
       "      <td id=\"T_d75ec_row2_col2\" class=\"data row2 col2\" >produce the grug_text. We will simplify the language and focus on the importance of testing and finding issues.</td>\n",
       "      <td id=\"T_d75ec_row2_col3\" class=\"data row2 col3\" >grug hear smart friends talk about \"integration tests\" with frown. grug think tests important to check system and find problems with debugger.</td>\n",
       "      <td id=\"T_d75ec_row2_col4\" class=\"data row2 col4\" >✔️ [True]</td>\n",
       "    </tr>\n",
       "    <tr>\n",
       "      <th id=\"T_d75ec_level0_row3\" class=\"row_heading level0 row3\" >3</th>\n",
       "      <td id=\"T_d75ec_row3_col0\" class=\"data row3 col0\" >many developers Fear Of Looking Dumb (FOLD), grug also at one time FOLD, but grug learn get over: very important senior grug say \"this too...</td>\n",
       "      <td id=\"T_d75ec_row3_col1\" class=\"data row3 col1\" >As a software developer, I understand the fear of looking ignorant when faced with complex problems. I used to experience this fear myself. However, over...</td>\n",
       "      <td id=\"T_d75ec_row3_col2\" class=\"data row3 col2\" >produce the grug_text. We will simplify the language and focus on the basic emotions and lessons learned.</td>\n",
       "      <td id=\"T_d75ec_row3_col3\" class=\"data row3 col3\" >grug know feeling dumb with hard problems. grug used to feel this, but now grug ask for help to grow. it okay to say something...</td>\n",
       "      <td id=\"T_d75ec_row3_col4\" class=\"data row3 col4\" >✔️ [True]</td>\n",
       "    </tr>\n",
       "    <tr>\n",
       "      <th id=\"T_d75ec_level0_row4\" class=\"row_heading level0 row4\" >4</th>\n",
       "      <td id=\"T_d75ec_row4_col0\" class=\"data row4 col0\" >temptation generics very large is trick!  spirit demon complex love this one trick! beware!</td>\n",
       "      <td id=\"T_d75ec_row4_col1\" class=\"data row4 col1\" >The urge to use generics extensively can be tempting, but it can be deceptive and lead us into a complex and challenging situation. I believe...</td>\n",
       "      <td id=\"T_d75ec_row4_col2\" class=\"data row4 col2\" >produce the grug_text. We will simplify the language and focus on the cautionary message about using generics.</td>\n",
       "      <td id=\"T_d75ec_row4_col3\" class=\"data row4 col3\" >grug want warn about using too much generics, can be tricky and hard. hidden risks, be careful!</td>\n",
       "      <td id=\"T_d75ec_row4_col4\" class=\"data row4 col4\" >✔️ [True]</td>\n",
       "    </tr>\n",
       "  </tbody>\n",
       "</table>\n"
      ],
      "text/plain": [
       "<pandas.io.formats.style.Styler at 0x1203520d0>"
      ]
     },
     "metadata": {},
     "output_type": "display_data"
    },
    {
     "data": {
      "text/plain": [
       "100.0"
      ]
     },
     "execution_count": 349,
     "metadata": {},
     "output_type": "execute_result"
    }
   ],
   "source": [
    "run_detailed_eval(bfewshot, speak_third_person)"
   ]
  },
  {
   "cell_type": "markdown",
   "id": "4455632f-3245-4e2b-b8d3-30840e4a02b1",
   "metadata": {},
   "source": [
    "This is the power of metrics! We can steer our output and the model picks it up without us ever having to say it!\n",
    "\n",
    "Of course, that might not be the best metric to use but now we can iterate on it."
   ]
  },
  {
   "cell_type": "code",
   "execution_count": 351,
   "id": "b1dbfc09-c9c1-4004-9e80-e8e620bb49c7",
   "metadata": {},
   "outputs": [],
   "source": [
    "import pandas as pd\n",
    "\n",
    "analysis = dataset[:10].copy()\n",
    "df = pd.DataFrame.from_dict(analysis)\n",
    "df['predicted_grug_text'] = df.plain_english.map(lambda x: bfewshot.forward(x).grug_text)"
   ]
  },
  {
   "cell_type": "code",
   "execution_count": 352,
   "id": "7dd96e61-552b-4f62-91cc-e7ddfc564b7f",
   "metadata": {},
   "outputs": [
    {
     "name": "stdout",
     "output_type": "stream",
     "text": [
      "I, Grug, have compiled a collection of thoughts on software development using my own experience and knowledge. These ideas have been carefully gathered and organized to share insights and information with fellow developers.\n",
      "\n",
      "I, Grug, may not consider myself the most intelligent developer, but over the years of programming, I have gained some knowledge and experience. However, there are still many aspects that leave me puzzled and uncertain.\n",
      "\n",
      "As a developer, I try to gather the knowledge I acquire into small, easy-to-understand, and humorous pages. This is not only for you, the young me, but also for myself. As I age, I tend to forget important things like what I had for breakfast or if I remembered to put on pants.\n",
      "\n",
      "Many developers have high intelligence but not all of them appreciate this, leading to some displaying displeasure.\n",
      "\n",
      "I believe there are numerous self-proclaimed intelligent developers out there, possibly more than I can count. However, many of them may not actually embody this expertise they claim to possess. This realization often results in a sense of disappointment or frustration, as is common in online interactions.\n",
      "\n",
      "I used to believe I had great ideas, but I learned through challenges and difficulties that thinking big doesn't always mean success.\n",
      "\n",
      "I am doing well!\n",
      "\n",
      "In this industry, freedom isn't always guaranteed, but ultimately the specifics don't matter too much. I hope that you will enjoy reading my experiences and perhaps benefit from the many mistakes I have made throughout my long career in programming.\n",
      "\n",
      "I, Grug, consider complexity to be the ultimate challenge, the apex predator in the world of software development. Just like a powerful predator at the top of the food chain, complexity poses the biggest threat and requires the most skill to navigate and overcome.\n",
      "\n",
      "Grug believes that complexity is undesirable or disadvantageous. This suggests that Grug prefers simplicity and clarity in software development.\n"
     ]
    }
   ],
   "source": [
    "print(\"\\n\\n\".join(df.plain_english.tolist()))"
   ]
  },
  {
   "cell_type": "code",
   "execution_count": 353,
   "id": "d74372ba-1ad7-4bfb-8363-f65db33f183c",
   "metadata": {},
   "outputs": [
    {
     "name": "stdout",
     "output_type": "stream",
     "text": [
      "this collection of thoughts on software development gathered by grug brain developer\n",
      "\n",
      "grug brain developer not so smart, but grug brain developer program many long year and learn some things\n",
      "although mostly still confused\n",
      "\n",
      "grug brain developer try collect learns into small, easily digestible and funny page, not only for you, the young grug, but also for him\n",
      "because as grug brain developer get older he forget important things, like what had for breakfast or if put pants on\n",
      "\n",
      "big brained developers are many, and some not expected to like this, make sour face\n",
      "\n",
      "THINK they are big brained developers many, many more, and more even definitely probably maybe not like this, many\n",
      "sour face (such is internet)\n",
      "\n",
      "(note: grug once think big brained but learn hard way)\n",
      "\n",
      "is fine!\n",
      "\n",
      "is free country sort of and end of day not really matter too much, but grug hope you fun reading and maybe learn from\n",
      "many, many mistake grug make over long program life\n",
      "\n",
      "apex predator of grug is complexity\n",
      "\n",
      "complexity bad\n"
     ]
    }
   ],
   "source": [
    "print(\"\\n\\n\".join(df.grug_text.tolist()))"
   ]
  },
  {
   "cell_type": "code",
   "execution_count": 354,
   "id": "36fbf60a-00e6-4dbc-84d6-2f12e2d71118",
   "metadata": {},
   "outputs": [
    {
     "name": "stdout",
     "output_type": "stream",
     "text": [
      "me, Grug, put together thoughts on making software from what me know. me share ideas with other developers.\n",
      "\n",
      "me, Grug, not smart developer, but learn some things over time. still confused about many things.\n",
      "\n",
      "grug developer, grug try make small, funny pages for young me and me. grug forget things as get old, like breakfast or pants.\n",
      "\n",
      "many smart people not happy, even though they smart.\n",
      "\n",
      "grug think many say they smart, but not really. grug feel sad when find out online.\n",
      "\n",
      "grug think big ideas good, but learn from hard times that big not always mean win.\n",
      "\n",
      "grug good!\n",
      "\n",
      "in work, not always free, but details not important. grug hope you like stories, learn from grug mistakes in long programming career.\n",
      "\n",
      "me, Grug, think hard things biggest challenge, like big predator in software world. complexity dangerous, need much skill to beat.\n",
      "\n",
      "Grug think complex bad. Grug like simple and clear software.\n"
     ]
    }
   ],
   "source": [
    "print(\"\\n\\n\".join(df.predicted_grug_text.tolist()))"
   ]
  },
  {
   "cell_type": "markdown",
   "id": "98f5ba5d-f524-45f5-b790-83e5cec382f1",
   "metadata": {},
   "source": [
    "## Let's test some generalization"
   ]
  },
  {
   "cell_type": "code",
   "execution_count": 369,
   "id": "09c2f12f-e796-4b36-9f5d-9a2fb342338b",
   "metadata": {},
   "outputs": [],
   "source": [
    "generalize_set = \"\"\"DSPy is a framework for using large language models as programs.\n",
    "It gives us the ability to steer LLM output without having to directly put things in prompts (if we don't want to).\n",
    "This power means that we can build all kinds of crazy things without explicit instructions.\n",
    "Think of the possibilities! But it is a little complex, so we have to be careful.\n",
    "You can write programs that can work across various language models!\"\"\""
   ]
  },
  {
   "cell_type": "code",
   "execution_count": 370,
   "id": "6ccbed23-329c-4e4d-868f-152007d39d3d",
   "metadata": {},
   "outputs": [
    {
     "name": "stdout",
     "output_type": "stream",
     "text": [
      "DSPy good for big talk models as programs.\n",
      "it help us control LLM without needing to do extra work with prompts.\n",
      "this power let us make crazy things without clear rules.\n",
      "think of things we can do! but it hard, so grug be careful.\n",
      "you make things work in many languages with programs!\n"
     ]
    }
   ],
   "source": [
    "print(\"\\n\".join([bfewshot.forward(line).grug_text for line in generalize_set.split(\"\\n\")]))"
   ]
  },
  {
   "cell_type": "markdown",
   "id": "3ba29eb9-4a71-49f3-8372-3dad40eb5abd",
   "metadata": {},
   "source": [
    "It's not quite working as expected. We aren't generalizing well, and we definitely aren't doing well on semantics of what is said.\n",
    "\n",
    "That make grug sad.\n",
    "\n",
    "In next post, grug try improve."
   ]
  },
  {
   "cell_type": "markdown",
   "id": "7255ea7c-6510-4d8d-ae30-ca2f459eaa0f",
   "metadata": {},
   "source": [
    "# Conclusion\n",
    "\n",
    "We can now start to understand the power of metrics. We steered the model to perform the way taht we wanted without explicitly telling it to - just based on a metric and a few examples.\n",
    "\n",
    "In the next part we'll look at dspy.Suggestions, Assertions, and better metrics to further steer the output."
   ]
  },
  {
   "cell_type": "markdown",
   "id": "c47b1a68-09bf-4998-bcd7-d176d3ae3fe6",
   "metadata": {},
   "source": [
    "Follow along for subsequent tutorials on:\n",
    "\n",
    "1. Automatically optimizing prompts\n",
    "2. Customizing input to DSPy\n",
    "3. Saving prompts to use in LangChain or LlamaIndex\n",
    "4. Tuning and using open source models\n",
    "\n",
    "Cheers,\n",
    "[Bill](https://twitter.com/bllchmbrs)\n",
    "\n",
    "[Learn By Building AI](https://learnbybuilding.ai/?ref=dspy-tutorial)"
   ]
  },
  {
   "cell_type": "code",
   "execution_count": null,
   "id": "58b337f8-2723-42e8-97a6-2c90bbd47cb8",
   "metadata": {},
   "outputs": [],
   "source": []
  }
 ],
 "metadata": {
  "kernelspec": {
   "display_name": "Python 3 (ipykernel)",
   "language": "python",
   "name": "python3"
  },
  "language_info": {
   "codemirror_mode": {
    "name": "ipython",
    "version": 3
   },
   "file_extension": ".py",
   "mimetype": "text/x-python",
   "name": "python",
   "nbconvert_exporter": "python",
   "pygments_lexer": "ipython3",
   "version": "3.11.5"
  }
 },
 "nbformat": 4,
 "nbformat_minor": 5
}
