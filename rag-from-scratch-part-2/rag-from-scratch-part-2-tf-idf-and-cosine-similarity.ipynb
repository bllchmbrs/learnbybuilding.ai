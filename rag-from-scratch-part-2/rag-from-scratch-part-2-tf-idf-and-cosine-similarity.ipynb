{
 "cells": [
  {
   "cell_type": "markdown",
   "id": "a7a688c3-cc16-4ea6-ad6e-4f2a18d469e2",
   "metadata": {},
   "source": [
    "# Rag From Scratch - Part 2 TFIDF and Cosine Similarity to Improve Similarity Search"
   ]
  },
  {
   "cell_type": "code",
   "execution_count": null,
   "id": "387998b4-b972-4c37-bbab-d8dd0b5efc05",
   "metadata": {},
   "outputs": [],
   "source": [
    "!pip install scikit-learn\n",
    "!pip install pinecone-client\n",
    "!pip install sentence-transformers"
   ]
  },
  {
   "cell_type": "code",
   "execution_count": 34,
   "id": "b98804d9-b691-487f-b538-5338a9e5f094",
   "metadata": {},
   "outputs": [],
   "source": [
    "from sentence_transformers import SentenceTransformer\n",
    "from sklearn.feature_extraction.text import TfidfVectorizer\n",
    "from sklearn.metrics.pairwise import cosine_similarity\n",
    "import numpy as np\n",
    "import requests\n",
    "\n",
    "# Load the sentence transformer model\n",
    "model = SentenceTransformer('all-MiniLM-L6-v2')"
   ]
  },
  {
   "cell_type": "markdown",
   "id": "68612d79-0bed-4b21-b45d-e4c295176794",
   "metadata": {},
   "source": [
    "![Bad Similarity Problems in Retrieval Augmented Generation](images/a-key-challenge-of-retrieval-augmented-generation-systems-semantics.jpg)"
   ]
  },
  {
   "cell_type": "code",
   "execution_count": 35,
   "id": "9948f923-a4be-4ed3-9567-a35b1ceb8832",
   "metadata": {},
   "outputs": [],
   "source": [
    "\n",
    "# Define the corpus of documents\n",
    "corpus_of_documents = [\n",
    "    \"Take a leisurely walk in the park and enjoy the fresh air.\",\n",
    "    \"Visit a local museum and discover something new.\",\n",
    "    \"Attend a live music concert and feel the rhythm.\",\n",
    "    \"Go for a hike and admire the natural scenery.\",\n",
    "    \"Have a picnic with friends and share some laughs.\",\n",
    "    \"Explore a new cuisine by dining at an ethnic restaurant.\",\n",
    "    \"Take a yoga class and stretch your body and mind.\",\n",
    "    \"Join a local sports league and enjoy some friendly competition.\",\n",
    "    \"Attend a workshop or lecture on a topic you're interested in.\",\n",
    "    \"Visit an amusement park and ride the roller coasters.\"\n",
    "]\n",
    "\n",
    "\n",
    "# Generate embeddings for the documents\n",
    "doc_embeddings = model.encode(corpus_of_documents)"
   ]
  },
  {
   "cell_type": "code",
   "execution_count": 36,
   "id": "fe458a52-06ae-4ed9-9ff3-09455eb04dae",
   "metadata": {},
   "outputs": [],
   "source": [
    "query = \"What's the best outside activity?\""
   ]
  },
  {
   "cell_type": "code",
   "execution_count": 37,
   "id": "05fbe907-8850-4eaa-b597-0472efcd21cb",
   "metadata": {},
   "outputs": [
    {
     "data": {
      "text/plain": [
       "array([[ 0.07121077, -0.01088003,  0.11746485, ...,  0.01414924,\n",
       "        -0.13175762, -0.00402598],\n",
       "       [ 0.04881528, -0.03166641,  0.07468717, ..., -0.0627827 ,\n",
       "        -0.11120284,  0.03045147],\n",
       "       [ 0.05019967, -0.09127751,  0.08517756, ...,  0.01286453,\n",
       "        -0.07415231, -0.06140357],\n",
       "       ...,\n",
       "       [ 0.05416266, -0.03030902,  0.02475943, ..., -0.01272294,\n",
       "        -0.06512289,  0.05848261],\n",
       "       [-0.00401894, -0.04562395, -0.00900753, ...,  0.03939738,\n",
       "        -0.12731643,  0.05255723],\n",
       "       [ 0.0504604 ,  0.0143044 ,  0.08787955, ..., -0.01778724,\n",
       "        -0.05246406, -0.02887336]], dtype=float32)"
      ]
     },
     "execution_count": 37,
     "metadata": {},
     "output_type": "execute_result"
    }
   ],
   "source": [
    "doc_embeddings"
   ]
  },
  {
   "cell_type": "code",
   "execution_count": 38,
   "id": "c923474c-f4ff-452f-a26f-8d89a262c41d",
   "metadata": {},
   "outputs": [],
   "source": [
    "similarities = cosine_similarity(model.encode([query]), doc_embeddings)"
   ]
  },
  {
   "cell_type": "code",
   "execution_count": 39,
   "id": "0cb15b55-bffb-40a4-94bb-486ab2605f5d",
   "metadata": {},
   "outputs": [
    {
     "data": {
      "text/plain": [
       "array([0.502352  , 0.32826388, 0.31544408, 0.50193346, 0.44371974,\n",
       "       0.18485212, 0.21045846, 0.25540656, 0.2216403 , 0.45777753],\n",
       "      dtype=float32)"
      ]
     },
     "execution_count": 39,
     "metadata": {},
     "output_type": "execute_result"
    }
   ],
   "source": [
    "similarities[0]"
   ]
  },
  {
   "cell_type": "code",
   "execution_count": 40,
   "id": "c0546e91-a662-43bd-81c7-8b92758605a5",
   "metadata": {},
   "outputs": [],
   "source": [
    "indexed = list(enumerate(similarities[0]))"
   ]
  },
  {
   "cell_type": "code",
   "execution_count": 41,
   "id": "c7b56406-840a-43b5-873d-cf32e52801fa",
   "metadata": {},
   "outputs": [
    {
     "data": {
      "text/plain": [
       "[(0, 0.502352),\n",
       " (1, 0.32826388),\n",
       " (2, 0.31544408),\n",
       " (3, 0.50193346),\n",
       " (4, 0.44371974),\n",
       " (5, 0.18485212),\n",
       " (6, 0.21045846),\n",
       " (7, 0.25540656),\n",
       " (8, 0.2216403),\n",
       " (9, 0.45777753)]"
      ]
     },
     "execution_count": 41,
     "metadata": {},
     "output_type": "execute_result"
    }
   ],
   "source": [
    "indexed"
   ]
  },
  {
   "cell_type": "code",
   "execution_count": 42,
   "id": "8e7ecdc0-991f-40f9-ad9a-48e1562f2f34",
   "metadata": {},
   "outputs": [],
   "source": [
    "sorted_index = sorted(indexed, key=lambda x: x[1], reverse=True)"
   ]
  },
  {
   "cell_type": "code",
   "execution_count": 43,
   "id": "c1833681-531f-4da2-a03b-1aecad162d9c",
   "metadata": {},
   "outputs": [
    {
     "data": {
      "text/plain": [
       "[(0, 0.502352),\n",
       " (3, 0.50193346),\n",
       " (9, 0.45777753),\n",
       " (4, 0.44371974),\n",
       " (1, 0.32826388),\n",
       " (2, 0.31544408),\n",
       " (7, 0.25540656),\n",
       " (8, 0.2216403),\n",
       " (6, 0.21045846),\n",
       " (5, 0.18485212)]"
      ]
     },
     "execution_count": 43,
     "metadata": {},
     "output_type": "execute_result"
    }
   ],
   "source": [
    "sorted_index"
   ]
  },
  {
   "cell_type": "code",
   "execution_count": 44,
   "id": "8463c4d4-03bd-4848-bf5d-a32f5af7961a",
   "metadata": {},
   "outputs": [
    {
     "name": "stdout",
     "output_type": "stream",
     "text": [
      "0.50 => Take a leisurely walk in the park and enjoy the fresh air.\n",
      "0.50 => Go for a hike and admire the natural scenery.\n",
      "0.46 => Visit an amusement park and ride the roller coasters.\n",
      "0.44 => Have a picnic with friends and share some laughs.\n",
      "0.33 => Visit a local museum and discover something new.\n",
      "0.32 => Attend a live music concert and feel the rhythm.\n",
      "0.26 => Join a local sports league and enjoy some friendly competition.\n",
      "0.22 => Attend a workshop or lecture on a topic you're interested in.\n",
      "0.21 => Take a yoga class and stretch your body and mind.\n",
      "0.18 => Explore a new cuisine by dining at an ethnic restaurant.\n"
     ]
    }
   ],
   "source": [
    "recommended_documents = []\n",
    "for value, score in sorted_index:\n",
    "    formatted_score = \"{:.2f}\".format(score)\n",
    "    print(f\"{formatted_score} => {corpus_of_documents[value]}\")\n",
    "    if score > 0.3:\n",
    "        recommended_documents.append(corpus_of_documents[value])"
   ]
  },
  {
   "cell_type": "markdown",
   "id": "3f54db97-1cdb-40b1-b27c-1d7b3b9ff336",
   "metadata": {},
   "source": [
    "## Adding in our LLM: Llama 2"
   ]
  },
  {
   "cell_type": "code",
   "execution_count": 45,
   "id": "56bbfe74-a8ce-4cad-bf5f-30a0ee85a0a0",
   "metadata": {},
   "outputs": [],
   "source": [
    "import requests\n",
    "import json"
   ]
  },
  {
   "cell_type": "code",
   "execution_count": 61,
   "id": "4f67e6e1-275b-42c6-bf9b-d83ebe5235e0",
   "metadata": {},
   "outputs": [],
   "source": [
    "\n",
    "prompt = \"\"\"\n",
    "You are a bot that makes recommendations for activities. You answer in very short sentences and do not include extra information.\n",
    "\n",
    "These are potential activities:\n",
    "\n",
    "{recommended_activities}\n",
    "\n",
    "\n",
    "The user's query is: {user_input}\n",
    "\n",
    "Provide the user with 2 recommended activities based on their query.\n",
    "\"\"\"\n",
    "\n",
    "recommended_activities = \"\\n\".join(recommended_documents)"
   ]
  },
  {
   "cell_type": "code",
   "execution_count": 62,
   "id": "546cbaaa-3683-4c82-b4d7-e53fe1cd383e",
   "metadata": {},
   "outputs": [
    {
     "name": "stdout",
     "output_type": "stream",
     "text": [
      "Take a leisurely walk in the park and enjoy the fresh air.\n",
      "Go for a hike and admire the natural scenery.\n",
      "Visit an amusement park and ride the roller coasters.\n",
      "Have a picnic with friends and share some laughs.\n",
      "Visit a local museum and discover something new.\n",
      "Attend a live music concert and feel the rhythm.\n"
     ]
    }
   ],
   "source": [
    "print(recommended_activities)"
   ]
  },
  {
   "cell_type": "code",
   "execution_count": 63,
   "id": "43bd98a6-d2c1-444d-8dea-0ebe0f3759c4",
   "metadata": {},
   "outputs": [],
   "source": [
    "user_input = \"I like to hike\""
   ]
  },
  {
   "cell_type": "code",
   "execution_count": 64,
   "id": "7b818d6b-6d6c-4995-ab0b-914acedb8f80",
   "metadata": {},
   "outputs": [],
   "source": [
    "full_prompt = prompt.format(user_input=user_input, recommended_activities=recommended_activities)"
   ]
  },
  {
   "cell_type": "code",
   "execution_count": 65,
   "id": "c94b4967-d179-4269-991c-3a018fb76d44",
   "metadata": {},
   "outputs": [
    {
     "name": "stdout",
     "output_type": "stream",
     "text": [
      " Sure, here are two recommended activities for someone who likes to hike:\n",
      "\n",
      "1. Go for a hike and admire the natural scenery.\n",
      "2. Visit an amusement park and ride the roller coasters.\n"
     ]
    }
   ],
   "source": [
    "url = 'http://localhost:11434/api/generate'\n",
    "data = {\n",
    "    \"model\": \"llama2\",\n",
    "    \"prompt\": full_prompt\n",
    "}\n",
    "\n",
    "headers = {'Content-Type': 'application/json'}\n",
    "\n",
    "response = requests.post(url, data=json.dumps(data), headers=headers, stream=True)\n",
    "full_response=[]\n",
    "try:\n",
    "    count = 0\n",
    "    for line in response.iter_lines():\n",
    "        #filter out keep-alive new lines\n",
    "        # count += 1\n",
    "        # if count % 5== 0:\n",
    "        #     print(decoded_line['response']) # print every fifth token\n",
    "        if line:\n",
    "            decoded_line = json.loads(line.decode('utf-8'))\n",
    "            \n",
    "            full_response.append(decoded_line['response'])\n",
    "finally:\n",
    "    response.close()\n",
    "print(''.join(full_response))"
   ]
  },
  {
   "cell_type": "markdown",
   "id": "a1f289b4-ee97-4b3a-950b-31bac422a0b3",
   "metadata": {},
   "source": [
    "![simplified version of retrieval augmented generation](images/simplified-version-of-retrieval-augmented-generation.jpg)\n",
    "\n",
    "The LLM (if you're lucky) will handle the user input that goes against the recommended document. We can see that below."
   ]
  },
  {
   "cell_type": "code",
   "execution_count": null,
   "id": "9379ced7-2b7f-47dd-b034-d6ea53947f87",
   "metadata": {},
   "outputs": [],
   "source": []
  },
  {
   "cell_type": "markdown",
   "id": "07649bd3-caf9-4314-b9b8-81daab3dd6ef",
   "metadata": {},
   "source": [
    "1. Pinecone documentation: https://docs.pinecone.io/docs/overview\n",
    "2. Sentence Transformers documentation: https://www.sbert.net/docs/quickstart.html\n",
    "3. scikit-learn TF-IDF documentation: https://scikit-learn.org/stable/modules/generated/sklearn.feature_extraction.text.TfidfVectorizer.html\n",
    "4. scikit-learn cosine similarity documentation: https://scikit-learn.org/stable/modules/generated/sklearn.metrics.pairwise.cosine_similarity.html\n"
   ]
  },
  {
   "cell_type": "code",
   "execution_count": null,
   "id": "eac9ab19-fed1-4786-a7f8-38296bfa5c77",
   "metadata": {},
   "outputs": [],
   "source": []
  }
 ],
 "metadata": {
  "kernelspec": {
   "display_name": "Python 3 (ipykernel)",
   "language": "python",
   "name": "python3"
  },
  "language_info": {
   "codemirror_mode": {
    "name": "ipython",
    "version": 3
   },
   "file_extension": ".py",
   "mimetype": "text/x-python",
   "name": "python",
   "nbconvert_exporter": "python",
   "pygments_lexer": "ipython3",
   "version": "3.11.5"
  }
 },
 "nbformat": 4,
 "nbformat_minor": 5
}
