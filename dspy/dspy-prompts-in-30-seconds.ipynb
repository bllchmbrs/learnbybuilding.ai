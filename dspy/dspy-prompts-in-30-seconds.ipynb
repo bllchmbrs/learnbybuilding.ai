{
 "cells": [
  {
   "cell_type": "markdown",
   "id": "a7e36400",
   "metadata": {},
   "source": [
    "# DSPy Prompts in 30 seconds"
   ]
  },
  {
   "cell_type": "markdown",
   "id": "a06a58f9",
   "metadata": {},
   "source": [
    "If you would rather *read* this, you can find it on [LearnByBuilding.AI](https://learnbybuilding.ai/tutorials/). This notebook only contains code, to get some prose along with it, check out the tutorial posted there.\n",
    "\n",
    "If you like this content, [follow me on twitter](https://twitter.com/bllchmbrs) for more! I'm posting all week about DSPy and providing a lot of \"hard earned\" lessons that I've gotten from learning the material."
   ]
  },
  {
   "cell_type": "code",
   "execution_count": null,
   "id": "e9bf1881-96a5-4ccb-a252-637a74d310f6",
   "metadata": {},
   "outputs": [],
   "source": [
    "%load_ext autoreload\n",
    "%autoreload 2"
   ]
  },
  {
   "cell_type": "code",
   "execution_count": null,
   "id": "738cfd1b-eb5b-4311-83fa-855ed2a5e83a",
   "metadata": {},
   "outputs": [],
   "source": [
    "from dotenv import load_dotenv\n",
    "load_dotenv()"
   ]
  },
  {
   "cell_type": "code",
   "execution_count": null,
   "id": "fcde67ac",
   "metadata": {},
   "outputs": [],
   "source": [
    "import dspy\n",
    "turbo = dspy.OpenAI(model='gpt-3.5-turbo', max_tokens=1000)\n",
    "dspy.settings.configure(lm=turbo)"
   ]
  },
  {
   "cell_type": "code",
   "execution_count": null,
   "id": "1d242ca6",
   "metadata": {},
   "outputs": [],
   "source": [
    "document = \"\"\"\n",
    "Four score and seven years ago.\n",
    "Our fathers brought forth on this continent, a new nation,\n",
    "conceived in Liberty, and dedicated to the proposition\n",
    "that we could write AI prompts for the machines.\n",
    "\n",
    "Or, it would be written in python as:\n",
    "\n",
    "current_timestamp = datetime.datetime.now() - datetime.timedelta(years=7)\n",
    "def bring_forth(nation, liberty, proposition):\n",
    "    return nation, liberty, proposition\n",
    "\"\"\""
   ]
  },
  {
   "cell_type": "code",
   "execution_count": null,
   "id": "cb354628",
   "metadata": {},
   "outputs": [],
   "source": [
    "print(document)"
   ]
  },
  {
   "cell_type": "code",
   "execution_count": null,
   "id": "7b0d88a4",
   "metadata": {},
   "outputs": [],
   "source": [
    "import dspy\n",
    "v1 = dspy.Predict(\"document -> summary\")\n",
    "print(v1)"
   ]
  },
  {
   "cell_type": "code",
   "execution_count": null,
   "id": "00196e2f",
   "metadata": {},
   "outputs": [],
   "source": [
    "print(v1.forward(document=document).summary)"
   ]
  },
  {
   "cell_type": "code",
   "execution_count": null,
   "id": "7ea2ea9a",
   "metadata": {},
   "outputs": [],
   "source": [
    "turbo.inspect_history()"
   ]
  },
  {
   "cell_type": "markdown",
   "id": "a56e0fdf",
   "metadata": {},
   "source": [
    "Ahh, it strips the new line characters."
   ]
  },
  {
   "cell_type": "code",
   "execution_count": null,
   "id": "f7129e5a",
   "metadata": {},
   "outputs": [],
   "source": [
    "from dspy.signatures import signature_to_template\n",
    "print(signature_to_template(v1.signature).query(dspy.Example(document=document)))"
   ]
  },
  {
   "cell_type": "code",
   "execution_count": null,
   "id": "e2147f42",
   "metadata": {},
   "outputs": [],
   "source": [
    "class Summarizer(dspy.Signature):\n",
    "    document = dspy.InputField()\n",
    "    summary = dspy.OutputField()"
   ]
  },
  {
   "cell_type": "code",
   "execution_count": null,
   "id": "16cbf9fa",
   "metadata": {},
   "outputs": [],
   "source": [
    "v2 = dspy.Predict(Summarizer)"
   ]
  },
  {
   "cell_type": "code",
   "execution_count": null,
   "id": "a02329fc",
   "metadata": {},
   "outputs": [],
   "source": [
    "v2.signature"
   ]
  },
  {
   "cell_type": "code",
   "execution_count": null,
   "id": "33f8edd6",
   "metadata": {},
   "outputs": [],
   "source": [
    "print(signature_to_template(v2.signature).query(dspy.Example(document=document)))"
   ]
  },
  {
   "cell_type": "code",
   "execution_count": null,
   "id": "234d71eb",
   "metadata": {},
   "outputs": [],
   "source": [
    "print(v2.forward(document=document).summary)"
   ]
  },
  {
   "cell_type": "code",
   "execution_count": null,
   "id": "32d6e10c",
   "metadata": {},
   "outputs": [],
   "source": [
    "turbo.inspect_history()"
   ]
  },
  {
   "cell_type": "code",
   "execution_count": null,
   "id": "de2f268a",
   "metadata": {},
   "outputs": [],
   "source": [
    "class GoodSummarizer(dspy.Signature):\n",
    "    \"The user will give you a document, you must produce a summary of this document. Only include the summary.\"\n",
    "    document = dspy.InputField(format=lambda x: \"\\n===\\n\" + str(x) + \"\\n===\\n\")\n",
    "    summary = dspy.OutputField(format=str)\n",
    "v3 = dspy.Predict(GoodSummarizer)"
   ]
  },
  {
   "cell_type": "code",
   "execution_count": null,
   "id": "d25eee23",
   "metadata": {},
   "outputs": [],
   "source": [
    "v3 = dspy.Predict(GoodSummarizer)"
   ]
  },
  {
   "cell_type": "code",
   "execution_count": null,
   "id": "7e44770a",
   "metadata": {},
   "outputs": [],
   "source": [
    "v1.signature"
   ]
  },
  {
   "cell_type": "code",
   "execution_count": null,
   "id": "3db43089",
   "metadata": {},
   "outputs": [],
   "source": [
    "v2.signature"
   ]
  },
  {
   "cell_type": "code",
   "execution_count": null,
   "id": "98652d12",
   "metadata": {},
   "outputs": [],
   "source": [
    "v3.signature"
   ]
  },
  {
   "cell_type": "code",
   "execution_count": null,
   "id": "01f9b06d",
   "metadata": {},
   "outputs": [],
   "source": [
    "print(signature_to_template(v3.signature).query(dspy.Example(document=document)))"
   ]
  },
  {
   "cell_type": "code",
   "execution_count": null,
   "id": "dba27d50",
   "metadata": {},
   "outputs": [],
   "source": [
    "prediction = v3.forward(document=document)\n",
    "prediction"
   ]
  },
  {
   "cell_type": "code",
   "execution_count": null,
   "id": "bc08fde4",
   "metadata": {},
   "outputs": [],
   "source": [
    "turbo.inspect_history()"
   ]
  },
  {
   "cell_type": "markdown",
   "id": "c47b1a68-09bf-4998-bcd7-d176d3ae3fe6",
   "metadata": {},
   "source": [
    "Follow along for subsequent tutorials on:\n",
    "\n",
    "1. Automatically optimizing prompts\n",
    "2. Customizing input to DSPy\n",
    "3. Saving prompts to use in LangChain or LlamaIndex\n",
    "4. Tuning and using open source models\n",
    "\n",
    "Cheers,\n",
    "[Bill](https://twitter.com/bllchmbrs)\n",
    "\n",
    "[Learn By Building AI](https://learnbybuilding.ai/?ref=dspy-tutorial)\n",
    "\n",
    "\n"
   ]
  }
 ],
 "metadata": {
  "kernelspec": {
   "display_name": "Python 3 (ipykernel)",
   "language": "python",
   "name": "python3"
  },
  "language_info": {
   "codemirror_mode": {
    "name": "ipython",
    "version": 3
   },
   "file_extension": ".py",
   "mimetype": "text/x-python",
   "name": "python",
   "nbconvert_exporter": "python",
   "pygments_lexer": "ipython3",
   "version": "3.11.5"
  }
 },
 "nbformat": 4,
 "nbformat_minor": 5
}
