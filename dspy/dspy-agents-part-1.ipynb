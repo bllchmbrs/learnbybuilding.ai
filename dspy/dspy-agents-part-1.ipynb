{
 "cells": [
  {
   "cell_type": "markdown",
   "id": "a7ce63c4-6fdd-4664-ab81-6b0fcc49a16a",
   "metadata": {},
   "source": [
    "# An Attempt at DSPy Agents\n",
    "\n",
    "If you would rather *read* this, you can find it on [LearnByBuilding.AI](https://learnbybuilding.ai/tutorials/). This notebook only contains code, to get some prose along with it, check out the tutorial posted there.\n",
    "\n",
    "If you like this content, [follow me on twitter](https://twitter.com/bllchmbrs) for more! I'm posting all week about DSPy and providing a lot of \"hard earned\" lessons that I've gotten from learning the material."
   ]
  },
  {
   "cell_type": "code",
   "execution_count": 137,
   "id": "b221c6e9-35b6-4841-b98d-23d6b210c1a3",
   "metadata": {},
   "outputs": [
    {
     "name": "stdout",
     "output_type": "stream",
     "text": [
      "The autoreload extension is already loaded. To reload it, use:\n",
      "  %reload_ext autoreload\n"
     ]
    }
   ],
   "source": [
    "%load_ext autoreload\n",
    "%autoreload 2"
   ]
  },
  {
   "cell_type": "code",
   "execution_count": 138,
   "id": "764b29c2-8c7e-4d1d-9a0d-7629c69ad500",
   "metadata": {},
   "outputs": [
    {
     "data": {
      "text/plain": [
       "True"
      ]
     },
     "execution_count": 138,
     "metadata": {},
     "output_type": "execute_result"
    }
   ],
   "source": [
    "from dotenv import load_dotenv\n",
    "load_dotenv()"
   ]
  },
  {
   "cell_type": "code",
   "execution_count": 139,
   "id": "0d40d87d-fb50-4216-893d-35e38926a507",
   "metadata": {},
   "outputs": [],
   "source": [
    "import dspy\n",
    "import instructor\n",
    "\n",
    "wrkr = dspy.OpenAI(model='gpt-3.5-turbo', max_tokens=1000, api_base='http://0.0.0.0:4000', model_type=\"chat\")\n",
    "bss = dspy.OpenAI(model='gpt-4-turbo', max_tokens=1000, api_base='http://0.0.0.0:4000', model_type=\"chat\")\n",
    "\n",
    "dspy.configure(lm=wrkr)"
   ]
  },
  {
   "cell_type": "code",
   "execution_count": 140,
   "id": "d1fe2a04-70d5-4523-a05e-283a65b6378c",
   "metadata": {},
   "outputs": [],
   "source": [
    "from typing import List, Any, Callable, Optional\n",
    "from pydantic import BaseModel"
   ]
  },
  {
   "cell_type": "code",
   "execution_count": 141,
   "id": "68719e08-5725-475e-9f2d-bcac7b5de75c",
   "metadata": {},
   "outputs": [],
   "source": []
  },
  {
   "cell_type": "code",
   "execution_count": 142,
   "id": "47f86522-e891-4871-b2a5-fba9416bdb4b",
   "metadata": {},
   "outputs": [],
   "source": [
    "class Plan(dspy.Signature):\n",
    "    \"\"\"Produce a step by step plan to perform the task. \n",
    "The plan needs to be in markdown format and should be broken down into big steps (with ## headings) and sub-steps beneath those.\n",
    "When thinking about your plan, be sure to think about the tools at your disposal and include them in your plan.\n",
    "    \"\"\"\n",
    "    task = dspy.InputField(prefix=\"Task\", desc=\"The task\")\n",
    "    context = dspy.InputField(format=str, desc=\"The context around the plan\")\n",
    "    proposed_plan = dspy.OutputField(desc=\"The proposed, step by step execution plan.\")"
   ]
  },
  {
   "cell_type": "code",
   "execution_count": 163,
   "id": "70dca8df-6fe9-4607-b477-c5eda67f85ca",
   "metadata": {},
   "outputs": [],
   "source": [
    "class Worker(dspy.Module):\n",
    "    def __init__(self, role:str, tools:List):\n",
    "        self.role = role\n",
    "        self.tools = tools\n",
    "        self.tool_descriptions = \"\\n\".join([f\"- {t.name}: {t.description}. To use this tool please provide: `{t.requires}`\" for t in tools])\n",
    "        self.plan = dspy.ChainOfThought(Plan)\n",
    "        self.execute_step = None\n",
    "        self.history = []\n",
    "\n",
    "    def forward(self, task:str):\n",
    "        context = f\"{self.role}\\n{self.tool_descriptions}\"\n",
    "        input_args = dict(\n",
    "            context = context,\n",
    "            task = task\n",
    "        )\n",
    "        result = self.plan(**input_args)\n",
    "        print(result.proposed_plan)"
   ]
  },
  {
   "cell_type": "code",
   "execution_count": 164,
   "id": "1a0ccbc8-6cf0-492e-97d7-27f9c049e1d1",
   "metadata": {},
   "outputs": [
    {
     "name": "stdout",
     "output_type": "stream",
     "text": [
      "## Step 1: Assess the yard\n",
      "- Use the phone to call a landscaping company to get a quote for yard cleanup services.\n",
      "- Use the local business lookup to find a reputable landscaping company in the area.\n",
      "\n",
      "## Step 2: Create a plan\n",
      "- Once you have received quotes from different companies, compare prices and services offered.\n",
      "- Decide on a budget and timeline for the yard cleanup.\n",
      "\n",
      "## Step 3: Remove debris\n",
      "- Start by removing any large debris such as fallen branches, leaves, and trash from the yard.\n",
      "- Use a rake or leaf blower to gather smaller debris into piles for easier disposal.\n",
      "\n",
      "## Step 4: Mow the lawn\n",
      "- Use a lawn mower to cut the grass to an appropriate length.\n",
      "- Trim the edges of the lawn for a clean and polished look.\n",
      "\n",
      "## Step 5: Trim bushes and hedges\n",
      "- Use pruning shears or a hedge trimmer to shape and trim bushes and hedges in the yard.\n",
      "- Remove any dead or overgrown branches to promote healthy growth.\n",
      "\n",
      "## Step 6: Weed the garden beds\n",
      "- Use a garden hoe or hand tools to remove weeds from garden beds.\n",
      "- Add mulch or compost to help prevent future weed growth and improve soil health.\n",
      "\n",
      "## Step 7: Clean up and dispose of yard waste\n",
      "- Bag up all the debris and yard waste for disposal.\n",
      "- Contact a local waste management company or schedule a pickup for yard waste removal.\n",
      "\n",
      "## Step 8: Final inspection\n",
      "- Walk around the yard to ensure all tasks have been completed to your satisfaction.\n",
      "- Make any final touch-ups or adjustments as needed.\n",
      "\n",
      "By following this step-by-step plan, you can efficiently clean up your yard and create a well-maintained outdoor space.\n"
     ]
    }
   ],
   "source": [
    "class Tool(BaseModel):\n",
    "    name: str\n",
    "    description: str\n",
    "    requires: str\n",
    "    func: Callable\n",
    "    \n",
    "test_tools = [\n",
    "    Tool(name=\"phone\", description=\"a way of making phone calls\", requires=\"phone_number\", func=lambda x:  \"they've got time\"),\n",
    "    Tool(name=\"local business lookup\", description=\"Look up businesses by category\", requires=\"business category\", func=lambda x:  \"Bills landscaping: 415-555-5555\")\n",
    "]\n",
    "with dspy.context(lm=wrkr):\n",
    "    Worker(\"assistant\", test_tools).forward(\"get this yard cleaned up.\")"
   ]
  },
  {
   "cell_type": "code",
   "execution_count": 175,
   "id": "3c777978-51e1-4f26-ac1c-80a6c422a400",
   "metadata": {},
   "outputs": [],
   "source": [
    "class Worker2(dspy.Module):\n",
    "    def __init__(self, role:str, tools:List):\n",
    "        self.role = role\n",
    "        self.tools = dict([(t.name, t) for t in tools])\n",
    "        self.tool_descriptions = \"\\n\".join([f\"- {t.name}: {t.description}. To use this tool please provide: `{t.requires}`\" for t in tools])\n",
    "        self._plan = dspy.ChainOfThought(Plan)\n",
    "        self._tool = dspy.ChainOfThought(\"task, context -> tool_name, tool_argument\")\n",
    "        self.execute_step = None\n",
    "        self.history = []\n",
    "        print(self.tool_descriptions)\n",
    "\n",
    "    def plan(self, task:str, feedback:Optional[str]=None):\n",
    "        context = f\"Your role:{self.role}\\n Tools at your disposal:\\n{self.tool_descriptions}\"\n",
    "        if feedback:\n",
    "            context += f\"\\nPrevious feedback on your prior plan {feedback}\"\n",
    "        input_args = dict(\n",
    "            task=task,\n",
    "            context=context\n",
    "        )    \n",
    "        result = self._plan(**input_args)\n",
    "        return result.proposed_plan\n",
    "\n",
    "    def execute(self, task:str):\n",
    "        print(f\"executing {task}\")\n",
    "        res = self._tool(task=task, context=self.tool_descriptions)\n",
    "        t = res.tool_name\n",
    "        arg = res.tool_argument\n",
    "        if t in self.tools:\n",
    "            complete = self.tools[t].func(arg)\n",
    "        else:\n",
    "            return f\"{t} with {arg} completed successfully\"\n",
    "        "
   ]
  },
  {
   "cell_type": "code",
   "execution_count": 176,
   "id": "fe8f3765-1830-48af-87f5-788bf78b6f01",
   "metadata": {},
   "outputs": [
    {
     "name": "stdout",
     "output_type": "stream",
     "text": [
      "- email: Send and receive emails. To use this tool please provide: `email_address`\n",
      "- schedule meeting: Schedule meetings. To use this tool please provide: `meeting_details`\n",
      "- cleaning supplies: List of cleaning supplies needed. To use this tool please provide: `cleaning_area`\n",
      "- maintenance report: Report maintenance issues. To use this tool please provide: `issue_description`\n",
      "- code compiler: Compile code. To use this tool please provide: `source_code`\n",
      "- bug tracker: Track and report bugs. To use this tool please provide: `bug_details`\n",
      "- recipe lookup: Look up recipes. To use this tool please provide: `dish_name`\n",
      "- kitchen inventory: Check kitchen inventory. To use this tool please provide: `ingredient`\n"
     ]
    }
   ],
   "source": [
    "email_tool = Tool(\n",
    "    name=\"email\",\n",
    "    description=\"Send and receive emails\",\n",
    "    requires=\"email_address\",\n",
    "    func=lambda x: f\"Email sent to {x}\"\n",
    ")\n",
    "\n",
    "schedule_meeting_tool = Tool(\n",
    "    name=\"schedule meeting\",\n",
    "    description=\"Schedule meetings\",\n",
    "    requires=\"meeting_details\",\n",
    "    func=lambda x: f\"Meeting scheduled on {x}\"\n",
    ")\n",
    "\n",
    "# Tools for the janitor\n",
    "cleaning_supplies_tool = Tool(\n",
    "    name=\"cleaning supplies\",\n",
    "    description=\"List of cleaning supplies needed\",\n",
    "    requires=\"cleaning_area\",\n",
    "    func=lambda x: f\"Need supplies for {x}\"\n",
    ")\n",
    "\n",
    "maintenance_report_tool = Tool(\n",
    "    name=\"maintenance report\",\n",
    "    description=\"Report maintenance issues\",\n",
    "    requires=\"issue_description\",\n",
    "    func=lambda x: f\"There's too much work for one person. I need help!\"\n",
    ")\n",
    "\n",
    "# Tools for the software engineer\n",
    "code_compiler_tool = Tool(\n",
    "    name=\"code compiler\",\n",
    "    description=\"Compile code\",\n",
    "    requires=\"source_code\",\n",
    "    func=lambda x: \"Code compiled successfully\"\n",
    ")\n",
    "\n",
    "bug_tracker_tool = Tool(\n",
    "    name=\"bug tracker\",\n",
    "    description=\"Track and report bugs\",\n",
    "    requires=\"bug_details\",\n",
    "    func=lambda x: f\"Bug reported: {x}\"\n",
    ")\n",
    "\n",
    "# Tools for the cook\n",
    "recipe_lookup_tool = Tool(\n",
    "    name=\"recipe lookup\",\n",
    "    description=\"Look up recipes\",\n",
    "    requires=\"dish_name\",\n",
    "    func=lambda x: f\"Recipe for {x} found\"\n",
    ")\n",
    "\n",
    "kitchen_inventory_tool = Tool(\n",
    "    name=\"kitchen inventory\",\n",
    "    description=\"Check kitchen inventory\",\n",
    "    requires=\"ingredient\",\n",
    "    func=lambda x: f\"Inventory checked for {x}\"\n",
    ")\n",
    "\n",
    "# Assign tools to workers\n",
    "workers = [\n",
    "    Worker2(\"assistant\", [email_tool, schedule_meeting_tool]),\n",
    "    Worker2(\"janitor\", [cleaning_supplies_tool, maintenance_report_tool]),\n",
    "    Worker2(\"software engineer\", [code_compiler_tool, bug_tracker_tool]),\n",
    "    Worker2(\"cook\", [recipe_lookup_tool, kitchen_inventory_tool])\n",
    "]"
   ]
  },
  {
   "cell_type": "code",
   "execution_count": 177,
   "id": "e32d6dea-0df0-4c5a-8670-49f4f2bb7a71",
   "metadata": {},
   "outputs": [],
   "source": [
    "class SubTask(BaseModel):\n",
    "    action:str\n",
    "    assignee: str\n",
    "    \n",
    "class Task(BaseModel):\n",
    "    sub_tasks:List[SubTask]\n",
    "    \n",
    "class ParsedPlan(BaseModel):\n",
    "    tasks: List[Task]"
   ]
  },
  {
   "cell_type": "code",
   "execution_count": 178,
   "id": "f68a8d21-7ffa-4d4a-9e32-ad9c4e9ee78e",
   "metadata": {},
   "outputs": [],
   "source": [
    "import instructor\n",
    "from openai import OpenAI\n",
    "_client = instructor.from_openai(OpenAI(base_url=\"http://0.0.0.0:4000/\"))\n",
    "\n",
    "def get_plan(plan:str, context:str):\n",
    "    return _client.chat.completions.create(\n",
    "        response_model=ParsedPlan,\n",
    "        model=\"gpt-3.5-turbo\",\n",
    "        messages=[\n",
    "            dict(role=\"system\", content=\"You help parse markdown into a structured format.\"),\n",
    "            dict(role=\"user\", content=f\"Here is the context about the plan: \\n{context} \\n\\n The plan: \\n\\n {plan}\")\n",
    "        ],\n",
    "    )"
   ]
  },
  {
   "cell_type": "code",
   "execution_count": 179,
   "id": "9b10b86b-7819-49cd-8a0f-e05366999671",
   "metadata": {},
   "outputs": [],
   "source": [
    "class Boss(dspy.Module):\n",
    "    def __init__(self, base_context:str, direct_reports=List, lm=bss):\n",
    "        self.base_context = base_context\n",
    "        self._plan = dspy.ChainOfThought(\"task, context -> assignee\")\n",
    "        self._approve = dspy.ChainOfThought(\"task, context -> approve\")\n",
    "        self._critique = dspy.ChainOfThought(\"task, context -> critique\")\n",
    "        self.reports = dict((d.role,d) for d in direct_reports)\n",
    "        self.lm = lm\n",
    "        report_capabilities = []\n",
    "        for r in direct_reports:\n",
    "            report_capabilities.append(f\"{r.role} has the follow tools:\\n{r.tool_descriptions}\")\n",
    "\n",
    "        self.report_capabilities = \"\\n\".join(report_capabilities) \n",
    "\n",
    "        print(self.report_capabilities)\n",
    "        \n",
    "    def critique(self, task:str, plan:str, extra_context:Optional[str]=None):\n",
    "        context=self.base_context\n",
    "        if extra_context:\n",
    "            context += \"\\n\"\n",
    "            context += extra_context\n",
    "        \n",
    "        crit_args = dict(\n",
    "            context=context,\n",
    "            task=task,\n",
    "            proposed_plan=plan)\n",
    "        with dspy.context(lm=self.lm):\n",
    "            result = self._critique(**crit_args)\n",
    "        return result.critique\n",
    "\n",
    "    def approve(self, task:str, plan:str, extra_context:Optional[str]=None):\n",
    "        context=self.base_context + \"\\n You only approve plans after 2 iterations\"\n",
    "        if extra_context:\n",
    "            context += \"\\n\"\n",
    "            context += extra_context\n",
    "        \n",
    "        approval_args = dict(\n",
    "            context=context,\n",
    "            task=task,\n",
    "            proposed_plan=plan)\n",
    "\n",
    "        with dspy.context(lm=self.lm):\n",
    "            result = self._approve(**approval_args)\n",
    "\n",
    "        return result.approve        \n",
    "        \n",
    "\n",
    "    def plan(self, task:str):\n",
    "        context=self.base_context + f\"Here are your direct report capabilities: {self.report_capabilities}\"\n",
    "        \n",
    "        plan_args = dict(\n",
    "            context = context,\n",
    "            task=f\"Which person should take on the following task: {task}\"\n",
    "        )\n",
    "        assignee = self._plan(**plan_args).assignee\n",
    "        is_assigned = assignee.lower() in self.reports\n",
    "        report = None\n",
    "\n",
    "        print(\"assigning\")\n",
    "        for x in range(3):\n",
    "            if is_assigned:\n",
    "                report = self.reports[assignee]\n",
    "            else:\n",
    "                context += f\"\\n\\n you tried to assign to {assignee} but that's not a valid one. Think carefully and assign the proper report\"\n",
    "                plan_args = dict(\n",
    "                    context = context,\n",
    "                    task=f\"Which person should take on the following task: {task}\"\n",
    "                )\n",
    "                assignee = self._plan(**plan_args).assignee\n",
    "\n",
    "        assert report, \"Failed to assign\"\n",
    "        print(\"assigning complete\")\n",
    "    \n",
    "        print(\"planning\")\n",
    "        reports_plan = report.plan(task)\n",
    "        with dspy.context(lm=self.lm):\n",
    "            approval = self.approve(task, reports_plan)\n",
    "            is_approved = \"yes\" in approval.lower()\n",
    "        \n",
    "        for x in range(1):\n",
    "            print(f\"Cycle {x}: {approval}\")\n",
    "            if is_approved:\n",
    "                break\n",
    "            feedback = self.critique(task, reports_plan)\n",
    "            feedback = f\"Prior plan: {reports_plan}\\n Boss's Feedback: {feedback}\"\n",
    "            # print(feedback)\n",
    "            reports_plan = report.plan(task, feedback)\n",
    "            complete = f\"{feedback}\\n\\nNew plan:\\n\\n{reports_plan}\"\n",
    "            approval = self.approve(task, reports_plan)\n",
    "            is_approved = \"yes\" in approval.lower()\n",
    "            \n",
    "        parsed_plan = get_plan(reports_plan, f\"The assignee is: {assignee}. The rest of the team is: {self.report_capabilities}\")\n",
    "        for task in parsed_plan.tasks:\n",
    "            for sub_task in task.sub_tasks:\n",
    "                self.reports[sub_task.assignee].execute(sub_task.action)"
   ]
  },
  {
   "cell_type": "code",
   "execution_count": 180,
   "id": "6df9ca44-f03b-413c-9647-5310e48948c6",
   "metadata": {},
   "outputs": [
    {
     "name": "stdout",
     "output_type": "stream",
     "text": [
      "assistant has the follow tools:\n",
      "- email: Send and receive emails. To use this tool please provide: `email_address`\n",
      "- schedule meeting: Schedule meetings. To use this tool please provide: `meeting_details`\n",
      "janitor has the follow tools:\n",
      "- cleaning supplies: List of cleaning supplies needed. To use this tool please provide: `cleaning_area`\n",
      "- maintenance report: Report maintenance issues. To use this tool please provide: `issue_description`\n",
      "software engineer has the follow tools:\n",
      "- code compiler: Compile code. To use this tool please provide: `source_code`\n",
      "- bug tracker: Track and report bugs. To use this tool please provide: `bug_details`\n",
      "cook has the follow tools:\n",
      "- recipe lookup: Look up recipes. To use this tool please provide: `dish_name`\n",
      "- kitchen inventory: Check kitchen inventory. To use this tool please provide: `ingredient`\n"
     ]
    }
   ],
   "source": [
    "b = Boss(\"You are a boss that manages a team of people, you're responsible for them doing well and completing the tasks you are given.\", workers)"
   ]
  },
  {
   "cell_type": "code",
   "execution_count": 181,
   "id": "f891a4a0-08c3-42e5-b568-65efb55eff3b",
   "metadata": {},
   "outputs": [
    {
     "name": "stdout",
     "output_type": "stream",
     "text": [
      "assigning\n",
      "assigning complete\n",
      "planning\n",
      "Cycle 0: Pending on whether the task plan has undergone two thorough iterations. If yes, approve; if no, require further refinement.\n",
      "executing Assess the yard\n",
      "executing Gather cleaning supplies\n",
      "executing Start cleaning\n",
      "executing Inspect the yard\n",
      "executing Report any maintenance issues\n",
      "executing Dispose of cleaning supplies\n"
     ]
    }
   ],
   "source": [
    "b.plan(\"clean up the yard\")"
   ]
  },
  {
   "cell_type": "code",
   "execution_count": null,
   "id": "923ec331-6450-42d3-a9f6-1278bf998800",
   "metadata": {},
   "outputs": [],
   "source": []
  },
  {
   "cell_type": "code",
   "execution_count": null,
   "id": "be58fdbf-8df2-408a-a576-571246f976f0",
   "metadata": {},
   "outputs": [],
   "source": []
  },
  {
   "cell_type": "code",
   "execution_count": null,
   "id": "88daefa5-57ef-4318-9152-0b87458e43d3",
   "metadata": {},
   "outputs": [],
   "source": []
  }
 ],
 "metadata": {
  "kernelspec": {
   "display_name": "Python 3 (ipykernel)",
   "language": "python",
   "name": "python3"
  },
  "language_info": {
   "codemirror_mode": {
    "name": "ipython",
    "version": 3
   },
   "file_extension": ".py",
   "mimetype": "text/x-python",
   "name": "python",
   "nbconvert_exporter": "python",
   "pygments_lexer": "ipython3",
   "version": "3.11.5"
  }
 },
 "nbformat": 4,
 "nbformat_minor": 5
}
