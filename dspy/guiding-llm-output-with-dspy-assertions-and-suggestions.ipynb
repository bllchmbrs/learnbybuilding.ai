{
 "cells": [
  {
   "cell_type": "markdown",
   "id": "2dec93b0",
   "metadata": {},
   "source": [
    "If you would rather *read* this, you can find it on [LearnByBuilding.AI](https://learnbybuilding.ai/?ref=lbb-notebook). This notebook only contains code, to get some prose along with it, check out the tutorial posted there.\n",
    "\n",
    "If you like this content, [follow me on twitter](https://twitter.com/bllchmbrs) and [sign up for the newsletter](https://learnbybuilding.ai/newsletter?ref=lbb-notebook). I'm posting all week about DSPy and providing a lot of \"hard earned\" lessons that I've gotten from learning how to build with AI from RAG, to DSPy and everything in between."
   ]
  },
  {
   "cell_type": "code",
   "execution_count": 1,
   "id": "88feddd3",
   "metadata": {},
   "outputs": [],
   "source": [
    "%load_ext autoreload\n",
    "%autoreload 2"
   ]
  },
  {
   "cell_type": "code",
   "execution_count": 2,
   "id": "5965c130",
   "metadata": {},
   "outputs": [
    {
     "data": {
      "text/plain": [
       "True"
      ]
     },
     "execution_count": 2,
     "metadata": {},
     "output_type": "execute_result"
    }
   ],
   "source": [
    "from dotenv import load_dotenv\n",
    "load_dotenv()"
   ]
  },
  {
   "cell_type": "code",
   "execution_count": 3,
   "id": "4ef9ac61",
   "metadata": {},
   "outputs": [],
   "source": [
    "import dspy\n",
    "turbo = dspy.OpenAI(model='gpt-3.5-turbo', max_tokens=1000, api_base=\"http://0.0.0.0:4000\")\n",
    "dspy.settings.configure(lm=turbo)"
   ]
  },
  {
   "cell_type": "code",
   "execution_count": 4,
   "id": "acfd7388",
   "metadata": {},
   "outputs": [],
   "source": [
    "context = \"Provide a greeting!\""
   ]
  },
  {
   "cell_type": "code",
   "execution_count": 5,
   "id": "02d6868d",
   "metadata": {},
   "outputs": [
    {
     "name": "stdout",
     "output_type": "stream",
     "text": [
      "Predict(StringSignature(context -> greeting\n",
      "    instructions='Given the fields `context`, produce the fields `greeting`.'\n",
      "    context = Field(annotation=str required=True json_schema_extra={'__dspy_field_type': 'input', 'prefix': 'Context:', 'desc': '${context}'})\n",
      "    greeting = Field(annotation=str required=True json_schema_extra={'__dspy_field_type': 'output', 'prefix': 'Greeting:', 'desc': '${greeting}'})\n",
      "))\n"
     ]
    }
   ],
   "source": [
    "v1 = dspy.Predict(\"context -> greeting\")\n",
    "print(v1)"
   ]
  },
  {
   "cell_type": "code",
   "execution_count": 6,
   "id": "e5d185a9",
   "metadata": {},
   "outputs": [
    {
     "name": "stdout",
     "output_type": "stream",
     "text": [
      "Hello! How can I assist you today?\n"
     ]
    }
   ],
   "source": [
    "print(v1.forward(context=context).greeting)"
   ]
  },
  {
   "cell_type": "code",
   "execution_count": 7,
   "id": "043547ed",
   "metadata": {},
   "outputs": [],
   "source": [
    "class MakeGreeting(dspy.Module):\n",
    "    def __init__(self, invalid_greetings = []):\n",
    "        self.invalid_greetings = invalid_greetings\n",
    "        self.prog = dspy.ChainOfThought(\"context -> greeting\")\n",
    "\n",
    "    def forward(self, context):\n",
    "        return self.prog(context=context)"
   ]
  },
  {
   "cell_type": "code",
   "execution_count": 8,
   "id": "1e7d2ff0",
   "metadata": {},
   "outputs": [
    {
     "data": {
      "text/plain": [
       "Prediction(\n",
       "    rationale='produce the greeting. We need to consider the time of day, the formality of the situation, and the relationship between the speaker and the listener.',\n",
       "    greeting='Hello!'\n",
       ")"
      ]
     },
     "execution_count": 8,
     "metadata": {},
     "output_type": "execute_result"
    }
   ],
   "source": [
    "MakeGreeting().forward(context)"
   ]
  },
  {
   "cell_type": "code",
   "execution_count": 9,
   "id": "e0a05375",
   "metadata": {},
   "outputs": [],
   "source": [
    "class MakeGreeting2(dspy.Module):\n",
    "    def __init__(self, invalid_greetings = []):\n",
    "        self.invalid_greetings = invalid_greetings\n",
    "        self.prog = dspy.ChainOfThought(\"context -> greeting\")\n",
    "\n",
    "    def forward(self, context):\n",
    "        result = self.prog(context=context)\n",
    "        _greeting = result.greeting\n",
    "        print(_greeting)\n",
    "        greeting_violations = list(filter(lambda x: x.lower() in _greeting.lower(), self.invalid_greetings))\n",
    "        print(greeting_violations)\n",
    "        formatted = \", \".join(greeting_violations)\n",
    "        dspy.Suggest(not bool(greeting_violations), f\"Greetings like {formatted} are so bad, provide a different greeting.\")\n",
    "        return result"
   ]
  },
  {
   "cell_type": "code",
   "execution_count": 10,
   "id": "1f1d8247",
   "metadata": {},
   "outputs": [
    {
     "name": "stderr",
     "output_type": "stream",
     "text": [
      "ERROR:dspy.primitives.assertions:\u001b[2m2024-05-21T17:45:57.966687Z\u001b[0m [\u001b[31m\u001b[1merror    \u001b[0m] \u001b[1mSuggestionFailed: Greetings like hello are so bad, provide a different greeting.\u001b[0m [\u001b[0m\u001b[1m\u001b[34mdspy.primitives.assertions\u001b[0m]\u001b[0m \u001b[36mfilename\u001b[0m=\u001b[35massertions.py\u001b[0m \u001b[36mlineno\u001b[0m=\u001b[35m111\u001b[0m\n"
     ]
    },
    {
     "name": "stdout",
     "output_type": "stream",
     "text": [
      "Hello!\n",
      "['hello']\n",
      "Good morning!\n",
      "[]\n"
     ]
    },
    {
     "data": {
      "text/plain": [
       "Prediction(\n",
       "    greeting='Good morning!'\n",
       ")"
      ]
     },
     "execution_count": 10,
     "metadata": {},
     "output_type": "execute_result"
    }
   ],
   "source": [
    "g2 = MakeGreeting2(invalid_greetings=['hello']).activate_assertions()\n",
    "g2.forward(context)"
   ]
  },
  {
   "cell_type": "code",
   "execution_count": 11,
   "id": "d38f60b0",
   "metadata": {},
   "outputs": [
    {
     "name": "stdout",
     "output_type": "stream",
     "text": [
      "\n",
      "\n",
      "\n",
      "Given the fields `context`, produce the fields `greeting`.\n",
      "\n",
      "---\n",
      "\n",
      "Follow the following format.\n",
      "\n",
      "Context: ${context}\n",
      "\n",
      "Past Greeting: past output with errors\n",
      "\n",
      "Instructions: Some instructions you must satisfy\n",
      "\n",
      "Greeting: ${greeting}\n",
      "\n",
      "---\n",
      "\n",
      "Context: Provide a greeting!\n",
      "\n",
      "Past Greeting: Hello!\n",
      "\n",
      "Instructions: Greetings like hello are so bad, provide a different greeting.\n",
      "\n",
      "Greeting:\u001b[32m Good morning!\u001b[0m\n",
      "\n",
      "\n",
      "\n"
     ]
    },
    {
     "data": {
      "text/plain": [
       "'\\n\\n\\nGiven the fields `context`, produce the fields `greeting`.\\n\\n---\\n\\nFollow the following format.\\n\\nContext: ${context}\\n\\nPast Greeting: past output with errors\\n\\nInstructions: Some instructions you must satisfy\\n\\nGreeting: ${greeting}\\n\\n---\\n\\nContext: Provide a greeting!\\n\\nPast Greeting: Hello!\\n\\nInstructions: Greetings like hello are so bad, provide a different greeting.\\n\\nGreeting:\\x1b[32m Good morning!\\x1b[0m\\n\\n\\n'"
      ]
     },
     "execution_count": 11,
     "metadata": {},
     "output_type": "execute_result"
    }
   ],
   "source": [
    "turbo.inspect_history()"
   ]
  },
  {
   "cell_type": "code",
   "execution_count": 12,
   "id": "b39d829b",
   "metadata": {},
   "outputs": [],
   "source": [
    "class MakeGreeting3(dspy.Module):\n",
    "    def __init__(self, invalid_greetings = []):\n",
    "        self.invalid_greetings = invalid_greetings\n",
    "        self.prog = dspy.ChainOfThought(\"context -> greeting\")\n",
    "        self.prev_greetings = []\n",
    "\n",
    "    def forward(self, context):\n",
    "        result = self.prog(context=context)\n",
    "        self.prev_greetings.append(result.greeting)\n",
    "        _greeting = result.greeting\n",
    "        print(_greeting)\n",
    "        greeting_violations = list(filter(lambda x: x.lower() in _greeting.lower(), self.invalid_greetings))\n",
    "        print(greeting_violations)\n",
    "        formatted = \", \".join(greeting_violations)\n",
    "        dspy.Assert(not bool(greeting_violations), f\"Greetings like {formatted} are so bad, provide a different greeting.\")\n",
    "        \n",
    "        return result"
   ]
  },
  {
   "cell_type": "code",
   "execution_count": 13,
   "id": "34b87101",
   "metadata": {},
   "outputs": [
    {
     "name": "stderr",
     "output_type": "stream",
     "text": [
      "ERROR:dspy.primitives.assertions:\u001b[2m2024-05-21T17:45:59.082076Z\u001b[0m [\u001b[31m\u001b[1merror    \u001b[0m] \u001b[1mAssertionError: Greetings like hello are so bad, provide a different greeting.\u001b[0m [\u001b[0m\u001b[1m\u001b[34mdspy.primitives.assertions\u001b[0m]\u001b[0m \u001b[36mfilename\u001b[0m=\u001b[35massertions.py\u001b[0m \u001b[36mlineno\u001b[0m=\u001b[35m88\u001b[0m\n"
     ]
    },
    {
     "name": "stdout",
     "output_type": "stream",
     "text": [
      "Hello!\n",
      "['hello']\n",
      "Good morning!\n",
      "[]\n"
     ]
    },
    {
     "data": {
      "text/plain": [
       "Prediction(\n",
       "    greeting='Good morning!'\n",
       ")"
      ]
     },
     "execution_count": 13,
     "metadata": {},
     "output_type": "execute_result"
    }
   ],
   "source": [
    "g3 = MakeGreeting3(invalid_greetings=['hello']).activate_assertions()\n",
    "\n",
    "g3.forward(context)"
   ]
  },
  {
   "cell_type": "code",
   "execution_count": 14,
   "id": "5a43268f",
   "metadata": {},
   "outputs": [],
   "source": [
    "class MakeGreeting4(dspy.Module):\n",
    "    def __init__(self, invalid_greetings = []):\n",
    "        self.invalid_greetings = invalid_greetings\n",
    "        self.prog = dspy.ChainOfThought(\"context -> greeting\")\n",
    "        self.prev_greetings = []\n",
    "\n",
    "    def forward(self, context):\n",
    "        result = self.prog(context=context)\n",
    "        self.prev_greetings.append(result.greeting)\n",
    "        _greeting = result.greeting\n",
    "        print(_greeting)\n",
    "        greeting_violations = list(filter(lambda x: x.lower() in _greeting.lower(), self.invalid_greetings))\n",
    "        print(greeting_violations)\n",
    "        formatted = \", \".join(greeting_violations)\n",
    "        formatted_prev = \", \".join(self.prev_greetings)\n",
    "        dspy.Suggest(not bool(greeting_violations), f\"Greetings like {formatted} are so bad, provide a different greeting.\")\n",
    "        dspy.Suggest(not _greeting in self.prev_greetings, f\"You've already used the greetings: {formatted_prev}, provide a different greeting.\")\n",
    "        \n",
    "        return result"
   ]
  },
  {
   "cell_type": "code",
   "execution_count": 15,
   "id": "3575a7af",
   "metadata": {},
   "outputs": [
    {
     "name": "stderr",
     "output_type": "stream",
     "text": [
      "ERROR:dspy.primitives.assertions:\u001b[2m2024-05-21T17:45:59.873222Z\u001b[0m [\u001b[31m\u001b[1merror    \u001b[0m] \u001b[1mSuggestionFailed: Greetings like hello are so bad, provide a different greeting.\u001b[0m [\u001b[0m\u001b[1m\u001b[34mdspy.primitives.assertions\u001b[0m]\u001b[0m \u001b[36mfilename\u001b[0m=\u001b[35massertions.py\u001b[0m \u001b[36mlineno\u001b[0m=\u001b[35m111\u001b[0m\n",
      "ERROR:dspy.primitives.assertions:\u001b[2m2024-05-21T17:45:59.875670Z\u001b[0m [\u001b[31m\u001b[1merror    \u001b[0m] \u001b[1mSuggestionFailed: You've already used the greetings: Hello!, Good morning!, provide a different greeting.\u001b[0m [\u001b[0m\u001b[1m\u001b[34mdspy.primitives.assertions\u001b[0m]\u001b[0m \u001b[36mfilename\u001b[0m=\u001b[35massertions.py\u001b[0m \u001b[36mlineno\u001b[0m=\u001b[35m111\u001b[0m\n",
      "ERROR:dspy.primitives.assertions:\u001b[2m2024-05-21T17:45:59.882794Z\u001b[0m [\u001b[31m\u001b[1merror    \u001b[0m] \u001b[1mSuggestionFailed: You've already used the greetings: Hello!, Good morning!, Good afternoon!, provide a different greeting.\u001b[0m [\u001b[0m\u001b[1m\u001b[34mdspy.primitives.assertions\u001b[0m]\u001b[0m \u001b[36mfilename\u001b[0m=\u001b[35massertions.py\u001b[0m \u001b[36mlineno\u001b[0m=\u001b[35m108\u001b[0m\n"
     ]
    },
    {
     "name": "stdout",
     "output_type": "stream",
     "text": [
      "Hello!\n",
      "['hello']\n",
      "Good morning!\n",
      "[]\n",
      "Good afternoon!\n",
      "[]\n"
     ]
    },
    {
     "data": {
      "text/plain": [
       "Prediction(\n",
       "    greeting='Good afternoon!'\n",
       ")"
      ]
     },
     "execution_count": 15,
     "metadata": {},
     "output_type": "execute_result"
    }
   ],
   "source": [
    "mg4 = MakeGreeting4(invalid_greetings=['hello']).activate_assertions()\n",
    "mg4.forward(context)"
   ]
  },
  {
   "cell_type": "code",
   "execution_count": 16,
   "id": "60b3a736",
   "metadata": {},
   "outputs": [
    {
     "name": "stderr",
     "output_type": "stream",
     "text": [
      "ERROR:dspy.primitives.assertions:\u001b[2m2024-05-21T17:46:00.327864Z\u001b[0m [\u001b[31m\u001b[1merror    \u001b[0m] \u001b[1mSuggestionFailed: Greetings like hello are so bad, provide a different greeting.\u001b[0m [\u001b[0m\u001b[1m\u001b[34mdspy.primitives.assertions\u001b[0m]\u001b[0m \u001b[36mfilename\u001b[0m=\u001b[35massertions.py\u001b[0m \u001b[36mlineno\u001b[0m=\u001b[35m111\u001b[0m\n",
      "ERROR:dspy.primitives.assertions:\u001b[2m2024-05-21T17:46:00.332009Z\u001b[0m [\u001b[31m\u001b[1merror    \u001b[0m] \u001b[1mSuggestionFailed: You've already used the greetings: Hello!, Good morning!, Good afternoon!, Hello!, Good morning!, provide a different greeting.\u001b[0m [\u001b[0m\u001b[1m\u001b[34mdspy.primitives.assertions\u001b[0m]\u001b[0m \u001b[36mfilename\u001b[0m=\u001b[35massertions.py\u001b[0m \u001b[36mlineno\u001b[0m=\u001b[35m111\u001b[0m\n",
      "ERROR:dspy.primitives.assertions:\u001b[2m2024-05-21T17:46:00.339213Z\u001b[0m [\u001b[31m\u001b[1merror    \u001b[0m] \u001b[1mSuggestionFailed: You've already used the greetings: Hello!, Good morning!, Good afternoon!, Hello!, Good morning!, Good day!, provide a different greeting.\u001b[0m [\u001b[0m\u001b[1m\u001b[34mdspy.primitives.assertions\u001b[0m]\u001b[0m \u001b[36mfilename\u001b[0m=\u001b[35massertions.py\u001b[0m \u001b[36mlineno\u001b[0m=\u001b[35m108\u001b[0m\n"
     ]
    },
    {
     "name": "stdout",
     "output_type": "stream",
     "text": [
      "Hello!\n",
      "['hello']\n",
      "Good morning!\n",
      "[]\n",
      "Good day!\n",
      "[]\n"
     ]
    },
    {
     "data": {
      "text/plain": [
       "Prediction(\n",
       "    greeting='Good day!'\n",
       ")"
      ]
     },
     "execution_count": 16,
     "metadata": {},
     "output_type": "execute_result"
    }
   ],
   "source": [
    "mg4.forward(context)"
   ]
  },
  {
   "cell_type": "code",
   "execution_count": 17,
   "id": "33dffbab",
   "metadata": {},
   "outputs": [],
   "source": [
    "from dspy.primitives.assertions import assert_transform_module, backtrack_handler\n",
    "from functools import partial\n",
    "\n",
    "one_retry = partial(backtrack_handler, max_backtracks=1)\n",
    "g4_with_assert_1_retry = assert_transform_module(MakeGreeting4(), one_retry)"
   ]
  },
  {
   "cell_type": "code",
   "execution_count": 18,
   "id": "201e654f",
   "metadata": {},
   "outputs": [
    {
     "name": "stderr",
     "output_type": "stream",
     "text": [
      "ERROR:dspy.primitives.assertions:\u001b[2m2024-05-21T17:46:03.433354Z\u001b[0m [\u001b[31m\u001b[1merror    \u001b[0m] \u001b[1mSuggestionFailed: You've already used the greetings: Hello!, provide a different greeting.\u001b[0m [\u001b[0m\u001b[1m\u001b[34mdspy.primitives.assertions\u001b[0m]\u001b[0m \u001b[36mfilename\u001b[0m=\u001b[35massertions.py\u001b[0m \u001b[36mlineno\u001b[0m=\u001b[35m111\u001b[0m\n",
      "ERROR:dspy.primitives.assertions:\u001b[2m2024-05-21T17:46:03.440421Z\u001b[0m [\u001b[31m\u001b[1merror    \u001b[0m] \u001b[1mSuggestionFailed: You've already used the greetings: Hello!, Hi there!, provide a different greeting.\u001b[0m [\u001b[0m\u001b[1m\u001b[34mdspy.primitives.assertions\u001b[0m]\u001b[0m \u001b[36mfilename\u001b[0m=\u001b[35massertions.py\u001b[0m \u001b[36mlineno\u001b[0m=\u001b[35m108\u001b[0m\n"
     ]
    },
    {
     "name": "stdout",
     "output_type": "stream",
     "text": [
      "Hello!\n",
      "[]\n",
      "Hi there!\n",
      "[]\n"
     ]
    },
    {
     "data": {
      "text/plain": [
       "Prediction(\n",
       "    greeting='Hi there!'\n",
       ")"
      ]
     },
     "execution_count": 18,
     "metadata": {},
     "output_type": "execute_result"
    }
   ],
   "source": [
    "g4_with_assert_1_retry.forward(context)"
   ]
  },
  {
   "cell_type": "markdown",
   "id": "be7a58a7",
   "metadata": {},
   "source": [
    "Follow along for subsequent tutorials on:\n",
    "\n",
    "1. Automatically optimizing prompts\n",
    "2. Customizing input to DSPy\n",
    "3. Saving prompts to use in LangChain or LlamaIndex\n",
    "4. Tuning and using open source models\n",
    "\n",
    "Cheers,\n",
    "[Bill](https://twitter.com/bllchmbrs) - [Learn By Building AI](https://learnbybuilding.ai/?ref=lbb-notebook)"
   ]
  }
 ],
 "metadata": {
  "kernelspec": {
   "display_name": "lbb",
   "language": "python",
   "name": "python3"
  },
  "language_info": {
   "codemirror_mode": {
    "name": "ipython",
    "version": 3
   },
   "file_extension": ".py",
   "mimetype": "text/x-python",
   "name": "python",
   "nbconvert_exporter": "python",
   "pygments_lexer": "ipython3",
   "version": "3.11.5"
  }
 },
 "nbformat": 4,
 "nbformat_minor": 5
}
